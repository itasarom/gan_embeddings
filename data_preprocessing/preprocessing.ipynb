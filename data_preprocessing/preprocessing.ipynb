{
 "cells": [
  {
   "cell_type": "code",
   "execution_count": 1,
   "metadata": {
    "collapsed": false
   },
   "outputs": [],
   "source": [
    "import numpy as np\n",
    "import pandas as pd\n",
    "\n",
    "import matplotlib.pyplot as plt\n",
    "\n",
    "from collections import namedtuple\n",
    "\n",
    "%matplotlib inline\n",
    "%load_ext autoreload\n",
    "%autoreload 2"
   ]
  },
  {
   "cell_type": "code",
   "execution_count": 2,
   "metadata": {
    "collapsed": true
   },
   "outputs": [],
   "source": [
    "import json"
   ]
  },
  {
   "cell_type": "code",
   "execution_count": 3,
   "metadata": {
    "collapsed": false
   },
   "outputs": [
    {
     "name": "stdout",
     "output_type": "stream",
     "text": [
      "contents.tsv\tembeddings.vec\ten_texts.tsv.gz  texts.tsv\r\n",
      "embeddings.bin\ten_labling.tsv\tlabels.tsv\r\n"
     ]
    }
   ],
   "source": [
    "!ls ../data_texts/en"
   ]
  },
  {
   "cell_type": "markdown",
   "metadata": {},
   "source": [
    "# Data format\n",
    "* format_1:\n",
    "no punctuation\n",
    "\n",
    "__label__"
   ]
  },
  {
   "cell_type": "code",
   "execution_count": 4,
   "metadata": {
    "collapsed": false
   },
   "outputs": [],
   "source": [
    "en = pd.read_csv(\"../data_texts/en/texts.tsv\", sep='\\t', header=None)"
   ]
  },
  {
   "cell_type": "code",
   "execution_count": 5,
   "metadata": {
    "collapsed": false
   },
   "outputs": [
    {
     "data": {
      "text/plain": [
       "array(['animals', 'arts', 'books', 'business', 'cars', 'celebrities',\n",
       "       'design_architecture', 'diy', 'food', 'funny', 'gaming', 'health',\n",
       "       'home', 'incidents', 'movies', 'music', 'other', 'photography',\n",
       "       'politic', 'relationship', 'science', 'social', 'sport', 'style',\n",
       "       'tech', 'travel', 'war'], dtype=object)"
      ]
     },
     "execution_count": 5,
     "metadata": {},
     "output_type": "execute_result"
    }
   ],
   "source": [
    "np.unique(en[1])"
   ]
  },
  {
   "cell_type": "code",
   "execution_count": 6,
   "metadata": {
    "collapsed": false
   },
   "outputs": [],
   "source": [
    "es = pd.read_csv(\"../data_texts/es/texts.tsv\", sep='\\t', header=None, encoding='utf8')"
   ]
  },
  {
   "cell_type": "code",
   "execution_count": 7,
   "metadata": {
    "collapsed": false
   },
   "outputs": [
    {
     "data": {
      "text/plain": [
       "array(['animals', 'arts', 'books', 'business', 'cars', 'celebrities',\n",
       "       'design_architecture', 'diy', 'food', 'funny', 'gaming', 'health',\n",
       "       'home', 'incidents', 'movies', 'music', 'other', 'photography',\n",
       "       'politic', 'relationship', 'science', 'social', 'sport', 'style',\n",
       "       'tech', 'travel', 'war'], dtype=object)"
      ]
     },
     "execution_count": 7,
     "metadata": {},
     "output_type": "execute_result"
    }
   ],
   "source": [
    "np.unique(es[1])"
   ]
  },
  {
   "cell_type": "code",
   "execution_count": 8,
   "metadata": {
    "collapsed": true
   },
   "outputs": [],
   "source": [
    "tr = pd.read_csv(\"../data_texts/tr/texts.tsv\", sep='\\t', header=None, encoding='utf8')"
   ]
  },
  {
   "cell_type": "code",
   "execution_count": 9,
   "metadata": {
    "collapsed": false
   },
   "outputs": [
    {
     "data": {
      "text/plain": [
       "array(['animals', 'arts', 'books', 'business', 'cars', 'celebrities',\n",
       "       'design_architecture', 'diy', 'food', 'funny', 'gaming', 'health',\n",
       "       'home', 'incidents', 'movies', 'music', 'other', 'photography',\n",
       "       'politic', 'relationship', 'science', 'social', 'sport', 'style',\n",
       "       'tech', 'travel', 'war'], dtype=object)"
      ]
     },
     "execution_count": 9,
     "metadata": {},
     "output_type": "execute_result"
    }
   ],
   "source": [
    "np.unique(tr[1])"
   ]
  },
  {
   "cell_type": "code",
   "execution_count": 10,
   "metadata": {
    "collapsed": true
   },
   "outputs": [],
   "source": [
    "fr = pd.read_csv(\"../data_texts/fr/texts.tsv\", sep='\\t', header=None, encoding='utf8')"
   ]
  },
  {
   "cell_type": "code",
   "execution_count": 60,
   "metadata": {
    "collapsed": false
   },
   "outputs": [],
   "source": [
    "import re\n",
    "import string\n",
    "digits = set(string.digits)\n",
    "def normalize_sentence(sent):\n",
    "    try:\n",
    "        words = list(re.findall(r\"[\\w]+\", sent, flags=re.UNICODE))\n",
    "    except:\n",
    "        print(sent)\n",
    "        raise\n",
    "    words = list(map(lambda w: w.lower(), words))\n",
    "    numbers_filtered = []\n",
    "#     for word in words:\n",
    "#         if len(set(word) & digits) != 0:\n",
    "#             word = \"<NUM>\"\n",
    "#         numbers_filtered.append(word)\n",
    "    \n",
    "#     words = numbers_filtered\n",
    "    sent = \" \".join(words)\n",
    "    return sent"
   ]
  },
  {
   "cell_type": "code",
   "execution_count": 61,
   "metadata": {
    "collapsed": false
   },
   "outputs": [
    {
     "data": {
      "text/plain": [
       "'soyez le premier à réagir crédit photo reuters amsterdam reuters l action postnl a gagné plus de 11 mardi en bourse après un article de presse selon lequel son concurrent belge bpost a amélioré son projet de rachat du groupe néerlandais de courrier et de messagerie des négociations entre les deux sociétés avaient achoppé en mai sur plusieurs questions parmi lesquelles les engagements de retraites de postnl et le risque d objections des autorités néerlandaises le quotidien néerlandais het financieele dagblad a rapporté mardi que bpost était désormais prêt à débourser plus que les cinq à six euros par action offerts en mai et à apporter sa garantie inconditionnelle que les engagements de retraites de postnl envers ses salariés et anciens salariés seraient honorés en mai plusieurs analystes s étaient dits sceptiques sur l intérêt d un rapprochement entre les deux groupes estimant que bpost profitait simplement de la baisse du cours de bourse de postnl en clôture le titre postnl gagnait 11 39 à 4 7810 euros à la bourse d amsterdam a bruxelles bpost a abandonné 0 72 à 24 06 euros la capitalisation du groupe belge est plus de deux fois supérieure à celle du néerlandais nous ne nous reconnaissons pas dans l article et je n ai pas de commentaire à faire a dit une porte parole de postnl bpost s est refusé à tout commentaire thomas escritt marc angrand pour le service français click here for restriction 2016 reuters'"
      ]
     },
     "execution_count": 61,
     "metadata": {},
     "output_type": "execute_result"
    }
   ],
   "source": [
    "normalize_sentence(fr[3][13])"
   ]
  },
  {
   "cell_type": "code",
   "execution_count": 69,
   "metadata": {
    "collapsed": true
   },
   "outputs": [],
   "source": [
    "# def format_data(dataframe, file_name):\n",
    "#     pd.DataFrame(dataframe[3]).to_csv(file_name, header=None, index=None)\n",
    "\n"
   ]
  },
  {
   "cell_type": "code",
   "execution_count": 76,
   "metadata": {
    "collapsed": false
   },
   "outputs": [
    {
     "data": {
      "text/plain": [
       "0"
      ]
     },
     "execution_count": 76,
     "metadata": {},
     "output_type": "execute_result"
    }
   ],
   "source": [
    "np.count_nonzero(ma[].isna())"
   ]
  },
  {
   "cell_type": "code",
   "execution_count": null,
   "metadata": {
    "collapsed": false
   },
   "outputs": [],
   "source": []
  },
  {
   "cell_type": "code",
   "execution_count": 38,
   "metadata": {
    "collapsed": true
   },
   "outputs": [],
   "source": [
    "import json"
   ]
  },
  {
   "cell_type": "code",
   "execution_count": 39,
   "metadata": {
    "collapsed": true
   },
   "outputs": [],
   "source": [
    "def read_json(file_name):\n",
    "    f = open(file_name, \"r\")\n",
    "    result = []\n",
    "    for line in f:\n",
    "        current_data = json.loads(line)\n",
    "        result.append(current_data)\n",
    "    \n",
    "    return pd.DataFrame.from_dict(result)"
   ]
  },
  {
   "cell_type": "code",
   "execution_count": 40,
   "metadata": {
    "collapsed": false
   },
   "outputs": [],
   "source": [
    "ma = read_json(\"../data_texts/ma/yt_home_recommender_vvnikolaev_topics_malay_filtered\")"
   ]
  },
  {
   "cell_type": "code",
   "execution_count": 41,
   "metadata": {
    "collapsed": false,
    "scrolled": true
   },
   "outputs": [
    {
     "data": {
      "text/html": [
       "<div>\n",
       "<style scoped>\n",
       "    .dataframe tbody tr th:only-of-type {\n",
       "        vertical-align: middle;\n",
       "    }\n",
       "\n",
       "    .dataframe tbody tr th {\n",
       "        vertical-align: top;\n",
       "    }\n",
       "\n",
       "    .dataframe thead th {\n",
       "        text-align: right;\n",
       "    }\n",
       "</style>\n",
       "<table border=\"1\" class=\"dataframe\">\n",
       "  <thead>\n",
       "    <tr style=\"text-align: right;\">\n",
       "      <th></th>\n",
       "      <th>content</th>\n",
       "      <th>img</th>\n",
       "      <th>language</th>\n",
       "      <th>title</th>\n",
       "      <th>translations</th>\n",
       "      <th>url</th>\n",
       "    </tr>\n",
       "  </thead>\n",
       "  <tbody>\n",
       "    <tr>\n",
       "      <th>0</th>\n",
       "      <td>Naib Presiden PAS, Datuk Mohd Amar Abdullah be...</td>\n",
       "      <td>[]</td>\n",
       "      <td>MALAY</td>\n",
       "      <td>The Star sepatutnya lebih sensitif</td>\n",
       "      <td>{}</td>\n",
       "      <td>http://www.harakahdaily.net/index.php/berita/1...</td>\n",
       "    </tr>\n",
       "    <tr>\n",
       "      <th>1</th>\n",
       "      <td>TIADA lagi ketakutan kepada semua lapisan masy...</td>\n",
       "      <td>[https://avatars.mds.yandex.net/get-zen_doc/99...</td>\n",
       "      <td>MALAY</td>\n",
       "      <td>Konflik: Keadaan di Qatar semakin baik</td>\n",
       "      <td>{}</td>\n",
       "      <td>http://www.harakahdaily.net/index.php/berita/1...</td>\n",
       "    </tr>\n",
       "    <tr>\n",
       "      <th>2</th>\n",
       "      <td>Beliau mencatatkan penduduk Melayu tempatan me...</td>\n",
       "      <td>[]</td>\n",
       "      <td>MALAY</td>\n",
       "      <td>Sarawak berhak mempunyai syarikat minyak, gas ...</td>\n",
       "      <td>{}</td>\n",
       "      <td>http://www.harakahdaily.net/index.php/rss-hd/3...</td>\n",
       "    </tr>\n",
       "    <tr>\n",
       "      <th>3</th>\n",
       "      <td>Ahli Alternatif Riding Club atau ARC Serdang, ...</td>\n",
       "      <td>[https://avatars.mds.yandex.net/get-zen_doc/35...</td>\n",
       "      <td>MALAY</td>\n",
       "      <td>Bubur lambuk ARC Serdang</td>\n",
       "      <td>{}</td>\n",
       "      <td>http://www.harakahdaily.net/index.php/rss-hd/6...</td>\n",
       "    </tr>\n",
       "    <tr>\n",
       "      <th>4</th>\n",
       "      <td>BEBERAPA hari lagi kita akan meraikan kehadira...</td>\n",
       "      <td>[https://avatars.mds.yandex.net/get-zen_doc/11...</td>\n",
       "      <td>MALAY</td>\n",
       "      <td>Istimewanya melewatkan sahur</td>\n",
       "      <td>{}</td>\n",
       "      <td>http://www.harakahdaily.net/index.php/rss-hd/6...</td>\n",
       "    </tr>\n",
       "    <tr>\n",
       "      <th>5</th>\n",
       "      <td>Kuala Lumpur: Tidak banyak berselindung, Cheah...</td>\n",
       "      <td>[]</td>\n",
       "      <td>MALAY</td>\n",
       "      <td>Soon Kit sedia bentuk gandingan terbaik</td>\n",
       "      <td>{}</td>\n",
       "      <td>http://www.hmetro.com.my/arena/2017/06/236919/...</td>\n",
       "    </tr>\n",
       "    <tr>\n",
       "      <th>6</th>\n",
       "      <td>Menyajikan hidangan versatil dan unik pada pag...</td>\n",
       "      <td>[https://avatars.mds.yandex.net/get-zen_doc/59...</td>\n",
       "      <td>MALAY</td>\n",
       "      <td>Sajian raya 'luar biasa'</td>\n",
       "      <td>{}</td>\n",
       "      <td>http://www.hmetro.com.my/ekspresi/2017/06/2385...</td>\n",
       "    </tr>\n",
       "    <tr>\n",
       "      <th>7</th>\n",
       "      <td>Pesanan arwah ibu untuk menyimpan sampul duit ...</td>\n",
       "      <td>[https://avatars.mds.yandex.net/get-zen_doc/16...</td>\n",
       "      <td>MALAY</td>\n",
       "      <td>'Gila' sampul duit raya</td>\n",
       "      <td>{}</td>\n",
       "      <td>http://www.hmetro.com.my/geny/2017/06/238025/g...</td>\n",
       "    </tr>\n",
       "    <tr>\n",
       "      <th>8</th>\n",
       "      <td>CYBERSECURITY Malaysia menerima satu laporan d...</td>\n",
       "      <td>[https://avatars.mds.yandex.net/get-zen_doc/29...</td>\n",
       "      <td>MALAY</td>\n",
       "      <td>Sila lapor, jangan senyap saja</td>\n",
       "      <td>{}</td>\n",
       "      <td>http://www.hmetro.com.my/mutakhir/2017/05/2298...</td>\n",
       "    </tr>\n",
       "    <tr>\n",
       "      <th>9</th>\n",
       "      <td>UMAT Islam di negara ini perlu terus mengamalk...</td>\n",
       "      <td>[]</td>\n",
       "      <td>MALAY</td>\n",
       "      <td>Taksub melampau merosakkan Islam</td>\n",
       "      <td>{}</td>\n",
       "      <td>http://www.hmetro.com.my/mutakhir/2017/06/2362...</td>\n",
       "    </tr>\n",
       "    <tr>\n",
       "      <th>10</th>\n",
       "      <td>MAHKAMAH Tinggi Kota Kinabalu membenarkan perm...</td>\n",
       "      <td>[]</td>\n",
       "      <td>MALAY</td>\n",
       "      <td>Mahkamah benar guna geran tanah bayar ikat jamin</td>\n",
       "      <td>{}</td>\n",
       "      <td>http://www.hmetro.com.my/mutakhir/2017/06/2364...</td>\n",
       "    </tr>\n",
       "    <tr>\n",
       "      <th>11</th>\n",
       "      <td>London: Ashley Young menganggap kemenangan ber...</td>\n",
       "      <td>[https://avatars.mds.yandex.net/get-zen_doc/22...</td>\n",
       "      <td>MALAY</td>\n",
       "      <td>United membara</td>\n",
       "      <td>{}</td>\n",
       "      <td>http://www.hmetro.com.my/node/222963</td>\n",
       "    </tr>\n",
       "    <tr>\n",
       "      <th>12</th>\n",
       "      <td>Alor Gajah: Rokok bernilai kira-kira RM700,000...</td>\n",
       "      <td>[]</td>\n",
       "      <td>MALAY</td>\n",
       "      <td>Rampas rokok RM700,000</td>\n",
       "      <td>{}</td>\n",
       "      <td>http://www.hmetro.com.my/node/224021</td>\n",
       "    </tr>\n",
       "    <tr>\n",
       "      <th>13</th>\n",
       "      <td>Alor Setar: Muktamar Tahunan Dewan Pemuda PAS ...</td>\n",
       "      <td>[https://avatars.mds.yandex.net/get-zen_doc/61...</td>\n",
       "      <td>MALAY</td>\n",
       "      <td>Penghawa dingin rosak, muktamar Pemuda ditangguh</td>\n",
       "      <td>{}</td>\n",
       "      <td>http://www.hmetro.com.my/node/224908</td>\n",
       "    </tr>\n",
       "    <tr>\n",
       "      <th>14</th>\n",
       "      <td>Kuala Lumpur: Pelakon Elvina Muhammad menafika...</td>\n",
       "      <td>[https://avatars.mds.yandex.net/get-zen_doc/19...</td>\n",
       "      <td>MALAY</td>\n",
       "      <td>Tidak serius sekadar drama</td>\n",
       "      <td>{}</td>\n",
       "      <td>http://www.hmetro.com.my/node/225167</td>\n",
       "    </tr>\n",
       "    <tr>\n",
       "      <th>15</th>\n",
       "      <td>Segamat: Pekerja kedai menjual bahan binaan ma...</td>\n",
       "      <td>[https://avatars.mds.yandex.net/get-zen_doc/23...</td>\n",
       "      <td>MALAY</td>\n",
       "      <td>Ajal tergelincir dari tingkat satu</td>\n",
       "      <td>{}</td>\n",
       "      <td>http://www.hmetro.com.my/node/225198</td>\n",
       "    </tr>\n",
       "    <tr>\n",
       "      <th>16</th>\n",
       "      <td>Kota Bharu: Bekas jurulatih Kelantan Velizar P...</td>\n",
       "      <td>[https://avatars.mds.yandex.net/get-zen_doc/13...</td>\n",
       "      <td>MALAY</td>\n",
       "      <td>'Bayar hutang dulu...'</td>\n",
       "      <td>{}</td>\n",
       "      <td>http://www.hmetro.com.my/node/225275</td>\n",
       "    </tr>\n",
       "    <tr>\n",
       "      <th>17</th>\n",
       "      <td>Melaka: Mahkamah Majistret di sini, hari ini m...</td>\n",
       "      <td>[https://avatars.mds.yandex.net/get-zen_doc/13...</td>\n",
       "      <td>MALAY</td>\n",
       "      <td>Bekas AJK masjid direman empat hari [METROTV]</td>\n",
       "      <td>{}</td>\n",
       "      <td>http://www.hmetro.com.my/node/226334</td>\n",
       "    </tr>\n",
       "    <tr>\n",
       "      <th>18</th>\n",
       "      <td>Namanya kembali meniti di bibir peminat meneru...</td>\n",
       "      <td>[https://avatars.mds.yandex.net/get-zen_doc/11...</td>\n",
       "      <td>MALAY</td>\n",
       "      <td>Berkat jaga arwah ibu</td>\n",
       "      <td>{}</td>\n",
       "      <td>http://www.hmetro.com.my/rap/2017/07/241415/be...</td>\n",
       "    </tr>\n",
       "    <tr>\n",
       "      <th>19</th>\n",
       "      <td>âMAK kata dulu saya suka tiru bunyi lori apa...</td>\n",
       "      <td>[https://avatars.mds.yandex.net/get-zen_doc/19...</td>\n",
       "      <td>MALAY</td>\n",
       "      <td>Terbaiklah dik... [METROTV]</td>\n",
       "      <td>{}</td>\n",
       "      <td>http://www.hmetro.com.my/utama/2017/05/231780/...</td>\n",
       "    </tr>\n",
       "    <tr>\n",
       "      <th>20</th>\n",
       "      <td>MESKIPUN hidup dalam &amp;#39;dunia gelap&amp;#39; dan...</td>\n",
       "      <td>[]</td>\n",
       "      <td>MALAY</td>\n",
       "      <td>Yang cacat penglihatan gigih mengaji, kita? [M...</td>\n",
       "      <td>{}</td>\n",
       "      <td>http://www.hmetro.com.my/utama/2017/06/235924/...</td>\n",
       "    </tr>\n",
       "    <tr>\n",
       "      <th>21</th>\n",
       "      <td>ALOR SETAR: Dewan Himpunan Penyokong PAS (DHPP...</td>\n",
       "      <td>[https://avatars.mds.yandex.net/get-zen_doc/29...</td>\n",
       "      <td>MALAY</td>\n",
       "      <td>Bukan Islam dalam PAS mahu Mahfuz &amp;#39;bertaub...</td>\n",
       "      <td>{}</td>\n",
       "      <td>http://www.freemalaysiatoday.com/category/baha...</td>\n",
       "    </tr>\n",
       "    <tr>\n",
       "      <th>22</th>\n",
       "      <td>KUALA LUMPUR: Ketua jurulatih kebangsaan yang ...</td>\n",
       "      <td>[https://avatars.mds.yandex.net/get-zen_doc/16...</td>\n",
       "      <td>MALAY</td>\n",
       "      <td>Nelo Vingada tiba di KL untuk bimbing Harimau ...</td>\n",
       "      <td>{}</td>\n",
       "      <td>http://www.freemalaysiatoday.com/category/baha...</td>\n",
       "    </tr>\n",
       "    <tr>\n",
       "      <th>23</th>\n",
       "      <td>Ia tiba dalam sebuah kontena dari Australia te...</td>\n",
       "      <td>[https://avatars.mds.yandex.net/get-zen_doc/19...</td>\n",
       "      <td>MALAY</td>\n",
       "      <td>Peralatan canggih radar tentera hilang di pela...</td>\n",
       "      <td>{}</td>\n",
       "      <td>http://www.freemalaysiatoday.com/category/baha...</td>\n",
       "    </tr>\n",
       "    <tr>\n",
       "      <th>24</th>\n",
       "      <td>Bekas perdana menteri menceritakan bagaimana b...</td>\n",
       "      <td>[https://avatars.mds.yandex.net/get-zen_doc/22...</td>\n",
       "      <td>MALAY</td>\n",
       "      <td>Setahun saya cuba yakinkan mereka, Dr M mengen...</td>\n",
       "      <td>{}</td>\n",
       "      <td>http://www.freemalaysiatoday.com/category/baha...</td>\n",
       "    </tr>\n",
       "    <tr>\n",
       "      <th>25</th>\n",
       "      <td>Home/2017/6/artikel/Anwar Ibrahim Adalah Ketua...</td>\n",
       "      <td>[https://avatars.mds.yandex.net/get-zen_doc/11...</td>\n",
       "      <td>MALAY</td>\n",
       "      <td>Anwar Ibrahim Adalah Ketua Umum Pakatan</td>\n",
       "      <td>{}</td>\n",
       "      <td>https://babab.net/artikel/anwar-ibrahim-adalah...</td>\n",
       "    </tr>\n",
       "    <tr>\n",
       "      <th>26</th>\n",
       "      <td>Menteri Besar Selangor Mohamed Azmin Ali telah...</td>\n",
       "      <td>[https://avatars.mds.yandex.net/get-zen_doc/24...</td>\n",
       "      <td>MALAY</td>\n",
       "      <td>Azmin Layak Jadi Perdana Menteri Kata Syed Saddiq</td>\n",
       "      <td>{}</td>\n",
       "      <td>https://babab.net/artikel/azmin-layak-jadi-per...</td>\n",
       "    </tr>\n",
       "    <tr>\n",
       "      <th>27</th>\n",
       "      <td>Kementerian Pendidikan Arab Saudi Ahad meminta...</td>\n",
       "      <td>[https://avatars.mds.yandex.net/get-zen_doc/14...</td>\n",
       "      <td>MALAY</td>\n",
       "      <td>Buruknya Perangai Arab Bila Bermusuhan</td>\n",
       "      <td>{}</td>\n",
       "      <td>https://babab.net/artikel/buruknya-perangai-ar...</td>\n",
       "    </tr>\n",
       "    <tr>\n",
       "      <th>28</th>\n",
       "      <td>Sebagai blogger ramai yang telah mengetahui me...</td>\n",
       "      <td>[https://avatars.mds.yandex.net/get-zen_doc/10...</td>\n",
       "      <td>MALAY</td>\n",
       "      <td>Cara Buang Broken Link Di Blog</td>\n",
       "      <td>{}</td>\n",
       "      <td>https://babab.net/artikel/cara-buang-broken-li...</td>\n",
       "    </tr>\n",
       "    <tr>\n",
       "      <th>29</th>\n",
       "      <td>Salah sorang geng mengaji Alquran meninggal du...</td>\n",
       "      <td>[https://avatars.mds.yandex.net/get-zen_doc/25...</td>\n",
       "      <td>MALAY</td>\n",
       "      <td>Cara Jaga Kesihatan Mengikut Panduan Rasullah</td>\n",
       "      <td>{}</td>\n",
       "      <td>https://babab.net/artikel/cara-jaga-kesihatan-...</td>\n",
       "    </tr>\n",
       "    <tr>\n",
       "      <th>...</th>\n",
       "      <td>...</td>\n",
       "      <td>...</td>\n",
       "      <td>...</td>\n",
       "      <td>...</td>\n",
       "      <td>...</td>\n",
       "      <td>...</td>\n",
       "    </tr>\n",
       "    <tr>\n",
       "      <th>208412</th>\n",
       "      <td>MyBHA khuatir banyak hotel bertaraf 4 bintang ...</td>\n",
       "      <td>[https://avatars.mds.yandex.net/get-zen_doc/19...</td>\n",
       "      <td>MALAY</td>\n",
       "      <td>Bolehkah cukai pelancongan dilaksana 1 Ogos?</td>\n",
       "      <td>{}</td>\n",
       "      <td>http://www.freemalaysiatoday.com/category/baha...</td>\n",
       "    </tr>\n",
       "    <tr>\n",
       "      <th>208413</th>\n",
       "      <td>Zahid berkata pengesahan jawatan timbalan KPN ...</td>\n",
       "      <td>[https://avatars.mds.yandex.net/get-zen_doc/41...</td>\n",
       "      <td>MALAY</td>\n",
       "      <td>Jawatan timbalan KPN ke-2 mungkin akan wujud</td>\n",
       "      <td>{}</td>\n",
       "      <td>http://www.freemalaysiatoday.com/category/baha...</td>\n",
       "    </tr>\n",
       "    <tr>\n",
       "      <th>208414</th>\n",
       "      <td>Kadar kiraan hemoglobin yang normal ialah 14 h...</td>\n",
       "      <td>[http://s3media.freemalaysiatoday.com/wp-conte...</td>\n",
       "      <td>MALAY</td>\n",
       "      <td>Kadar hemoglobin rendah, tak boleh derma darah</td>\n",
       "      <td>{}</td>\n",
       "      <td>http://www.freemalaysiatoday.com/category/leis...</td>\n",
       "    </tr>\n",
       "    <tr>\n",
       "      <th>208415</th>\n",
       "      <td>Kampung-kampung ini mula mendapat kemudahan la...</td>\n",
       "      <td>[https://avatars.mds.yandex.net/get-zen_doc/16...</td>\n",
       "      <td>MALAY</td>\n",
       "      <td>Kampung di Negeri Sembilan dapat lampu jalan</td>\n",
       "      <td>{}</td>\n",
       "      <td>http://www.freemalaysiatoday.com/category/leis...</td>\n",
       "    </tr>\n",
       "    <tr>\n",
       "      <th>208416</th>\n",
       "      <td>Kamus awal ini memberikan kita gambaran bagaim...</td>\n",
       "      <td>[https://avatars.mds.yandex.net/get-zen_doc/23...</td>\n",
       "      <td>MALAY</td>\n",
       "      <td>Bahasa Melayu pada tahun 1521</td>\n",
       "      <td>{}</td>\n",
       "      <td>http://www.freemalaysiatoday.com/category/opin...</td>\n",
       "    </tr>\n",
       "    <tr>\n",
       "      <th>208417</th>\n",
       "      <td>TIDAK terpilihnya saya dalam senarai calon nai...</td>\n",
       "      <td>[https://avatars.mds.yandex.net/get-zen_doc/99...</td>\n",
       "      <td>MALAY</td>\n",
       "      <td>Saya berkewajipan untuk terus istiqamah</td>\n",
       "      <td>{}</td>\n",
       "      <td>http://www.harakahdaily.net/index.php/arkib/12...</td>\n",
       "    </tr>\n",
       "    <tr>\n",
       "      <th>208418</th>\n",
       "      <td>PELIK, Tan Sri Shahrir Abd Samad ialah Pengeru...</td>\n",
       "      <td>[]</td>\n",
       "      <td>MALAY</td>\n",
       "      <td>Siapa berkuasa di Felda, Shahrir atau Isa?</td>\n",
       "      <td>{}</td>\n",
       "      <td>http://www.harakahdaily.net/index.php/arkib/17...</td>\n",
       "    </tr>\n",
       "    <tr>\n",
       "      <th>208419</th>\n",
       "      <td>Hal ini dibuktikan oleh lebih daripada 250,000...</td>\n",
       "      <td>[]</td>\n",
       "      <td>MALAY</td>\n",
       "      <td>250,000 solat tarawih di Al-Aqsa awal Ramadhan</td>\n",
       "      <td>{}</td>\n",
       "      <td>http://www.harakahdaily.net/index.php/berita/1...</td>\n",
       "    </tr>\n",
       "    <tr>\n",
       "      <th>208420</th>\n",
       "      <td>MARAH adalah akibat ledakan luar biasa emosi y...</td>\n",
       "      <td>[https://avatars.mds.yandex.net/get-zen_doc/99...</td>\n",
       "      <td>MALAY</td>\n",
       "      <td>Tip mengatasi perasaan marah</td>\n",
       "      <td>{}</td>\n",
       "      <td>http://www.harakahdaily.net/index.php/rss-hd/6...</td>\n",
       "    </tr>\n",
       "    <tr>\n",
       "      <th>208421</th>\n",
       "      <td>Kuala Terengganu: âDapatkan jaringan awal da...</td>\n",
       "      <td>[https://avatars.mds.yandex.net/get-zen_doc/97...</td>\n",
       "      <td>MALAY</td>\n",
       "      <td>Main ibarat pentas final</td>\n",
       "      <td>{}</td>\n",
       "      <td>http://www.hmetro.com.my/arena/2017/05/228959/...</td>\n",
       "    </tr>\n",
       "    <tr>\n",
       "      <th>208422</th>\n",
       "      <td>Colombo: Pasukan penyelamat di Sri Lanka menem...</td>\n",
       "      <td>[https://avatars.mds.yandex.net/get-zen_doc/60...</td>\n",
       "      <td>MALAY</td>\n",
       "      <td>151 maut, 112 masih hilang</td>\n",
       "      <td>{}</td>\n",
       "      <td>http://www.hmetro.com.my/global/2017/05/233183...</td>\n",
       "    </tr>\n",
       "    <tr>\n",
       "      <th>208423</th>\n",
       "      <td>Meletakkan keyakinan dalam penghasilan produk ...</td>\n",
       "      <td>[https://avatars.mds.yandex.net/get-zen_doc/40...</td>\n",
       "      <td>MALAY</td>\n",
       "      <td>Gincu cair tidak berkilat</td>\n",
       "      <td>{}</td>\n",
       "      <td>http://www.hmetro.com.my/hati/2017/05/232275/g...</td>\n",
       "    </tr>\n",
       "    <tr>\n",
       "      <th>208424</th>\n",
       "      <td>HASBULLAH Azhar, 26, menghasilkan percikan sep...</td>\n",
       "      <td>[https://avatars.mds.yandex.net/get-zen_doc/23...</td>\n",
       "      <td>MALAY</td>\n",
       "      <td>'Bunga api' berus periuk [IMEJ]</td>\n",
       "      <td>{}</td>\n",
       "      <td>http://www.hmetro.com.my/mutakhir/2017/06/2343...</td>\n",
       "    </tr>\n",
       "    <tr>\n",
       "      <th>208425</th>\n",
       "      <td>TIMBALAN Ketua Pengarah (Operasi) Agensi Pengu...</td>\n",
       "      <td>[https://avatars.mds.yandex.net/get-zen_doc/17...</td>\n",
       "      <td>MALAY</td>\n",
       "      <td>Zulkifili dilantik Ketua Pengarah APMM</td>\n",
       "      <td>{}</td>\n",
       "      <td>http://www.hmetro.com.my/mutakhir/2017/06/2344...</td>\n",
       "    </tr>\n",
       "    <tr>\n",
       "      <th>208426</th>\n",
       "      <td>SURUHANJAYA Pencegahan Rasuah Malaysia (SPRM) ...</td>\n",
       "      <td>[]</td>\n",
       "      <td>MALAY</td>\n",
       "      <td>&amp;#39;Kami akan buat secepat mungkin...&amp;#39;</td>\n",
       "      <td>{}</td>\n",
       "      <td>http://www.hmetro.com.my/mutakhir/2017/06/2365...</td>\n",
       "    </tr>\n",
       "    <tr>\n",
       "      <th>208427</th>\n",
       "      <td>Kerajaan Negeri Terengganu menggugurkan rancan...</td>\n",
       "      <td>[https://avatars.mds.yandex.net/get-zen_doc/22...</td>\n",
       "      <td>MALAY</td>\n",
       "      <td>Tak jadi besarkan landasan LTPR</td>\n",
       "      <td>{}</td>\n",
       "      <td>http://www.hmetro.com.my/mutakhir/2017/06/2411...</td>\n",
       "    </tr>\n",
       "    <tr>\n",
       "      <th>208428</th>\n",
       "      <td>Georgetown: Seorang kontraktor pembinaan maut ...</td>\n",
       "      <td>[https://avatars.mds.yandex.net/get-zen_doc/17...</td>\n",
       "      <td>MALAY</td>\n",
       "      <td>Kontraktor warga asing maut motor rempuh lori</td>\n",
       "      <td>{}</td>\n",
       "      <td>http://www.hmetro.com.my/node/224166</td>\n",
       "    </tr>\n",
       "    <tr>\n",
       "      <th>208429</th>\n",
       "      <td>Tuaran: Semangat juang tinggi membawa tuah bua...</td>\n",
       "      <td>[]</td>\n",
       "      <td>MALAY</td>\n",
       "      <td>Semangat juang tinggi azimat X-SMKTe</td>\n",
       "      <td>{}</td>\n",
       "      <td>http://www.hmetro.com.my/node/226591</td>\n",
       "    </tr>\n",
       "    <tr>\n",
       "      <th>208430</th>\n",
       "      <td>Prague: Juara Wimbledon dua kali Petra Kvitova...</td>\n",
       "      <td>[https://avatars.mds.yandex.net/get-zen_doc/11...</td>\n",
       "      <td>MALAY</td>\n",
       "      <td>Petra kembali beraksi!</td>\n",
       "      <td>{}</td>\n",
       "      <td>http://www.hmetro.com.my/node/226595</td>\n",
       "    </tr>\n",
       "    <tr>\n",
       "      <th>208431</th>\n",
       "      <td>MINAT mendalam terhadap warna merah jambu dan ...</td>\n",
       "      <td>[https://avatars.mds.yandex.net/get-zen_doc/11...</td>\n",
       "      <td>MALAY</td>\n",
       "      <td>Cinta Hello Kitty [METROTV]</td>\n",
       "      <td>{}</td>\n",
       "      <td>http://www.hmetro.com.my/setempat/2017/05/2281...</td>\n",
       "    </tr>\n",
       "    <tr>\n",
       "      <th>208432</th>\n",
       "      <td>Kuala Lumpur: Sultan Perak Sultan Nazrin Shah ...</td>\n",
       "      <td>[https://avatars.mds.yandex.net/get-zen_doc/17...</td>\n",
       "      <td>MALAY</td>\n",
       "      <td>Prestasi Kor Kesihatan Diraja dipuji</td>\n",
       "      <td>{}</td>\n",
       "      <td>http://www.hmetro.com.my/setempat/2017/05/2286...</td>\n",
       "    </tr>\n",
       "    <tr>\n",
       "      <th>208433</th>\n",
       "      <td>Gemas: Bagaikan berada di medan perang sebenar...</td>\n",
       "      <td>[https://avatars.mds.yandex.net/get-zen_doc/60...</td>\n",
       "      <td>MALAY</td>\n",
       "      <td>Gemas 'dibedil'</td>\n",
       "      <td>{}</td>\n",
       "      <td>http://www.hmetro.com.my/setempat/2017/05/2318...</td>\n",
       "    </tr>\n",
       "    <tr>\n",
       "      <th>208434</th>\n",
       "      <td>Petaling Jaya: Sanggup bersembunyi di bawah lo...</td>\n",
       "      <td>[https://avatars.mds.yandex.net/get-zen_doc/23...</td>\n",
       "      <td>MALAY</td>\n",
       "      <td>Macam-macam alasan [METROTV]</td>\n",
       "      <td>{}</td>\n",
       "      <td>http://www.hmetro.com.my/setempat/2017/07/2450...</td>\n",
       "    </tr>\n",
       "    <tr>\n",
       "      <th>208435</th>\n",
       "      <td>PEMANDU kereta yang dipukul jemaah di surau Au...</td>\n",
       "      <td>[https://avatars.mds.yandex.net/get-zen_doc/16...</td>\n",
       "      <td>MALAY</td>\n",
       "      <td>Mohon maaf, tiada niat singgung perasaan</td>\n",
       "      <td>{}</td>\n",
       "      <td>http://www.hmetro.com.my/utama/2017/05/228579/...</td>\n",
       "    </tr>\n",
       "    <tr>\n",
       "      <th>208436</th>\n",
       "      <td>Kuala Lumpur: Sepasang suami isteri yang juga ...</td>\n",
       "      <td>[https://avatars.mds.yandex.net/get-zen_doc/27...</td>\n",
       "      <td>MALAY</td>\n",
       "      <td>Tilawah cinta</td>\n",
       "      <td>{}</td>\n",
       "      <td>http://www.hmetro.com.my/utama/2017/05/230295/...</td>\n",
       "    </tr>\n",
       "    <tr>\n",
       "      <th>208437</th>\n",
       "      <td>Kuala Lumpur: Sepasang suami isteri tergamak m...</td>\n",
       "      <td>[https://avatars.mds.yandex.net/get-zen_doc/29...</td>\n",
       "      <td>MALAY</td>\n",
       "      <td>Mak bapak jahanam!</td>\n",
       "      <td>{}</td>\n",
       "      <td>http://www.hmetro.com.my/utama/2017/05/231937/...</td>\n",
       "    </tr>\n",
       "    <tr>\n",
       "      <th>208438</th>\n",
       "      <td>Burton-on-Trent, England: Penjaga gol Jack But...</td>\n",
       "      <td>[]</td>\n",
       "      <td>MALAY</td>\n",
       "      <td>Pengalaman berharga</td>\n",
       "      <td>{}</td>\n",
       "      <td>http://www.hmetro.com.my/utama/2017/06/235954/...</td>\n",
       "    </tr>\n",
       "    <tr>\n",
       "      <th>208439</th>\n",
       "      <td>London: Sewaktu Jordan Pickford menjadi tumpua...</td>\n",
       "      <td>[https://avatars.mds.yandex.net/get-zen_doc/20...</td>\n",
       "      <td>MALAY</td>\n",
       "      <td>Permata baru England</td>\n",
       "      <td>{}</td>\n",
       "      <td>http://www.hmetro.com.my/utama/2017/06/239044/...</td>\n",
       "    </tr>\n",
       "    <tr>\n",
       "      <th>208440</th>\n",
       "      <td>Selepas gandingannya dengan Fattah Amin dalam ...</td>\n",
       "      <td>[https://avatars.mds.yandex.net/get-zen_doc/23...</td>\n",
       "      <td>MALAY</td>\n",
       "      <td>Dapat hero baru</td>\n",
       "      <td>{}</td>\n",
       "      <td>http://www.hmetro.com.my/utama/2017/06/241066/...</td>\n",
       "    </tr>\n",
       "    <tr>\n",
       "      <th>208441</th>\n",
       "      <td>Legasi motosikal siri Ninja sejak mula dihasil...</td>\n",
       "      <td>[https://avatars.mds.yandex.net/get-zen_doc/40...</td>\n",
       "      <td>MALAY</td>\n",
       "      <td>Lincah dan tangkas</td>\n",
       "      <td>{}</td>\n",
       "      <td>http://www.hmetro.com.my/vroom/2017/07/241666/...</td>\n",
       "    </tr>\n",
       "  </tbody>\n",
       "</table>\n",
       "<p>208442 rows × 6 columns</p>\n",
       "</div>"
      ],
      "text/plain": [
       "                                                  content  \\\n",
       "0       Naib Presiden PAS, Datuk Mohd Amar Abdullah be...   \n",
       "1       TIADA lagi ketakutan kepada semua lapisan masy...   \n",
       "2       Beliau mencatatkan penduduk Melayu tempatan me...   \n",
       "3       Ahli Alternatif Riding Club atau ARC Serdang, ...   \n",
       "4       BEBERAPA hari lagi kita akan meraikan kehadira...   \n",
       "5       Kuala Lumpur: Tidak banyak berselindung, Cheah...   \n",
       "6       Menyajikan hidangan versatil dan unik pada pag...   \n",
       "7       Pesanan arwah ibu untuk menyimpan sampul duit ...   \n",
       "8       CYBERSECURITY Malaysia menerima satu laporan d...   \n",
       "9       UMAT Islam di negara ini perlu terus mengamalk...   \n",
       "10      MAHKAMAH Tinggi Kota Kinabalu membenarkan perm...   \n",
       "11      London: Ashley Young menganggap kemenangan ber...   \n",
       "12      Alor Gajah: Rokok bernilai kira-kira RM700,000...   \n",
       "13      Alor Setar: Muktamar Tahunan Dewan Pemuda PAS ...   \n",
       "14      Kuala Lumpur: Pelakon Elvina Muhammad menafika...   \n",
       "15      Segamat: Pekerja kedai menjual bahan binaan ma...   \n",
       "16      Kota Bharu: Bekas jurulatih Kelantan Velizar P...   \n",
       "17      Melaka: Mahkamah Majistret di sini, hari ini m...   \n",
       "18      Namanya kembali meniti di bibir peminat meneru...   \n",
       "19      âMAK kata dulu saya suka tiru bunyi lori apa...   \n",
       "20      MESKIPUN hidup dalam &#39;dunia gelap&#39; dan...   \n",
       "21      ALOR SETAR: Dewan Himpunan Penyokong PAS (DHPP...   \n",
       "22      KUALA LUMPUR: Ketua jurulatih kebangsaan yang ...   \n",
       "23      Ia tiba dalam sebuah kontena dari Australia te...   \n",
       "24      Bekas perdana menteri menceritakan bagaimana b...   \n",
       "25      Home/2017/6/artikel/Anwar Ibrahim Adalah Ketua...   \n",
       "26      Menteri Besar Selangor Mohamed Azmin Ali telah...   \n",
       "27      Kementerian Pendidikan Arab Saudi Ahad meminta...   \n",
       "28      Sebagai blogger ramai yang telah mengetahui me...   \n",
       "29      Salah sorang geng mengaji Alquran meninggal du...   \n",
       "...                                                   ...   \n",
       "208412  MyBHA khuatir banyak hotel bertaraf 4 bintang ...   \n",
       "208413  Zahid berkata pengesahan jawatan timbalan KPN ...   \n",
       "208414  Kadar kiraan hemoglobin yang normal ialah 14 h...   \n",
       "208415  Kampung-kampung ini mula mendapat kemudahan la...   \n",
       "208416  Kamus awal ini memberikan kita gambaran bagaim...   \n",
       "208417  TIDAK terpilihnya saya dalam senarai calon nai...   \n",
       "208418  PELIK, Tan Sri Shahrir Abd Samad ialah Pengeru...   \n",
       "208419  Hal ini dibuktikan oleh lebih daripada 250,000...   \n",
       "208420  MARAH adalah akibat ledakan luar biasa emosi y...   \n",
       "208421  Kuala Terengganu: âDapatkan jaringan awal da...   \n",
       "208422  Colombo: Pasukan penyelamat di Sri Lanka menem...   \n",
       "208423  Meletakkan keyakinan dalam penghasilan produk ...   \n",
       "208424  HASBULLAH Azhar, 26, menghasilkan percikan sep...   \n",
       "208425  TIMBALAN Ketua Pengarah (Operasi) Agensi Pengu...   \n",
       "208426  SURUHANJAYA Pencegahan Rasuah Malaysia (SPRM) ...   \n",
       "208427  Kerajaan Negeri Terengganu menggugurkan rancan...   \n",
       "208428  Georgetown: Seorang kontraktor pembinaan maut ...   \n",
       "208429  Tuaran: Semangat juang tinggi membawa tuah bua...   \n",
       "208430  Prague: Juara Wimbledon dua kali Petra Kvitova...   \n",
       "208431  MINAT mendalam terhadap warna merah jambu dan ...   \n",
       "208432  Kuala Lumpur: Sultan Perak Sultan Nazrin Shah ...   \n",
       "208433  Gemas: Bagaikan berada di medan perang sebenar...   \n",
       "208434  Petaling Jaya: Sanggup bersembunyi di bawah lo...   \n",
       "208435  PEMANDU kereta yang dipukul jemaah di surau Au...   \n",
       "208436  Kuala Lumpur: Sepasang suami isteri yang juga ...   \n",
       "208437  Kuala Lumpur: Sepasang suami isteri tergamak m...   \n",
       "208438  Burton-on-Trent, England: Penjaga gol Jack But...   \n",
       "208439  London: Sewaktu Jordan Pickford menjadi tumpua...   \n",
       "208440  Selepas gandingannya dengan Fattah Amin dalam ...   \n",
       "208441  Legasi motosikal siri Ninja sejak mula dihasil...   \n",
       "\n",
       "                                                      img language  \\\n",
       "0                                                      []    MALAY   \n",
       "1       [https://avatars.mds.yandex.net/get-zen_doc/99...    MALAY   \n",
       "2                                                      []    MALAY   \n",
       "3       [https://avatars.mds.yandex.net/get-zen_doc/35...    MALAY   \n",
       "4       [https://avatars.mds.yandex.net/get-zen_doc/11...    MALAY   \n",
       "5                                                      []    MALAY   \n",
       "6       [https://avatars.mds.yandex.net/get-zen_doc/59...    MALAY   \n",
       "7       [https://avatars.mds.yandex.net/get-zen_doc/16...    MALAY   \n",
       "8       [https://avatars.mds.yandex.net/get-zen_doc/29...    MALAY   \n",
       "9                                                      []    MALAY   \n",
       "10                                                     []    MALAY   \n",
       "11      [https://avatars.mds.yandex.net/get-zen_doc/22...    MALAY   \n",
       "12                                                     []    MALAY   \n",
       "13      [https://avatars.mds.yandex.net/get-zen_doc/61...    MALAY   \n",
       "14      [https://avatars.mds.yandex.net/get-zen_doc/19...    MALAY   \n",
       "15      [https://avatars.mds.yandex.net/get-zen_doc/23...    MALAY   \n",
       "16      [https://avatars.mds.yandex.net/get-zen_doc/13...    MALAY   \n",
       "17      [https://avatars.mds.yandex.net/get-zen_doc/13...    MALAY   \n",
       "18      [https://avatars.mds.yandex.net/get-zen_doc/11...    MALAY   \n",
       "19      [https://avatars.mds.yandex.net/get-zen_doc/19...    MALAY   \n",
       "20                                                     []    MALAY   \n",
       "21      [https://avatars.mds.yandex.net/get-zen_doc/29...    MALAY   \n",
       "22      [https://avatars.mds.yandex.net/get-zen_doc/16...    MALAY   \n",
       "23      [https://avatars.mds.yandex.net/get-zen_doc/19...    MALAY   \n",
       "24      [https://avatars.mds.yandex.net/get-zen_doc/22...    MALAY   \n",
       "25      [https://avatars.mds.yandex.net/get-zen_doc/11...    MALAY   \n",
       "26      [https://avatars.mds.yandex.net/get-zen_doc/24...    MALAY   \n",
       "27      [https://avatars.mds.yandex.net/get-zen_doc/14...    MALAY   \n",
       "28      [https://avatars.mds.yandex.net/get-zen_doc/10...    MALAY   \n",
       "29      [https://avatars.mds.yandex.net/get-zen_doc/25...    MALAY   \n",
       "...                                                   ...      ...   \n",
       "208412  [https://avatars.mds.yandex.net/get-zen_doc/19...    MALAY   \n",
       "208413  [https://avatars.mds.yandex.net/get-zen_doc/41...    MALAY   \n",
       "208414  [http://s3media.freemalaysiatoday.com/wp-conte...    MALAY   \n",
       "208415  [https://avatars.mds.yandex.net/get-zen_doc/16...    MALAY   \n",
       "208416  [https://avatars.mds.yandex.net/get-zen_doc/23...    MALAY   \n",
       "208417  [https://avatars.mds.yandex.net/get-zen_doc/99...    MALAY   \n",
       "208418                                                 []    MALAY   \n",
       "208419                                                 []    MALAY   \n",
       "208420  [https://avatars.mds.yandex.net/get-zen_doc/99...    MALAY   \n",
       "208421  [https://avatars.mds.yandex.net/get-zen_doc/97...    MALAY   \n",
       "208422  [https://avatars.mds.yandex.net/get-zen_doc/60...    MALAY   \n",
       "208423  [https://avatars.mds.yandex.net/get-zen_doc/40...    MALAY   \n",
       "208424  [https://avatars.mds.yandex.net/get-zen_doc/23...    MALAY   \n",
       "208425  [https://avatars.mds.yandex.net/get-zen_doc/17...    MALAY   \n",
       "208426                                                 []    MALAY   \n",
       "208427  [https://avatars.mds.yandex.net/get-zen_doc/22...    MALAY   \n",
       "208428  [https://avatars.mds.yandex.net/get-zen_doc/17...    MALAY   \n",
       "208429                                                 []    MALAY   \n",
       "208430  [https://avatars.mds.yandex.net/get-zen_doc/11...    MALAY   \n",
       "208431  [https://avatars.mds.yandex.net/get-zen_doc/11...    MALAY   \n",
       "208432  [https://avatars.mds.yandex.net/get-zen_doc/17...    MALAY   \n",
       "208433  [https://avatars.mds.yandex.net/get-zen_doc/60...    MALAY   \n",
       "208434  [https://avatars.mds.yandex.net/get-zen_doc/23...    MALAY   \n",
       "208435  [https://avatars.mds.yandex.net/get-zen_doc/16...    MALAY   \n",
       "208436  [https://avatars.mds.yandex.net/get-zen_doc/27...    MALAY   \n",
       "208437  [https://avatars.mds.yandex.net/get-zen_doc/29...    MALAY   \n",
       "208438                                                 []    MALAY   \n",
       "208439  [https://avatars.mds.yandex.net/get-zen_doc/20...    MALAY   \n",
       "208440  [https://avatars.mds.yandex.net/get-zen_doc/23...    MALAY   \n",
       "208441  [https://avatars.mds.yandex.net/get-zen_doc/40...    MALAY   \n",
       "\n",
       "                                                    title translations  \\\n",
       "0                      The Star sepatutnya lebih sensitif           {}   \n",
       "1                  Konflik: Keadaan di Qatar semakin baik           {}   \n",
       "2       Sarawak berhak mempunyai syarikat minyak, gas ...           {}   \n",
       "3                                Bubur lambuk ARC Serdang           {}   \n",
       "4                            Istimewanya melewatkan sahur           {}   \n",
       "5                 Soon Kit sedia bentuk gandingan terbaik           {}   \n",
       "6                                Sajian raya 'luar biasa'           {}   \n",
       "7                                 'Gila' sampul duit raya           {}   \n",
       "8                          Sila lapor, jangan senyap saja           {}   \n",
       "9                        Taksub melampau merosakkan Islam           {}   \n",
       "10       Mahkamah benar guna geran tanah bayar ikat jamin           {}   \n",
       "11                                         United membara           {}   \n",
       "12                                 Rampas rokok RM700,000           {}   \n",
       "13       Penghawa dingin rosak, muktamar Pemuda ditangguh           {}   \n",
       "14                             Tidak serius sekadar drama           {}   \n",
       "15                     Ajal tergelincir dari tingkat satu           {}   \n",
       "16                                 'Bayar hutang dulu...'           {}   \n",
       "17          Bekas AJK masjid direman empat hari [METROTV]           {}   \n",
       "18                                  Berkat jaga arwah ibu           {}   \n",
       "19                            Terbaiklah dik... [METROTV]           {}   \n",
       "20      Yang cacat penglihatan gigih mengaji, kita? [M...           {}   \n",
       "21      Bukan Islam dalam PAS mahu Mahfuz &#39;bertaub...           {}   \n",
       "22      Nelo Vingada tiba di KL untuk bimbing Harimau ...           {}   \n",
       "23      Peralatan canggih radar tentera hilang di pela...           {}   \n",
       "24      Setahun saya cuba yakinkan mereka, Dr M mengen...           {}   \n",
       "25                Anwar Ibrahim Adalah Ketua Umum Pakatan           {}   \n",
       "26      Azmin Layak Jadi Perdana Menteri Kata Syed Saddiq           {}   \n",
       "27                 Buruknya Perangai Arab Bila Bermusuhan           {}   \n",
       "28                         Cara Buang Broken Link Di Blog           {}   \n",
       "29          Cara Jaga Kesihatan Mengikut Panduan Rasullah           {}   \n",
       "...                                                   ...          ...   \n",
       "208412       Bolehkah cukai pelancongan dilaksana 1 Ogos?           {}   \n",
       "208413       Jawatan timbalan KPN ke-2 mungkin akan wujud           {}   \n",
       "208414     Kadar hemoglobin rendah, tak boleh derma darah           {}   \n",
       "208415       Kampung di Negeri Sembilan dapat lampu jalan           {}   \n",
       "208416                      Bahasa Melayu pada tahun 1521           {}   \n",
       "208417            Saya berkewajipan untuk terus istiqamah           {}   \n",
       "208418         Siapa berkuasa di Felda, Shahrir atau Isa?           {}   \n",
       "208419     250,000 solat tarawih di Al-Aqsa awal Ramadhan           {}   \n",
       "208420                       Tip mengatasi perasaan marah           {}   \n",
       "208421                           Main ibarat pentas final           {}   \n",
       "208422                         151 maut, 112 masih hilang           {}   \n",
       "208423                          Gincu cair tidak berkilat           {}   \n",
       "208424                    'Bunga api' berus periuk [IMEJ]           {}   \n",
       "208425             Zulkifili dilantik Ketua Pengarah APMM           {}   \n",
       "208426        &#39;Kami akan buat secepat mungkin...&#39;           {}   \n",
       "208427                    Tak jadi besarkan landasan LTPR           {}   \n",
       "208428      Kontraktor warga asing maut motor rempuh lori           {}   \n",
       "208429               Semangat juang tinggi azimat X-SMKTe           {}   \n",
       "208430                             Petra kembali beraksi!           {}   \n",
       "208431                        Cinta Hello Kitty [METROTV]           {}   \n",
       "208432               Prestasi Kor Kesihatan Diraja dipuji           {}   \n",
       "208433                                    Gemas 'dibedil'           {}   \n",
       "208434                       Macam-macam alasan [METROTV]           {}   \n",
       "208435           Mohon maaf, tiada niat singgung perasaan           {}   \n",
       "208436                                      Tilawah cinta           {}   \n",
       "208437                                 Mak bapak jahanam!           {}   \n",
       "208438                                Pengalaman berharga           {}   \n",
       "208439                               Permata baru England           {}   \n",
       "208440                                    Dapat hero baru           {}   \n",
       "208441                                 Lincah dan tangkas           {}   \n",
       "\n",
       "                                                      url  \n",
       "0       http://www.harakahdaily.net/index.php/berita/1...  \n",
       "1       http://www.harakahdaily.net/index.php/berita/1...  \n",
       "2       http://www.harakahdaily.net/index.php/rss-hd/3...  \n",
       "3       http://www.harakahdaily.net/index.php/rss-hd/6...  \n",
       "4       http://www.harakahdaily.net/index.php/rss-hd/6...  \n",
       "5       http://www.hmetro.com.my/arena/2017/06/236919/...  \n",
       "6       http://www.hmetro.com.my/ekspresi/2017/06/2385...  \n",
       "7       http://www.hmetro.com.my/geny/2017/06/238025/g...  \n",
       "8       http://www.hmetro.com.my/mutakhir/2017/05/2298...  \n",
       "9       http://www.hmetro.com.my/mutakhir/2017/06/2362...  \n",
       "10      http://www.hmetro.com.my/mutakhir/2017/06/2364...  \n",
       "11                   http://www.hmetro.com.my/node/222963  \n",
       "12                   http://www.hmetro.com.my/node/224021  \n",
       "13                   http://www.hmetro.com.my/node/224908  \n",
       "14                   http://www.hmetro.com.my/node/225167  \n",
       "15                   http://www.hmetro.com.my/node/225198  \n",
       "16                   http://www.hmetro.com.my/node/225275  \n",
       "17                   http://www.hmetro.com.my/node/226334  \n",
       "18      http://www.hmetro.com.my/rap/2017/07/241415/be...  \n",
       "19      http://www.hmetro.com.my/utama/2017/05/231780/...  \n",
       "20      http://www.hmetro.com.my/utama/2017/06/235924/...  \n",
       "21      http://www.freemalaysiatoday.com/category/baha...  \n",
       "22      http://www.freemalaysiatoday.com/category/baha...  \n",
       "23      http://www.freemalaysiatoday.com/category/baha...  \n",
       "24      http://www.freemalaysiatoday.com/category/baha...  \n",
       "25      https://babab.net/artikel/anwar-ibrahim-adalah...  \n",
       "26      https://babab.net/artikel/azmin-layak-jadi-per...  \n",
       "27      https://babab.net/artikel/buruknya-perangai-ar...  \n",
       "28      https://babab.net/artikel/cara-buang-broken-li...  \n",
       "29      https://babab.net/artikel/cara-jaga-kesihatan-...  \n",
       "...                                                   ...  \n",
       "208412  http://www.freemalaysiatoday.com/category/baha...  \n",
       "208413  http://www.freemalaysiatoday.com/category/baha...  \n",
       "208414  http://www.freemalaysiatoday.com/category/leis...  \n",
       "208415  http://www.freemalaysiatoday.com/category/leis...  \n",
       "208416  http://www.freemalaysiatoday.com/category/opin...  \n",
       "208417  http://www.harakahdaily.net/index.php/arkib/12...  \n",
       "208418  http://www.harakahdaily.net/index.php/arkib/17...  \n",
       "208419  http://www.harakahdaily.net/index.php/berita/1...  \n",
       "208420  http://www.harakahdaily.net/index.php/rss-hd/6...  \n",
       "208421  http://www.hmetro.com.my/arena/2017/05/228959/...  \n",
       "208422  http://www.hmetro.com.my/global/2017/05/233183...  \n",
       "208423  http://www.hmetro.com.my/hati/2017/05/232275/g...  \n",
       "208424  http://www.hmetro.com.my/mutakhir/2017/06/2343...  \n",
       "208425  http://www.hmetro.com.my/mutakhir/2017/06/2344...  \n",
       "208426  http://www.hmetro.com.my/mutakhir/2017/06/2365...  \n",
       "208427  http://www.hmetro.com.my/mutakhir/2017/06/2411...  \n",
       "208428               http://www.hmetro.com.my/node/224166  \n",
       "208429               http://www.hmetro.com.my/node/226591  \n",
       "208430               http://www.hmetro.com.my/node/226595  \n",
       "208431  http://www.hmetro.com.my/setempat/2017/05/2281...  \n",
       "208432  http://www.hmetro.com.my/setempat/2017/05/2286...  \n",
       "208433  http://www.hmetro.com.my/setempat/2017/05/2318...  \n",
       "208434  http://www.hmetro.com.my/setempat/2017/07/2450...  \n",
       "208435  http://www.hmetro.com.my/utama/2017/05/228579/...  \n",
       "208436  http://www.hmetro.com.my/utama/2017/05/230295/...  \n",
       "208437  http://www.hmetro.com.my/utama/2017/05/231937/...  \n",
       "208438  http://www.hmetro.com.my/utama/2017/06/235954/...  \n",
       "208439  http://www.hmetro.com.my/utama/2017/06/239044/...  \n",
       "208440  http://www.hmetro.com.my/utama/2017/06/241066/...  \n",
       "208441  http://www.hmetro.com.my/vroom/2017/07/241666/...  \n",
       "\n",
       "[208442 rows x 6 columns]"
      ]
     },
     "execution_count": 41,
     "metadata": {},
     "output_type": "execute_result"
    }
   ],
   "source": [
    "ma"
   ]
  },
  {
   "cell_type": "code",
   "execution_count": 42,
   "metadata": {
    "collapsed": true
   },
   "outputs": [],
   "source": [
    "ma_1 = read_json(\"../data_texts/ma/malay_first_part.json\")"
   ]
  },
  {
   "cell_type": "code",
   "execution_count": 43,
   "metadata": {
    "collapsed": false,
    "scrolled": true
   },
   "outputs": [],
   "source": [
    "ma_2 = read_json(\"../data_texts/ma/malay_first_part.json\")"
   ]
  },
  {
   "cell_type": "code",
   "execution_count": 44,
   "metadata": {
    "collapsed": true
   },
   "outputs": [],
   "source": [
    "ma_b = ma_1.append(ma_2)"
   ]
  },
  {
   "cell_type": "code",
   "execution_count": 45,
   "metadata": {
    "collapsed": false
   },
   "outputs": [],
   "source": [
    "ma_joined = ma.merge(ma_b, how=\"inner\", left_on=\"url\", right_on=\"url\")"
   ]
  },
  {
   "cell_type": "code",
   "execution_count": 91,
   "metadata": {
    "collapsed": false
   },
   "outputs": [
    {
     "data": {
      "text/plain": [
       "False"
      ]
     },
     "execution_count": 91,
     "metadata": {},
     "output_type": "execute_result"
    }
   ],
   "source": [
    "np.any(ma_joined['probs'].isna())"
   ]
  },
  {
   "cell_type": "code",
   "execution_count": 96,
   "metadata": {
    "collapsed": false
   },
   "outputs": [],
   "source": [
    "# ma_joined.category"
   ]
  },
  {
   "cell_type": "code",
   "execution_count": 97,
   "metadata": {
    "collapsed": false
   },
   "outputs": [],
   "source": [
    "# def get_category(probs):\n",
    "#     max_cat = \"\"\n",
    "#     max_prob = 0.0\n",
    "    \n",
    "#     for cat, prob in probs.items():\n",
    "#         if prob > max_prob:\n",
    "#             max_prob = prob\n",
    "#             max_cat = cat\n",
    "            \n",
    "#     return cat"
   ]
  },
  {
   "cell_type": "code",
   "execution_count": 98,
   "metadata": {
    "collapsed": true
   },
   "outputs": [],
   "source": [
    "# categories = ma_joined['']"
   ]
  },
  {
   "cell_type": "code",
   "execution_count": 46,
   "metadata": {
    "collapsed": false
   },
   "outputs": [],
   "source": [
    "ma_joined[3] = ma_joined['content']"
   ]
  },
  {
   "cell_type": "code",
   "execution_count": 47,
   "metadata": {
    "collapsed": true
   },
   "outputs": [],
   "source": [
    "ma_joined[1] = ma_joined['category']"
   ]
  },
  {
   "cell_type": "code",
   "execution_count": 161,
   "metadata": {
    "collapsed": true
   },
   "outputs": [],
   "source": [
    "format_data(ma_joined, \"../data_texts/ma/\")"
   ]
  },
  {
   "cell_type": "code",
   "execution_count": 49,
   "metadata": {
    "collapsed": true
   },
   "outputs": [],
   "source": [
    "def read_bad_file(file_name):\n",
    "    f = open(file_name, \"r\")\n",
    "    result = []\n",
    "    bad_lines = 0\n",
    "    for line in f:\n",
    "        try:\n",
    "            current_data = line.strip().split('\\t')\n",
    "            cur = {}\n",
    "#             print(line)\n",
    "#             return\n",
    "            cur[\"url\"] = current_data[0]\n",
    "            cur[3] = current_data[2]\n",
    "            result.append(cur)\n",
    "        except:\n",
    "#             print(current_data, line)\n",
    "            bad_lines += 1\n",
    "#             raise \n",
    "    print(\"total bad_lines: \", bad_lines)\n",
    "    return pd.DataFrame.from_dict(result)"
   ]
  },
  {
   "cell_type": "code",
   "execution_count": 50,
   "metadata": {
    "collapsed": false
   },
   "outputs": [
    {
     "name": "stdout",
     "output_type": "stream",
     "text": [
      "total bad_lines:  2\n"
     ]
    }
   ],
   "source": [
    "ru = read_bad_file(\"../data_texts/ru/texts.tsv\")"
   ]
  },
  {
   "cell_type": "code",
   "execution_count": 51,
   "metadata": {
    "collapsed": false
   },
   "outputs": [],
   "source": [
    "ru_labels = pd.read_csv(\"../data_texts/ru/ru_labling.tsv\", header=None, sep=\"\\t\")"
   ]
  },
  {
   "cell_type": "code",
   "execution_count": 52,
   "metadata": {
    "collapsed": false
   },
   "outputs": [],
   "source": [
    "ru_joined = ru.merge(ru_labels, how=\"inner\", left_on=\"url\", right_on=0)"
   ]
  },
  {
   "cell_type": "code",
   "execution_count": 162,
   "metadata": {
    "collapsed": false
   },
   "outputs": [],
   "source": [
    "format_data(ru_joined, \"../data_texts/ru/\")"
   ]
  },
  {
   "cell_type": "code",
   "execution_count": 53,
   "metadata": {
    "collapsed": false
   },
   "outputs": [
    {
     "data": {
      "text/plain": [
       "'уважаемым зрителям киевского кинотеатра флоренция предоставляется возможность убедиться в преимуществах систем кинопоказа звуковой dolbi digital звуковой акустической ibl панорамных экранов perlux оценить приятную атмосферу уюта и комфорта во время просмотра кинофильмов в цифровых 2д и 3д формате для вас работает красный зал на 370 зрительских мест синий зал на 235 зрительских мест зеленый зал на 140 зрительских мест и малый зал на 40 зрительских мест'"
      ]
     },
     "execution_count": 53,
     "metadata": {},
     "output_type": "execute_result"
    }
   ],
   "source": [
    "normalize_sentence(ru[3][13])"
   ]
  },
  {
   "cell_type": "code",
   "execution_count": 79,
   "metadata": {
    "collapsed": false
   },
   "outputs": [],
   "source": [
    "# ru"
   ]
  },
  {
   "cell_type": "code",
   "execution_count": 86,
   "metadata": {
    "collapsed": false
   },
   "outputs": [
    {
     "data": {
      "text/plain": [
       "26"
      ]
     },
     "execution_count": 86,
     "metadata": {},
     "output_type": "execute_result"
    }
   ],
   "source": []
  },
  {
   "cell_type": "code",
   "execution_count": 89,
   "metadata": {
    "collapsed": false
   },
   "outputs": [],
   "source": [
    "all_topics = set(fr[1]) & set(tr[1]) & set(en[1]) & set(es[1]) & set(ma_joined[1]) & set(ru_joined[1])"
   ]
  },
  {
   "cell_type": "code",
   "execution_count": 90,
   "metadata": {
    "collapsed": false
   },
   "outputs": [
    {
     "data": {
      "text/plain": [
       "{'animals',\n",
       " 'arts',\n",
       " 'books',\n",
       " 'business',\n",
       " 'cars',\n",
       " 'celebrities',\n",
       " 'design_architecture',\n",
       " 'diy',\n",
       " 'food',\n",
       " 'funny',\n",
       " 'gaming',\n",
       " 'health',\n",
       " 'home',\n",
       " 'incidents',\n",
       " 'movies',\n",
       " 'music',\n",
       " 'other',\n",
       " 'photography',\n",
       " 'politic',\n",
       " 'relationship',\n",
       " 'science',\n",
       " 'social',\n",
       " 'sport',\n",
       " 'style',\n",
       " 'tech',\n",
       " 'travel'}"
      ]
     },
     "execution_count": 90,
     "metadata": {},
     "output_type": "execute_result"
    }
   ],
   "source": [
    "all_topics"
   ]
  },
  {
   "cell_type": "code",
   "execution_count": 123,
   "metadata": {
    "collapsed": true
   },
   "outputs": [],
   "source": [
    "def write_topics(file_name, topics):\n",
    "    f = open(file_name, \"w\")\n",
    "    for topic_id, topic in enumerate(topics):\n",
    "        f.write(\"{}\\t{}\\n\".format(topic_id, topic))"
   ]
  },
  {
   "cell_type": "code",
   "execution_count": 124,
   "metadata": {
    "collapsed": true
   },
   "outputs": [],
   "source": [
    "write_topics(\"../data_texts/topics.csv\", all_topics)"
   ]
  },
  {
   "cell_type": "code",
   "execution_count": 93,
   "metadata": {
    "collapsed": false
   },
   "outputs": [],
   "source": [
    "# format_data(es, \"../data_texts/es/\")\n",
    "# format_data(en, \"../data_texts/en/\")\n",
    "# format_data(fr, \"../data_texts/fr/\")\n",
    "# format_data(tr, \"../data_texts/tr/\")"
   ]
  },
  {
   "cell_type": "code",
   "execution_count": 118,
   "metadata": {
    "collapsed": true
   },
   "outputs": [],
   "source": [
    "def check_is_good(row, all_topics=all_topics):\n",
    "    if row[1] not in all_topics:\n",
    "        return False\n",
    "    if pd.isna(row[3]):\n",
    "        return False\n",
    "    \n",
    "    return True"
   ]
  },
  {
   "cell_type": "code",
   "execution_count": 119,
   "metadata": {
    "collapsed": true
   },
   "outputs": [],
   "source": [
    "def format_data(dataframe, path):\n",
    "    is_good = dataframe.apply(check_is_good, axis=1)\n",
    "    print(\"Original len \", len(dataframe))\n",
    "    dataframe = dataframe.loc[is_good]\n",
    "    print(\"Writing len \", len(dataframe))\n",
    "    dataframe['processed'] = dataframe[3].apply(normalize_sentence)\n",
    "    pd.DataFrame(dataframe['processed']).to_csv(path + \"/contents.tsv\",  header=None, index=None)\n",
    "    pd.DataFrame(dataframe[1]).to_csv(path + \"/labels.tsv\", header=None, index=None)"
   ]
  },
  {
   "cell_type": "code",
   "execution_count": 120,
   "metadata": {
    "collapsed": false
   },
   "outputs": [
    {
     "name": "stdout",
     "output_type": "stream",
     "text": [
      "Original len  18728\n",
      "Writing len  18467\n"
     ]
    },
    {
     "name": "stderr",
     "output_type": "stream",
     "text": [
      "/home/itasarom/.programs/anaconda2/envs/tensorflow/lib/python3.5/site-packages/ipykernel/__main__.py:6: SettingWithCopyWarning: \n",
      "A value is trying to be set on a copy of a slice from a DataFrame.\n",
      "Try using .loc[row_indexer,col_indexer] = value instead\n",
      "\n",
      "See the caveats in the documentation: http://pandas.pydata.org/pandas-docs/stable/indexing.html#indexing-view-versus-copy\n"
     ]
    },
    {
     "name": "stdout",
     "output_type": "stream",
     "text": [
      "Original len  18275\n",
      "Writing len  17860\n",
      "Original len  19138\n",
      "Writing len  18641\n",
      "Original len  18359\n",
      "Writing len  17322\n"
     ]
    }
   ],
   "source": [
    "format_data(es, \"../data_texts/es/\")\n",
    "format_data(en, \"../data_texts/en/\")\n",
    "format_data(fr, \"../data_texts/fr/\")\n",
    "format_data(tr, \"../data_texts/tr/\")"
   ]
  },
  {
   "cell_type": "code",
   "execution_count": 121,
   "metadata": {
    "collapsed": false
   },
   "outputs": [
    {
     "name": "stdout",
     "output_type": "stream",
     "text": [
      "Original len  11048\n",
      "Writing len  10974\n"
     ]
    },
    {
     "name": "stderr",
     "output_type": "stream",
     "text": [
      "/home/itasarom/.programs/anaconda2/envs/tensorflow/lib/python3.5/site-packages/ipykernel/__main__.py:6: SettingWithCopyWarning: \n",
      "A value is trying to be set on a copy of a slice from a DataFrame.\n",
      "Try using .loc[row_indexer,col_indexer] = value instead\n",
      "\n",
      "See the caveats in the documentation: http://pandas.pydata.org/pandas-docs/stable/indexing.html#indexing-view-versus-copy\n"
     ]
    },
    {
     "name": "stdout",
     "output_type": "stream",
     "text": [
      "Original len  41470\n",
      "Writing len  41470\n"
     ]
    }
   ],
   "source": [
    "format_data(ma_joined, \"../data_texts/ma/\")\n",
    "format_data(ru_joined, \"../data_texts/ru/\")"
   ]
  },
  {
   "cell_type": "code",
   "execution_count": 126,
   "metadata": {
    "collapsed": false
   },
   "outputs": [
    {
     "name": "stdout",
     "output_type": "stream",
     "text": [
      "fatal: Not a git repository (or any parent up to mount point /media/itasarom/7158f0d7-af1d-45d4-855f-86204aed5a8b)\r\n",
      "Stopping at filesystem boundary (GIT_DISCOVERY_ACROSS_FILESYSTEM not set).\r\n"
     ]
    }
   ],
   "source": []
  },
  {
   "cell_type": "code",
   "execution_count": null,
   "metadata": {
    "collapsed": true
   },
   "outputs": [],
   "source": []
  }
 ],
 "metadata": {
  "kernelspec": {
   "display_name": "Python [tensorflow]",
   "language": "python",
   "name": "Python [tensorflow]"
  },
  "language_info": {
   "codemirror_mode": {
    "name": "ipython",
    "version": 3
   },
   "file_extension": ".py",
   "mimetype": "text/x-python",
   "name": "python",
   "nbconvert_exporter": "python",
   "pygments_lexer": "ipython3",
   "version": "3.5.4"
  }
 },
 "nbformat": 4,
 "nbformat_minor": 0
}
