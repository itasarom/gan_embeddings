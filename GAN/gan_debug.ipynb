{
 "cells": [
  {
   "cell_type": "code",
   "execution_count": 1,
   "metadata": {
    "collapsed": false
   },
   "outputs": [],
   "source": [
    "import numpy as np\n",
    "import torch\n",
    "import pandas as pd\n",
    "\n",
    "import matplotlib.pyplot as plt\n",
    "\n",
    "from collections import namedtuple\n",
    "import seaborn as sns\n",
    "%matplotlib inline\n",
    "%load_ext autoreload\n",
    "%autoreload 2"
   ]
  },
  {
   "cell_type": "code",
   "execution_count": 2,
   "metadata": {
    "collapsed": false
   },
   "outputs": [],
   "source": [
    "import data_processing as dp\n",
    "import model\n",
    "import model_utilities as util\n",
    "import vocab\n",
    "import batch_samplers"
   ]
  },
  {
   "cell_type": "code",
   "execution_count": 3,
   "metadata": {
    "collapsed": true
   },
   "outputs": [],
   "source": [
    "import importlib"
   ]
  },
  {
   "cell_type": "code",
   "execution_count": 4,
   "metadata": {
    "collapsed": false
   },
   "outputs": [
    {
     "data": {
      "text/plain": [
       "<module 'model' from '/media/itasarom/7158f0d7-af1d-45d4-855f-86204aed5a8b/Projects/diplom/GAN/model.py'>"
      ]
     },
     "execution_count": 4,
     "metadata": {},
     "output_type": "execute_result"
    }
   ],
   "source": [
    "importlib.reload(model)"
   ]
  },
  {
   "cell_type": "code",
   "execution_count": 5,
   "metadata": {
    "collapsed": false
   },
   "outputs": [],
   "source": [
    "# vocab1, all_labels, sents1, labels1 = dp.load_problem(lang='ma')\n",
    "# vocab2, all_labels, sents2, labels2 = dp.load_problem(lang='es')\n",
    "vocab1, all_labels, sents1, labels1 = dp.load_problem(lang='fr')\n",
    "vocab2, all_labels, sents2, labels2 = dp.load_problem(lang='en')"
   ]
  },
  {
   "cell_type": "code",
   "execution_count": 6,
   "metadata": {
    "collapsed": false
   },
   "outputs": [
    {
     "data": {
      "text/plain": [
       "(47377, 47404)"
      ]
     },
     "execution_count": 6,
     "metadata": {},
     "output_type": "execute_result"
    }
   ],
   "source": [
    "len(vocab1.embeddings), len(vocab2.embeddings)"
   ]
  },
  {
   "cell_type": "code",
   "execution_count": 7,
   "metadata": {
    "collapsed": false
   },
   "outputs": [
    {
     "name": "stdout",
     "output_type": "stream",
     "text": [
      "True 1\r\n"
     ]
    }
   ],
   "source": [
    "!python -c \"import torch; print(torch.cuda.is_available(), torch.cuda.device_count())\""
   ]
  },
  {
   "cell_type": "code",
   "execution_count": 8,
   "metadata": {
    "collapsed": false
   },
   "outputs": [
    {
     "name": "stdout",
     "output_type": "stream",
     "text": [
      "/media/itasarom/7158f0d7-af1d-45d4-855f-86204aed5a8b/Projects/diplom/GAN\r\n"
     ]
    }
   ],
   "source": [
    "!pwd"
   ]
  },
  {
   "cell_type": "code",
   "execution_count": 9,
   "metadata": {
    "collapsed": false
   },
   "outputs": [
    {
     "data": {
      "text/plain": [
       "True"
      ]
     },
     "execution_count": 9,
     "metadata": {},
     "output_type": "execute_result"
    }
   ],
   "source": [
    "torch.cuda.is_available()"
   ]
  },
  {
   "cell_type": "code",
   "execution_count": 10,
   "metadata": {
    "collapsed": false
   },
   "outputs": [
    {
     "data": {
      "text/plain": [
       "1"
      ]
     },
     "execution_count": 10,
     "metadata": {},
     "output_type": "execute_result"
    }
   ],
   "source": [
    "torch.cuda.device_count()"
   ]
  },
  {
   "cell_type": "code",
   "execution_count": 11,
   "metadata": {
    "collapsed": false
   },
   "outputs": [
    {
     "data": {
      "text/plain": [
       "'/home/itasarom/Documents/Projects/link_to_projects/apertium/apertium_root//lib:/usr/local/cuda-9.0/lib64::/usr/lib/x86_64-linux-gnu:/usr/local/lib:/usr/local/cuda/lib64:/usr/lib/x86_64-linux-gnu:/usr/lib/nvidia-387'"
      ]
     },
     "execution_count": 11,
     "metadata": {},
     "output_type": "execute_result"
    }
   ],
   "source": [
    "import os\n",
    "os.environ[\"LD_LIBRARY_PATH\"]"
   ]
  },
  {
   "cell_type": "code",
   "execution_count": 12,
   "metadata": {
    "collapsed": false
   },
   "outputs": [
    {
     "data": {
      "text/plain": [
       "'/home/itasarom/.programs/anaconda2/envs/torch/bin/python'"
      ]
     },
     "execution_count": 12,
     "metadata": {},
     "output_type": "execute_result"
    }
   ],
   "source": [
    "import sys\n",
    "sys.executable"
   ]
  },
  {
   "cell_type": "code",
   "execution_count": 13,
   "metadata": {
    "collapsed": false
   },
   "outputs": [
    {
     "data": {
      "text/plain": [
       "'/home/itasarom/.programs/anaconda2/envs/torch/lib/python3.5/site-packages/ipykernel/__main__.py'"
      ]
     },
     "execution_count": 13,
     "metadata": {},
     "output_type": "execute_result"
    }
   ],
   "source": [
    "sys.argv[0]"
   ]
  },
  {
   "cell_type": "code",
   "execution_count": 14,
   "metadata": {
    "collapsed": false
   },
   "outputs": [],
   "source": [
    "# del cls"
   ]
  },
  {
   "cell_type": "code",
   "execution_count": 15,
   "metadata": {
    "collapsed": false
   },
   "outputs": [
    {
     "data": {
      "text/plain": [
       "11"
      ]
     },
     "execution_count": 15,
     "metadata": {},
     "output_type": "execute_result"
    }
   ],
   "source": [
    "import gc\n",
    "gc.collect()"
   ]
  },
  {
   "cell_type": "code",
   "execution_count": null,
   "metadata": {
    "collapsed": false
   },
   "outputs": [],
   "source": []
  },
  {
   "cell_type": "code",
   "execution_count": 16,
   "metadata": {
    "collapsed": false
   },
   "outputs": [],
   "source": [
    "# del cls\n",
    "torch.cuda.empty_cache()"
   ]
  },
  {
   "cell_type": "code",
   "execution_count": 17,
   "metadata": {
    "collapsed": false
   },
   "outputs": [],
   "source": [
    "sent_sampler_1 = batch_samplers.BatchSamplerRegularizer(sents=sents1, labels=labels1, vocab=vocab1, all_labels=all_labels)"
   ]
  },
  {
   "cell_type": "code",
   "execution_count": 18,
   "metadata": {
    "collapsed": true
   },
   "outputs": [],
   "source": [
    "sent_sampler_2 = batch_samplers.BatchSamplerRegularizer(sents=sents2, labels=labels2, vocab=vocab2, all_labels=all_labels)"
   ]
  },
  {
   "cell_type": "code",
   "execution_count": 19,
   "metadata": {
    "collapsed": false
   },
   "outputs": [],
   "source": [
    "embed_sampler_1 = batch_samplers.BatchSamplerDiscriminator(vocab1)"
   ]
  },
  {
   "cell_type": "code",
   "execution_count": 20,
   "metadata": {
    "collapsed": true
   },
   "outputs": [],
   "source": [
    "embed_sampler_2 = batch_samplers.BatchSamplerDiscriminator(vocab2)"
   ]
  },
  {
   "cell_type": "code",
   "execution_count": 21,
   "metadata": {
    "collapsed": false
   },
   "outputs": [],
   "source": [
    "# sent_sampler_1.get_batch(3)\n",
    "# embed_sampler_1"
   ]
  },
  {
   "cell_type": "code",
   "execution_count": 22,
   "metadata": {
    "collapsed": false
   },
   "outputs": [],
   "source": [
    "import IPython\n"
   ]
  },
  {
   "cell_type": "code",
   "execution_count": null,
   "metadata": {
    "collapsed": false
   },
   "outputs": [],
   "source": []
  },
  {
   "cell_type": "code",
   "execution_count": 22,
   "metadata": {
    "collapsed": false
   },
   "outputs": [],
   "source": [
    "cls = model.GAN(100, len(all_labels))"
   ]
  },
  {
   "cell_type": "code",
   "execution_count": 23,
   "metadata": {
    "collapsed": false
   },
   "outputs": [],
   "source": [
    "cls = cls.cuda()"
   ]
  },
  {
   "cell_type": "code",
   "execution_count": 24,
   "metadata": {
    "collapsed": false
   },
   "outputs": [],
   "source": [
    "# params = {\n",
    "#     'save_path': \"./model_checkpoint.tc\",\n",
    "#     'save_every':10,\n",
    "#     'sentence_iterations':200,\n",
    "#     'discr_iterations':1,\n",
    "#     'transform_iterations':500,\n",
    "#     'n_sents_1':128,\n",
    "#     'n_sents_2':128,\n",
    "#     'n_discr_1':128,\n",
    "#     'n_discr_2':128,\n",
    "#     'n_iter':20\n",
    "    \n",
    "# }\n",
    "\n",
    "# params = {\n",
    "#     'save_path': \"./model_checkpoint.tc\",\n",
    "#     'save_every':10,\n",
    "#     'sentence_iterations':2,\n",
    "#     'discr_iterations':1,\n",
    "#     'transform_iterations':5,\n",
    "#     'n_sents_1':128,\n",
    "#     'n_sents_2':128,\n",
    "#     'n_discr_1':128,\n",
    "#     'n_discr_2':128,\n",
    "#     'n_iter':20\n",
    "    \n",
    "# }\n",
    "\n",
    "params = {\n",
    "    'save_path': \"./model_checkpoint_2_layers.tc\",\n",
    "    'save_every':10,\n",
    "    'sentence_iterations':200,\n",
    "    'discr_iterations':20,\n",
    "    'transform_iterations':80,\n",
    "    'n_sents_1':128,\n",
    "    'n_sents_2':128,\n",
    "    'n_discr_1':1024,\n",
    "    'n_discr_2':1024,\n",
    "    'n_iter':200\n",
    "    \n",
    "}"
   ]
  },
  {
   "cell_type": "code",
   "execution_count": 25,
   "metadata": {
    "collapsed": true
   },
   "outputs": [],
   "source": [
    "# trainer.global_iterations = 60"
   ]
  },
  {
   "cell_type": "code",
   "execution_count": 26,
   "metadata": {
    "collapsed": false
   },
   "outputs": [],
   "source": [
    "trainer = util.Trainer(cls)"
   ]
  },
  {
   "cell_type": "code",
   "execution_count": 27,
   "metadata": {
    "collapsed": false
   },
   "outputs": [
    {
     "data": {
      "text/plain": [
       "GAN(\n",
       "  (discriminator): Discriminator(\n",
       "    (actual_model): Sequential(\n",
       "      (0): Linear(in_features=100, out_features=1024)\n",
       "      (1): BatchNorm1d(1024, eps=1e-05, momentum=0.1, affine=True)\n",
       "      (2): LeakyReLU(0.3)\n",
       "      (3): Linear(in_features=1024, out_features=512)\n",
       "      (4): Dropout(p=0.5)\n",
       "      (5): BatchNorm1d(512, eps=1e-05, momentum=0.1, affine=True)\n",
       "      (6): LeakyReLU(0.3)\n",
       "      (7): Linear(in_features=512, out_features=2)\n",
       "    )\n",
       "    (softmax): Softmax()\n",
       "    (loss_function): CrossEntropyLoss(\n",
       "    )\n",
       "  )\n",
       "  (classifier): RnnClassifier(\n",
       "    (rnn_cell): LSTM(100, 128, batch_first=True)\n",
       "    (dense): Linear(in_features=128, out_features=256)\n",
       "    (logits_layer): Linear(in_features=256, out_features=26)\n",
       "    (softmax_layer): Softmax()\n",
       "    (loss_function): CrossEntropyLoss(\n",
       "    )\n",
       "  )\n",
       "  (transformation_1): Sequential(\n",
       "    (0): Linear(in_features=100, out_features=100)\n",
       "  )\n",
       "  (transformation_2): Sequential(\n",
       "    (0): Linear(in_features=100, out_features=100)\n",
       "  )\n",
       ")"
      ]
     },
     "execution_count": 27,
     "metadata": {},
     "output_type": "execute_result"
    }
   ],
   "source": [
    "trainer.restore(\"./model_checkpoint_2_layers.tc\")\n",
    "cls.train()"
   ]
  },
  {
   "cell_type": "code",
   "execution_count": 370,
   "metadata": {
    "collapsed": false
   },
   "outputs": [
    {
     "data": {
      "image/png": "[encoded data removed]",
      "text/plain": [
       "<matplotlib.figure.Figure at 0x7ff0e25acf98>"
      ]
     },
     "metadata": {},
     "output_type": "display_data"
    },
    {
     "data": {
      "image/png": "[encoded data removed]",
      "text/plain": [
       "<matplotlib.figure.Figure at 0x7ff0e25f9358>"
      ]
     },
     "metadata": {},
     "output_type": "display_data"
    },
    {
     "name": "stdout",
     "output_type": "stream",
     "text": [
      "Iter 199 class -1.0, discr0.6628026366233826, transform 0.7726215720176697\n"
     ]
    },
    {
     "data": {
      "image/png": "[encoded data removed]",
      "text/plain": [
       "<matplotlib.figure.Figure at 0x7ff0e4ce6ac8>"
      ]
     },
     "metadata": {},
     "output_type": "display_data"
    },
    {
     "data": {
      "image/png": "[encoded data removed]",
      "text/plain": [
       "<matplotlib.figure.Figure at 0x7ff0e26f65f8>"
      ]
     },
     "metadata": {},
     "output_type": "display_data"
    },
    {
     "data": {
      "image/png": "[encoded data removed]",
      "text/plain": [
       "<matplotlib.figure.Figure at 0x7ff0e2621fd0>"
      ]
     },
     "metadata": {},
     "output_type": "display_data"
    }
   ],
   "source": [
    "# trainer.t\n",
    "trainer.train(sent_sampler_1, sent_sampler_2, embed_sampler_1, embed_sampler_2, params)"
   ]
  },
  {
   "cell_type": "code",
   "execution_count": 371,
   "metadata": {
    "collapsed": false,
    "scrolled": true
   },
   "outputs": [],
   "source": [
    "# trainer.train(sent_sampler_1, sent_sampler_2, embed_sampler_1, embed_sampler_2, params)"
   ]
  },
  {
   "cell_type": "code",
   "execution_count": 137,
   "metadata": {
    "collapsed": false
   },
   "outputs": [],
   "source": [
    "cls = cls.eval()"
   ]
  },
  {
   "cell_type": "code",
   "execution_count": 27,
   "metadata": {
    "collapsed": false
   },
   "outputs": [],
   "source": [
    "batch_1 = embed_sampler_2.get_batch(32)"
   ]
  },
  {
   "cell_type": "code",
   "execution_count": 28,
   "metadata": {
    "collapsed": false
   },
   "outputs": [],
   "source": [
    "# batch_1"
   ]
  },
  {
   "cell_type": "code",
   "execution_count": 32,
   "metadata": {
    "collapsed": false
   },
   "outputs": [],
   "source": [
    "tr = cls.transform2(torch.autograd.Variable(torch.from_numpy(batch_1.astype(np.float32))).cuda()).data.cpu().numpy()"
   ]
  },
  {
   "cell_type": "code",
   "execution_count": 63,
   "metadata": {
    "collapsed": false
   },
   "outputs": [],
   "source": [
    "# v1 = vocab1.embeddings[vocab1.transform_one([\"air\", \"makanan\", \"pokok\"])[:-1].ravel()]\n",
    "v1 = vocab1.embeddings[vocab1.transform_one([\"eau\", \"aliments\", \"arbre\"])[:-1].ravel()]"
   ]
  },
  {
   "cell_type": "code",
   "execution_count": 64,
   "metadata": {
    "collapsed": true
   },
   "outputs": [],
   "source": [
    "v1_t = cls.transform1(torch.autograd.Variable(torch.from_numpy(v1.astype(np.float32))).cuda()).data.cpu().numpy()"
   ]
  },
  {
   "cell_type": "code",
   "execution_count": 65,
   "metadata": {
    "collapsed": false
   },
   "outputs": [],
   "source": [
    "# v2 = vocab1.embeddings[vocab2.transform_one([\"agua\", \"comida\", \"árbol\"])[:-1].ravel()]\n",
    "v2 = vocab1.embeddings[vocab2.transform_one([\"water\", \"food\", \"tree\"])[:-1].ravel()]"
   ]
  },
  {
   "cell_type": "code",
   "execution_count": 66,
   "metadata": {
    "collapsed": true
   },
   "outputs": [],
   "source": [
    "v2_t = tr = cls.transform2(torch.autograd.Variable(torch.from_numpy(v2.astype(np.float32))).cuda()).data.cpu().numpy()"
   ]
  },
  {
   "cell_type": "code",
   "execution_count": 67,
   "metadata": {
    "collapsed": false,
    "scrolled": true
   },
   "outputs": [
    {
     "data": {
      "text/plain": [
       "array([0.08949653, 0.14101503, 0.44295534])"
      ]
     },
     "execution_count": 67,
     "metadata": {},
     "output_type": "execute_result"
    }
   ],
   "source": [
    "(v1 * v2).sum(axis=1)/((v1**2).sum(axis=1) * (v2**2).sum(axis=1))**0.5"
   ]
  },
  {
   "cell_type": "code",
   "execution_count": 68,
   "metadata": {
    "collapsed": false
   },
   "outputs": [
    {
     "data": {
      "text/plain": [
       "array([ 0.02270542, -0.02349185,  0.05355266])"
      ]
     },
     "execution_count": 68,
     "metadata": {},
     "output_type": "execute_result"
    }
   ],
   "source": [
    "(v1 * v2_t).sum(axis=1)/((v1**2).sum(axis=1) * (v2_t**2).sum(axis=1))**0.5"
   ]
  },
  {
   "cell_type": "code",
   "execution_count": 69,
   "metadata": {
    "collapsed": false
   },
   "outputs": [
    {
     "data": {
      "text/plain": [
       "1.1760207505673008"
      ]
     },
     "execution_count": 69,
     "metadata": {},
     "output_type": "execute_result"
    }
   ],
   "source": [
    "np.abs(v1 - v2_t).max()/max(v1.max(), v2_t.max())"
   ]
  },
  {
   "cell_type": "code",
   "execution_count": 25,
   "metadata": {
    "collapsed": true
   },
   "outputs": [],
   "source": [
    "import evaluation"
   ]
  },
  {
   "cell_type": "code",
   "execution_count": 27,
   "metadata": {
    "collapsed": false
   },
   "outputs": [],
   "source": [
    "x1, mask1, y1 = cls.prepare_data_for_classifier(*sent_sampler_1.get_test())\n",
    "x1 = cls.transform1(x1)"
   ]
  },
  {
   "cell_type": "code",
   "execution_count": 28,
   "metadata": {
    "collapsed": false
   },
   "outputs": [],
   "source": [
    "x2, mask2, y2 = cls.prepare_data_for_classifier(*sent_sampler_2.get_test())\n",
    "x2 = cls.transform2(x2)"
   ]
  },
  {
   "cell_type": "code",
   "execution_count": 29,
   "metadata": {
    "collapsed": false
   },
   "outputs": [
    {
     "data": {
      "text/plain": [
       "Variable containing:\n",
       " 0.1513\n",
       "[torch.cuda.FloatTensor of size 1 (GPU 0)]"
      ]
     },
     "execution_count": 29,
     "metadata": {},
     "output_type": "execute_result"
    }
   ],
   "source": [
    "cls.classifier.get_loss(x1, mask1, y1)"
   ]
  },
  {
   "cell_type": "code",
   "execution_count": 30,
   "metadata": {
    "collapsed": false
   },
   "outputs": [
    {
     "data": {
      "text/plain": [
       "Variable containing:\n",
       " 0.7509\n",
       "[torch.cuda.FloatTensor of size 1 (GPU 0)]"
      ]
     },
     "execution_count": 30,
     "metadata": {},
     "output_type": "execute_result"
    }
   ],
   "source": [
    "cls.classifier.get_loss(x2, mask2, y2)"
   ]
  },
  {
   "cell_type": "code",
   "execution_count": 28,
   "metadata": {
    "collapsed": false
   },
   "outputs": [],
   "source": [
    "_, pred_1 = cls.classifier.forward(x1, mask1)"
   ]
  },
  {
   "cell_type": "code",
   "execution_count": 29,
   "metadata": {
    "collapsed": false
   },
   "outputs": [],
   "source": [
    "pred_1 = pred_1.data.cpu().numpy()\n",
    "y1 = y1.data.cpu().numpy()"
   ]
  },
  {
   "cell_type": "code",
   "execution_count": 25,
   "metadata": {
    "collapsed": false
   },
   "outputs": [],
   "source": [
    "def accuracy(predicted_probs, true_y):\n",
    "    res = np.count_nonzero(predicted_probs.argmax(axis=1) == true_y)\n",
    "    denom = max(len(true_y), 1)\n",
    "    return res, len(true_y), res/denom"
   ]
  },
  {
   "cell_type": "code",
   "execution_count": 31,
   "metadata": {
    "collapsed": true
   },
   "outputs": [],
   "source": [
    "# del pred_1, y1"
   ]
  },
  {
   "cell_type": "code",
   "execution_count": 32,
   "metadata": {
    "collapsed": false
   },
   "outputs": [
    {
     "data": {
      "text/plain": [
       "(983, 1024, 0.9599609375)"
      ]
     },
     "execution_count": 32,
     "metadata": {},
     "output_type": "execute_result"
    }
   ],
   "source": [
    "accuracy(pred_1, y1)"
   ]
  },
  {
   "cell_type": "code",
   "execution_count": 31,
   "metadata": {
    "collapsed": false
   },
   "outputs": [],
   "source": [
    "_, pred_2 = cls.classifier.forward(x2, mask2)"
   ]
  },
  {
   "cell_type": "code",
   "execution_count": 32,
   "metadata": {
    "collapsed": false
   },
   "outputs": [],
   "source": [
    "pred_2 = pred_2.data.cpu().numpy()\n",
    "y2 = y2.data.cpu().numpy()"
   ]
  },
  {
   "cell_type": "code",
   "execution_count": 35,
   "metadata": {
    "collapsed": false
   },
   "outputs": [
    {
     "data": {
      "text/plain": [
       "(783, 1024, 0.7646484375)"
      ]
     },
     "execution_count": 35,
     "metadata": {},
     "output_type": "execute_result"
    }
   ],
   "source": [
    "accuracy(pred_2, y2)"
   ]
  },
  {
   "cell_type": "code",
   "execution_count": 36,
   "metadata": {
    "collapsed": false
   },
   "outputs": [
    {
     "data": {
      "text/plain": [
       "Sequential(\n",
       "  (0): Linear(in_features=100, out_features=100)\n",
       "  (1): LeakyReLU(0.3)\n",
       ")"
      ]
     },
     "execution_count": 36,
     "metadata": {},
     "output_type": "execute_result"
    }
   ],
   "source": [
    " cls.transformation_2.cuda()"
   ]
  },
  {
   "cell_type": "code",
   "execution_count": 28,
   "metadata": {
    "collapsed": false
   },
   "outputs": [],
   "source": [
    "n1 = embed_sampler_1.vocab.embeddings.shape[0]\n",
    "n2 = embed_sampler_2.vocab.embeddings.shape[0]\n",
    "\n",
    "n1 = 5000\n",
    "n2 = 5000"
   ]
  },
  {
   "cell_type": "code",
   "execution_count": 29,
   "metadata": {
    "collapsed": false
   },
   "outputs": [
    {
     "data": {
      "text/plain": [
       "GAN(\n",
       "  (discriminator): Discriminator(\n",
       "    (actual_model): Sequential(\n",
       "      (0): Linear(in_features=100, out_features=1024)\n",
       "      (1): BatchNorm1d(1024, eps=1e-05, momentum=0.1, affine=True)\n",
       "      (2): LeakyReLU(0.3)\n",
       "      (3): Linear(in_features=1024, out_features=512)\n",
       "      (4): Dropout(p=0.5)\n",
       "      (5): BatchNorm1d(512, eps=1e-05, momentum=0.1, affine=True)\n",
       "      (6): LeakyReLU(0.3)\n",
       "      (7): Linear(in_features=512, out_features=2)\n",
       "    )\n",
       "    (softmax): Softmax()\n",
       "    (loss_function): CrossEntropyLoss(\n",
       "    )\n",
       "  )\n",
       "  (classifier): RnnClassifier(\n",
       "    (rnn_cell): LSTM(100, 128, batch_first=True)\n",
       "    (dense): Linear(in_features=128, out_features=256)\n",
       "    (logits_layer): Linear(in_features=256, out_features=26)\n",
       "    (softmax_layer): Softmax()\n",
       "    (loss_function): CrossEntropyLoss(\n",
       "    )\n",
       "  )\n",
       "  (transformation_1): Sequential(\n",
       "    (0): Linear(in_features=100, out_features=100)\n",
       "  )\n",
       "  (transformation_2): Sequential(\n",
       "    (0): Linear(in_features=100, out_features=100)\n",
       "  )\n",
       ")"
      ]
     },
     "execution_count": 29,
     "metadata": {},
     "output_type": "execute_result"
    }
   ],
   "source": [
    "cls.eval()"
   ]
  },
  {
   "cell_type": "code",
   "execution_count": 43,
   "metadata": {
    "collapsed": true
   },
   "outputs": [],
   "source": []
  },
  {
   "cell_type": "code",
   "execution_count": 51,
   "metadata": {
    "collapsed": true
   },
   "outputs": [],
   "source": [
    "gc.collect()\n",
    "torch.cuda.empty_cache()"
   ]
  },
  {
   "cell_type": "code",
   "execution_count": null,
   "metadata": {
    "collapsed": true
   },
   "outputs": [],
   "source": []
  },
  {
   "cell_type": "code",
   "execution_count": 30,
   "metadata": {
    "collapsed": true
   },
   "outputs": [],
   "source": [
    "import sklearn\n",
    "from sklearn.metrics import log_loss, accuracy_score"
   ]
  },
  {
   "cell_type": "code",
   "execution_count": 48,
   "metadata": {
    "collapsed": true
   },
   "outputs": [],
   "source": [
    "def build_confusion_matrix(predicted_probs, true_y):\n",
    "    n_labels = predicted_probs.shape[1]\n",
    "#     assert true_y.shape == predicted_probs.shape\n",
    "    result = np.zeros(shape=(n_labels, n_labels))\n",
    "    \n",
    "    pred = predicted_probs.argmax(axis=1)\n",
    "#     true = true_y.argmax(axis=1)\n",
    "    true = true_y\n",
    "    \n",
    "    for pred_cls in range(n_labels):\n",
    "        for true_cls in range(n_labels):\n",
    "            result[true_cls, pred_cls] = np.count_nonzero(true[pred == pred_cls] == true_cls)\n",
    "#     norm = result.sum(axis=1)\n",
    "#     norm = np.maximum(norm, 1)\n",
    "#     result /= norm[:, None]\n",
    "    return result\n"
   ]
  },
  {
   "cell_type": "code",
   "execution_count": 39,
   "metadata": {
    "collapsed": true
   },
   "outputs": [],
   "source": [
    "def get_probs(transformation, model, embeddings, batch_size, use_cuda):\n",
    "    result = []\n",
    "    for position in range(0, len(embeddings), batch_size):\n",
    "        x = embeddings[position:position + batch_size]\n",
    "        x = torch.autograd.Variable(torch.from_numpy(x)).float()\n",
    "        if use_cuda:\n",
    "            x = x.cuda()\n",
    "        \n",
    "        x = transformation(x)\n",
    "        _, probs = model.discriminator.forward(x)\n",
    "        probs = probs.data.cpu().numpy()\n",
    "        result.append(probs)\n",
    "        \n",
    "    return np.vstack(result)"
   ]
  },
  {
   "cell_type": "code",
   "execution_count": 59,
   "metadata": {
    "collapsed": true
   },
   "outputs": [],
   "source": [
    "def validate(model, embeddings_1, embeddings_2, batch_size, use_cuda):\n",
    "    probs_1 = get_probs(model.transform1, model, embeddings_1, batch_size, use_cuda)\n",
    "    probs_2 = get_probs(model.transform2, model, embeddings_2, batch_size, use_cuda)\n",
    "    probs = np.vstack([probs_1, probs_2])\n",
    "    \n",
    "    pred_1 = probs_1.argmax(axis=1).reshape(-1, 1)\n",
    "    pred_2 = probs_2.argmax(axis=1).reshape(-1, 1)    \n",
    "    pred = np.vstack([pred_1, pred_2])\n",
    "    \n",
    "    y_true = np.concatenate([np.zeros((len(pred_1),)), np.ones((len(pred_2)))])\n",
    "    \n",
    "    \n",
    "    acc = accuracy_score(y_pred=pred, y_true=y_true)\n",
    "    loss = log_loss(y_pred=probs, y_true=y_true)\n",
    "    cm = build_confusion_matrix(probs, y_true)\n",
    "    \n",
    "    plt.hist(probs[:, 1], bins=100, label=\"1\")\n",
    "    plt.hist(probs[:, 0], bins=100, label=\"0\")\n",
    "    plt.legend()\n",
    "    plt.show()\n",
    "    \n",
    "    return acc, loss, cm, probs, y_true\n",
    "    "
   ]
  },
  {
   "cell_type": "code",
   "execution_count": 60,
   "metadata": {
    "collapsed": false
   },
   "outputs": [
    {
     "data": {
      "image/png": "[encoded data removed]",
      "text/plain": [
       "<matplotlib.figure.Figure at 0x7f1a14398fd0>"
      ]
     },
     "metadata": {},
     "output_type": "display_data"
    },
    {
     "name": "stdout",
     "output_type": "stream",
     "text": [
      "Accuracy  0.5196927654276701\n",
      "Loss  0.698104797014045\n",
      "Confusion matrix\n",
      " [[26304. 21073.]\n",
      " [24451. 22953.]]\n"
     ]
    }
   ],
   "source": [
    "result = validate(cls, vocab1.embeddings, vocab2.embeddings, 200, use_cuda=True)\n",
    "print(\"Accuracy \", result[0])\n",
    "print(\"Loss \", result[1])\n",
    "print(\"Confusion matrix\\n\", result[2])"
   ]
  },
  {
   "cell_type": "code",
   "execution_count": 42,
   "metadata": {
    "collapsed": false,
    "scrolled": true
   },
   "outputs": [],
   "source": [
    "\n",
    "# for iteration_id in range(100):\n",
    "#     x1 = embed_sampler_1.get_batch(n1).astype(np.float32)\n",
    "#     x1_old = torch.autograd.Variable(torch.from_numpy(x1)).cuda()\n",
    "#     x1 = cls.transform1(x1_old)\n",
    "#     del x1_old\n",
    "\n",
    "#     # x2, _, _= sent_sampler_2.get_test()\n",
    "#     x2 = embed_sampler_2.get_batch(n2).astype(np.float32)\n",
    "#     # x2 = x2.cuda()\n",
    "#     x2_old = torch.autograd.Variable(torch.from_numpy(x2)).cuda()\n",
    "#     x2 = cls.transform2(x2_old)\n",
    "\n",
    "\n",
    "#     y = torch.autograd.Variable(torch.cat([torch.zeros(n1), torch.ones(n2)], 0)).long().cuda()\n",
    "#     x = torch.cat([x1, x2], 0)\n",
    "#     loss = cls.discriminator.get_loss(x, y)\n",
    "#     loss = loss.data.cpu().numpy()[0]\n",
    "#     _, probs = cls.discriminator.forward(x)\n",
    "#     probs = probs.data.cpu().numpy()\n",
    "#     pred = probs.argmax(axis=1)\n",
    "#     y_ = y.data.cpu().numpy()\n",
    "#     accuracy = np.count_nonzero(pred == y_)/len(y_)\n",
    "#     print(loss, accuracy)\n",
    "#     a = probs[pred == 1, 1].mean()\n",
    "#     b = probs[pred == 0, 1].mean()\n",
    "#     print(a, b)\n",
    "#     a = probs[pred == 1, 1].min()\n",
    "#     b = probs[pred == 0, 1].max()\n",
    "#     print(a, b)\n",
    "#     y__ = np.zeros(shape=(len(y_), 2))\n",
    "#     y__[y_ == 1, 1] = 1\n",
    "#     y__[y_ == 0, 0] = 1\n",
    "#     cm = build_confusion_matrix(probs, y__)\n",
    "#     print(cm)\n",
    "#     plt.hist(probs[:, 1])\n",
    "#     plt.show()"
   ]
  },
  {
   "cell_type": "code",
   "execution_count": 43,
   "metadata": {
    "collapsed": false
   },
   "outputs": [],
   "source": [
    "# probs"
   ]
  },
  {
   "cell_type": "code",
   "execution_count": null,
   "metadata": {
    "collapsed": false
   },
   "outputs": [],
   "source": []
  },
  {
   "cell_type": "code",
   "execution_count": null,
   "metadata": {
    "collapsed": false
   },
   "outputs": [],
   "source": []
  },
  {
   "cell_type": "code",
   "execution_count": 44,
   "metadata": {
    "collapsed": false
   },
   "outputs": [],
   "source": [
    "# cls.discriminator_step(x, y)"
   ]
  },
  {
   "cell_type": "code",
   "execution_count": null,
   "metadata": {
    "collapsed": false
   },
   "outputs": [],
   "source": []
  },
  {
   "cell_type": "code",
   "execution_count": 45,
   "metadata": {
    "collapsed": false
   },
   "outputs": [],
   "source": [
    "# cls.discriminator.actual_model.zero_grad()"
   ]
  },
  {
   "cell_type": "code",
   "execution_count": null,
   "metadata": {
    "collapsed": false
   },
   "outputs": [],
   "source": []
  },
  {
   "cell_type": "code",
   "execution_count": null,
   "metadata": {
    "collapsed": true
   },
   "outputs": [],
   "source": []
  },
  {
   "cell_type": "code",
   "execution_count": null,
   "metadata": {
    "collapsed": false
   },
   "outputs": [],
   "source": [
    "y.shape"
   ]
  },
  {
   "cell_type": "code",
   "execution_count": 351,
   "metadata": {
    "collapsed": false
   },
   "outputs": [
    {
     "data": {
      "text/plain": [
       "0.741"
      ]
     },
     "execution_count": 351,
     "metadata": {},
     "output_type": "execute_result"
    }
   ],
   "source": []
  },
  {
   "cell_type": "code",
   "execution_count": 352,
   "metadata": {
    "collapsed": false,
    "scrolled": true
   },
   "outputs": [
    {
     "data": {
      "text/plain": [
       "array([0, 0, 0, ..., 1, 1, 1])"
      ]
     },
     "execution_count": 352,
     "metadata": {},
     "output_type": "execute_result"
    }
   ],
   "source": [
    "y_[pred == y_]"
   ]
  },
  {
   "cell_type": "code",
   "execution_count": 353,
   "metadata": {
    "collapsed": false
   },
   "outputs": [],
   "source": []
  },
  {
   "cell_type": "code",
   "execution_count": 354,
   "metadata": {
    "collapsed": true
   },
   "outputs": [],
   "source": []
  },
  {
   "cell_type": "code",
   "execution_count": 355,
   "metadata": {
    "collapsed": true
   },
   "outputs": [],
   "source": []
  },
  {
   "cell_type": "code",
   "execution_count": 356,
   "metadata": {
    "collapsed": false
   },
   "outputs": [],
   "source": []
  },
  {
   "cell_type": "code",
   "execution_count": 357,
   "metadata": {
    "collapsed": false
   },
   "outputs": [],
   "source": [
    "def plot_confusion_matrix(confusion_matrix):\n",
    "    fig = plt.figure( figsize=(20, 20))\n",
    "    plt.xlabel(\"True classes\")\n",
    "    plt.ylabel(\"Predicted classes\")\n",
    "    sns.heatmap(confusion_matrix, annot=True, vmin=0.0, vmax=1.0, cmap=\"YlGnBu\")"
   ]
  },
  {
   "cell_type": "code",
   "execution_count": 358,
   "metadata": {
    "collapsed": false
   },
   "outputs": [],
   "source": [
    "# plot_confusion_matrix(cm)"
   ]
  },
  {
   "cell_type": "code",
   "execution_count": 359,
   "metadata": {
    "collapsed": false
   },
   "outputs": [
    {
     "data": {
      "text/plain": [
       "1938.0"
      ]
     },
     "execution_count": 359,
     "metadata": {},
     "output_type": "execute_result"
    }
   ],
   "source": [
    "cm[1][0]"
   ]
  },
  {
   "cell_type": "code",
   "execution_count": 360,
   "metadata": {
    "collapsed": false
   },
   "outputs": [
    {
     "data": {
      "text/plain": [
       "array([[4348.,  652.],\n",
       "       [1938., 3062.]])"
      ]
     },
     "execution_count": 360,
     "metadata": {},
     "output_type": "execute_result"
    }
   ],
   "source": [
    "cm"
   ]
  },
  {
   "cell_type": "code",
   "execution_count": 361,
   "metadata": {
    "collapsed": false
   },
   "outputs": [
    {
     "data": {
      "text/plain": [
       "(array([1.647e+03, 3.028e+03, 4.135e+03, 1.133e+03, 1.400e+01, 1.400e+01,\n",
       "        1.100e+01, 4.000e+00, 7.000e+00, 7.000e+00]),\n",
       " array([0.35679463, 0.41784872, 0.4789028 , 0.53995689, 0.60101098,\n",
       "        0.66206507, 0.72311916, 0.78417325, 0.84522734, 0.90628143,\n",
       "        0.96733552]),\n",
       " <a list of 10 Patch objects>)"
      ]
     },
     "execution_count": 361,
     "metadata": {},
     "output_type": "execute_result"
    },
    {
     "data": {
      "image/png": "[encoded data removed]",
      "text/plain": [
       "<matplotlib.figure.Figure at 0x7ff0e28900b8>"
      ]
     },
     "metadata": {},
     "output_type": "display_data"
    }
   ],
   "source": []
  },
  {
   "cell_type": "code",
   "execution_count": 140,
   "metadata": {
    "collapsed": false
   },
   "outputs": [
    {
     "data": {
      "text/plain": [
       "1.0"
      ]
     },
     "execution_count": 140,
     "metadata": {},
     "output_type": "execute_result"
    }
   ],
   "source": [
    "np.count_nonzero(probs[:, 0] < 0.999) / len(probs)"
   ]
  },
  {
   "cell_type": "code",
   "execution_count": 141,
   "metadata": {
    "collapsed": false
   },
   "outputs": [],
   "source": [
    "a = x2.cpu().data.numpy()"
   ]
  },
  {
   "cell_type": "code",
   "execution_count": 53,
   "metadata": {
    "collapsed": false
   },
   "outputs": [],
   "source": [
    "b = x1.cpu().data.numpy()"
   ]
  },
  {
   "cell_type": "code",
   "execution_count": 54,
   "metadata": {
    "collapsed": false
   },
   "outputs": [],
   "source": [
    "x2 = x2.data.cpu().numpy()"
   ]
  },
  {
   "cell_type": "code",
   "execution_count": 55,
   "metadata": {
    "collapsed": true
   },
   "outputs": [],
   "source": [
    "x2_old = x2_old.data.cpu().numpy()"
   ]
  },
  {
   "cell_type": "code",
   "execution_count": 56,
   "metadata": {
    "collapsed": true
   },
   "outputs": [],
   "source": [
    "x1 = x1.data.cpu().numpy()"
   ]
  },
  {
   "cell_type": "code",
   "execution_count": 57,
   "metadata": {
    "collapsed": false
   },
   "outputs": [],
   "source": [
    "v1 = x1.var(axis=1)"
   ]
  },
  {
   "cell_type": "code",
   "execution_count": 58,
   "metadata": {
    "collapsed": false
   },
   "outputs": [],
   "source": [
    "v2 = x2.var(axis=1)"
   ]
  },
  {
   "cell_type": "code",
   "execution_count": 59,
   "metadata": {
    "collapsed": false
   },
   "outputs": [
    {
     "data": {
      "text/plain": [
       "(0.11046429, 102.2626)"
      ]
     },
     "execution_count": 59,
     "metadata": {},
     "output_type": "execute_result"
    }
   ],
   "source": [
    "v1.mean(), v2.mean()"
   ]
  },
  {
   "cell_type": "code",
   "execution_count": 60,
   "metadata": {
    "collapsed": false
   },
   "outputs": [
    {
     "data": {
      "text/plain": [
       "(-0.02716727, 12.107327)"
      ]
     },
     "execution_count": 60,
     "metadata": {},
     "output_type": "execute_result"
    }
   ],
   "source": [
    "x1[:, 23].mean(), x2[:, 23].mean()"
   ]
  },
  {
   "cell_type": "code",
   "execution_count": 61,
   "metadata": {
    "collapsed": false
   },
   "outputs": [
    {
     "data": {
      "text/plain": [
       "(-3.7124705, 174.79897)"
      ]
     },
     "execution_count": 61,
     "metadata": {},
     "output_type": "execute_result"
    }
   ],
   "source": [
    "a[:, 2].min(), a[:, 2].max()"
   ]
  },
  {
   "cell_type": "code",
   "execution_count": 62,
   "metadata": {
    "collapsed": false
   },
   "outputs": [
    {
     "data": {
      "text/plain": [
       "(-1.4277, 2.6908)"
      ]
     },
     "execution_count": 62,
     "metadata": {},
     "output_type": "execute_result"
    }
   ],
   "source": [
    "b[:, 1].min(), b[:, ].max()"
   ]
  },
  {
   "cell_type": "code",
   "execution_count": 63,
   "metadata": {
    "collapsed": false
   },
   "outputs": [
    {
     "data": {
      "text/plain": [
       "0.16367291"
      ]
     },
     "execution_count": 63,
     "metadata": {},
     "output_type": "execute_result"
    }
   ],
   "source": [
    "v1[0]"
   ]
  },
  {
   "cell_type": "code",
   "execution_count": 64,
   "metadata": {
    "collapsed": false
   },
   "outputs": [
    {
     "ename": "NameError",
     "evalue": "name 'v2_t' is not defined",
     "output_type": "error",
     "traceback": [
      "\u001b[0;31m---------------------------------------------------------------------------\u001b[0m",
      "\u001b[0;31mNameError\u001b[0m                                 Traceback (most recent call last)",
      "\u001b[0;32m<ipython-input-64-31d7e8b5d9cc>\u001b[0m in \u001b[0;36m<module>\u001b[0;34m()\u001b[0m\n\u001b[0;32m----> 1\u001b[0;31m \u001b[0mv2_t\u001b[0m\u001b[0;34m[\u001b[0m\u001b[0;36m0\u001b[0m\u001b[0;34m]\u001b[0m\u001b[0;34m\u001b[0m\u001b[0m\n\u001b[0m",
      "\u001b[0;31mNameError\u001b[0m: name 'v2_t' is not defined"
     ]
    }
   ],
   "source": [
    "v2_t[0]"
   ]
  },
  {
   "cell_type": "code",
   "execution_count": 65,
   "metadata": {
    "collapsed": true
   },
   "outputs": [],
   "source": [
    "import sklearn.metrics as skms"
   ]
  },
  {
   "cell_type": "code",
   "execution_count": 74,
   "metadata": {
    "collapsed": false
   },
   "outputs": [
    {
     "data": {
      "text/plain": [
       "array([ 0.39520594,  0.30639488,  0.44650787,  0.1645084 ,  0.35313922,\n",
       "        0.26134342,  0.16894002,  0.20646647, -0.02554763,  0.20384546,\n",
       "        0.5050079 ,  0.34302565,  0.29202652,  0.41267747,  0.53470004,\n",
       "        0.16313905,  0.21574289,  0.22009766,  0.22442156,  0.2420528 ,\n",
       "        0.06621529,  0.07761168, -0.05406904,  0.35286176,  0.1814011 ],\n",
       "      dtype=float32)"
      ]
     },
     "execution_count": 74,
     "metadata": {},
     "output_type": "execute_result"
    }
   ],
   "source": [
    "skms.pairwise.cosine_similarity(x1[:5], x2[:5]).ravel()"
   ]
  },
  {
   "cell_type": "code",
   "execution_count": 75,
   "metadata": {
    "collapsed": false
   },
   "outputs": [
    {
     "data": {
      "text/plain": [
       "array([ 0.11918166,  0.02951451, -0.0456996 ,  0.01172976,  0.181189  ,\n",
       "        0.00820952, -0.06260593, -0.07489959, -0.02220186, -0.01885154,\n",
       "        0.10764948, -0.00161014,  0.07105204,  0.07839131,  0.04724923,\n",
       "       -0.18810102, -0.18871957, -0.12664916, -0.11190072,  0.05522443,\n",
       "       -0.17025638, -0.1770258 ,  0.02469893, -0.05895214, -0.04473685],\n",
       "      dtype=float32)"
      ]
     },
     "execution_count": 75,
     "metadata": {},
     "output_type": "execute_result"
    }
   ],
   "source": [
    "skms.pairwise.cosine_similarity(x1[:5], x2_old[:5]).ravel()"
   ]
  },
  {
   "cell_type": "code",
   "execution_count": 226,
   "metadata": {
    "collapsed": true
   },
   "outputs": [],
   "source": [
    "from sklearn.decomposition import PCA"
   ]
  },
  {
   "cell_type": "code",
   "execution_count": 227,
   "metadata": {
    "collapsed": true
   },
   "outputs": [],
   "source": [
    "pca = PCA(n_components=2)"
   ]
  },
  {
   "cell_type": "code",
   "execution_count": 228,
   "metadata": {
    "collapsed": false
   },
   "outputs": [
    {
     "data": {
      "text/plain": [
       "PCA(copy=True, iterated_power='auto', n_components=2, random_state=None,\n",
       "  svd_solver='auto', tol=0.0, whiten=False)"
      ]
     },
     "execution_count": 228,
     "metadata": {},
     "output_type": "execute_result"
    }
   ],
   "source": [
    "pca.fit(vocab1.embeddings)"
   ]
  },
  {
   "cell_type": "code",
   "execution_count": 84,
   "metadata": {
    "collapsed": true
   },
   "outputs": [],
   "source": [
    "transformed_x1 = pca.transform()"
   ]
  },
  {
   "cell_type": "code",
   "execution_count": 33,
   "metadata": {
    "collapsed": false
   },
   "outputs": [],
   "source": [
    "b2 = embed_sampler_2.get_batch(32).astype(np.float32)\n",
    "# x2 = x2.cuda()\n",
    "b2_t = torch.autograd.Variable(torch.from_numpy(b2)).cuda()\n",
    "b2_t = cls.transform2(b2_t)"
   ]
  },
  {
   "cell_type": "code",
   "execution_count": 43,
   "metadata": {
    "collapsed": false
   },
   "outputs": [],
   "source": [
    "transformed_x2 = pca.transform(b2)"
   ]
  },
  {
   "cell_type": "code",
   "execution_count": 44,
   "metadata": {
    "collapsed": false
   },
   "outputs": [],
   "source": [
    "transformed_x2_t = pca.transform(b2_t.data.cpu().numpy())"
   ]
  },
  {
   "cell_type": "code",
   "execution_count": 46,
   "metadata": {
    "collapsed": false
   },
   "outputs": [
    {
     "data": {
      "text/plain": [
       "<matplotlib.collections.PathCollection at 0x7fe330b5e860>"
      ]
     },
     "execution_count": 46,
     "metadata": {},
     "output_type": "execute_result"
    },
    {
     "data": {
      "image/png": "[encoded data removed]",
      "text/plain": [
       "<matplotlib.figure.Figure at 0x7fe33d38c438>"
      ]
     },
     "metadata": {},
     "output_type": "display_data"
    }
   ],
   "source": [
    "# plt.scatter(transformed_x1[:, 0], transformed_x1[:, 1])\n",
    "plt.scatter(transformed_x2[:, 0], transformed_x2[:, 1], color='r')\n",
    "plt.scatter(transformed_x2_t[:, 0], transformed_x2_t[:, 1], color='b')"
   ]
  },
  {
   "cell_type": "code",
   "execution_count": 23,
   "metadata": {
    "collapsed": true
   },
   "outputs": [
    {
     "name": "stdout",
     "output_type": "stream",
     "text": [
      "help\n",
      "family\n",
      "group\n",
      "look\n",
      "own\n",
      "president\n",
      "top\n",
      "man\n",
      "come\n",
      "october\n",
      "big\n",
      "every\n",
      "things\n",
      "30\n",
      "women\n",
      "9\n",
      "found\n",
      "public\n",
      "ll\n",
      "campaign\n",
      "set\n",
      "left\n",
      "better\n",
      "country\n",
      "never\n"
     ]
    }
   ],
   "source": [
    "for v in vocab2.words[200:225]:\n",
    "    print(v)"
   ]
  },
  {
   "cell_type": "code",
   "execution_count": 229,
   "metadata": {
    "collapsed": true
   },
   "outputs": [],
   "source": [
    "e = \"\"\"\n",
    "help\n",
    "family\n",
    "group\n",
    "look\n",
    "own\n",
    "president\n",
    "high\n",
    "man\n",
    "come\n",
    "october\n",
    "big\n",
    "every\n",
    "thing\n",
    "woman\n",
    "find\n",
    "public\n",
    "campaign\n",
    "water\n",
    "left\n",
    "good\n",
    "country\n",
    "never\n",
    "\"\"\"\n",
    "e = [w.strip() for w in e.split(\"\\n\") if len(w) > 1]"
   ]
  },
  {
   "cell_type": "code",
   "execution_count": 230,
   "metadata": {
    "collapsed": true
   },
   "outputs": [],
   "source": [
    "f = \"\"\"\n",
    "aider\n",
    "famille\n",
    "groupe\n",
    "regarder\n",
    "posséder\n",
    "président\n",
    "haut\n",
    "homme\n",
    "venir\n",
    "octobre\n",
    "gros\n",
    "chaque\n",
    "chose\n",
    "femme\n",
    "trouver\n",
    "publique\n",
    "campagne\n",
    "eau\n",
    "gauche\n",
    "bien\n",
    "pays\n",
    "jamais\n",
    "\"\"\"\n",
    "f = [w.strip() for w in f.split(\"\\n\") if len(w) > 1]"
   ]
  },
  {
   "cell_type": "code",
   "execution_count": 231,
   "metadata": {
    "collapsed": false
   },
   "outputs": [],
   "source": [
    "# cls = cls.cpu()\n",
    "from sklearn.decomposition import PCA"
   ]
  },
  {
   "cell_type": "code",
   "execution_count": 232,
   "metadata": {
    "collapsed": false
   },
   "outputs": [],
   "source": [
    "pca = PCA(n_components=2)"
   ]
  },
  {
   "cell_type": "code",
   "execution_count": 233,
   "metadata": {
    "collapsed": true
   },
   "outputs": [],
   "source": [
    "all_x1 = torch.autograd.Variable(torch.from_numpy(vocab1.embeddings).float()).cuda()"
   ]
  },
  {
   "cell_type": "code",
   "execution_count": 33,
   "metadata": {
    "collapsed": false
   },
   "outputs": [],
   "source": [
    "# all_x1t = cls.transform1(all_x1)\n",
    "# all_x1t = all_x1t.cpu().data.numpy()"
   ]
  },
  {
   "cell_type": "code",
   "execution_count": 42,
   "metadata": {
    "collapsed": false
   },
   "outputs": [
    {
     "data": {
      "text/plain": [
       "PCA(copy=True, iterated_power='auto', n_components=2, random_state=None,\n",
       "  svd_solver='auto', tol=0.0, whiten=False)"
      ]
     },
     "execution_count": 42,
     "metadata": {},
     "output_type": "execute_result"
    }
   ],
   "source": [
    "pca.fit(all_x1t)"
   ]
  },
  {
   "cell_type": "code",
   "execution_count": 43,
   "metadata": {
    "collapsed": false
   },
   "outputs": [],
   "source": [
    "import gc\n",
    "gc.collect()\n",
    "torch.cuda.empty_cache()"
   ]
  },
  {
   "cell_type": "code",
   "execution_count": 36,
   "metadata": {
    "collapsed": false
   },
   "outputs": [],
   "source": [
    "x1 = vocab1.get_word_embeddings(f).astype(np.float32)\n",
    "x1 = torch.autograd.Variable(torch.from_numpy(x1)).cuda()\n",
    "x1_t = cls.transform1(x1)"
   ]
  },
  {
   "cell_type": "code",
   "execution_count": null,
   "metadata": {
    "collapsed": true
   },
   "outputs": [],
   "source": []
  },
  {
   "cell_type": "code",
   "execution_count": 38,
   "metadata": {
    "collapsed": false
   },
   "outputs": [],
   "source": [
    "x2 = vocab2.get_word_embeddings(e).astype(np.float32)\n",
    "x2 = torch.autograd.Variable(torch.from_numpy(x2)).cuda()\n",
    "x2_t = cls.transform2(x2)"
   ]
  },
  {
   "cell_type": "code",
   "execution_count": 44,
   "metadata": {
    "collapsed": false
   },
   "outputs": [],
   "source": [
    "t1 = pca.transform(x1_t.data.cpu().numpy())"
   ]
  },
  {
   "cell_type": "code",
   "execution_count": 45,
   "metadata": {
    "collapsed": true
   },
   "outputs": [],
   "source": [
    "t2 = pca.transform(x2_t.data.cpu().numpy())"
   ]
  },
  {
   "cell_type": "code",
   "execution_count": 46,
   "metadata": {
    "collapsed": true
   },
   "outputs": [],
   "source": [
    "# t2_t = pca.transform(x2_t.data.cpu().numpy())"
   ]
  },
  {
   "cell_type": "code",
   "execution_count": 47,
   "metadata": {
    "collapsed": false
   },
   "outputs": [],
   "source": [
    "def plot_word_by_id(t1, t2, t2_t, ids):\n",
    "#     plt.xlim(-2, 2)\n",
    "#     plt.ylim(-1, 1)\n",
    "    plt.scatter(t1[ids, 0], t1[ids, 1], color='r')\n",
    "    plt.scatter(t2[ids, 0], t2[ids, 1], color='b')\n",
    "#     plt.scatter(t2_t[ids, 0], t2_t[ids, 1], color='g')\n",
    "    plt.show()"
   ]
  },
  {
   "cell_type": "code",
   "execution_count": 49,
   "metadata": {
    "collapsed": false
   },
   "outputs": [
    {
     "data": {
      "image/png": "[encoded data removed]",
      "text/plain": [
       "<matplotlib.figure.Figure at 0x7f5bb130d748>"
      ]
     },
     "metadata": {},
     "output_type": "display_data"
    }
   ],
   "source": [
    "plot_word_by_id(t1, t2, None, list(range(22)))"
   ]
  },
  {
   "cell_type": "code",
   "execution_count": null,
   "metadata": {
    "collapsed": true
   },
   "outputs": [],
   "source": []
  }
 ],
 "metadata": {
  "kernelspec": {
   "display_name": "Python [torch]",
   "language": "python",
   "name": "Python [torch]"
  },
  "language_info": {
   "codemirror_mode": {
    "name": "ipython",
    "version": 3
   },
   "file_extension": ".py",
   "mimetype": "text/x-python",
   "name": "python",
   "nbconvert_exporter": "python",
   "pygments_lexer": "ipython3",
   "version": "3.5.4"
  }
 },
 "nbformat": 4,
 "nbformat_minor": 0
}
