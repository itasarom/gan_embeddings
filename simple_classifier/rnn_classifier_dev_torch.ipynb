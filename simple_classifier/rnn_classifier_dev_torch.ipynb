{
 "cells": [
  {
   "cell_type": "code",
   "execution_count": 2,
   "metadata": {
    "collapsed": false
   },
   "outputs": [],
   "source": [
    "import numpy as np\n",
    "import torch\n",
    "import pandas as pd\n",
    "\n",
    "import matplotlib.pyplot as plt\n",
    "\n",
    "from collections import namedtuple\n",
    "import seaborn as sns\n",
    "%matplotlib inline\n",
    "%load_ext autoreload\n",
    "%autoreload 2"
   ]
  },
  {
   "cell_type": "code",
   "execution_count": 3,
   "metadata": {
    "collapsed": false
   },
   "outputs": [],
   "source": [
    "import data_processing as dp\n",
    "import rnn_classifier_torch as ac\n",
    "import model_utilities_torch as mu \n",
    "import evaluation as ev\n",
    "import vocab as vo"
   ]
  },
  {
   "cell_type": "code",
   "execution_count": 4,
   "metadata": {
    "collapsed": true
   },
   "outputs": [],
   "source": [
    "vocab, all_labels, sents, labels = dp.load_problem(lang='ru')"
   ]
  },
  {
   "cell_type": "code",
   "execution_count": 5,
   "metadata": {
    "collapsed": false
   },
   "outputs": [
    {
     "name": "stdout",
     "output_type": "stream",
     "text": [
      "True 1\r\n"
     ]
    }
   ],
   "source": [
    "!python -c \"import torch; print(torch.cuda.is_available(), torch.cuda.device_count())\""
   ]
  },
  {
   "cell_type": "code",
   "execution_count": 6,
   "metadata": {
    "collapsed": false
   },
   "outputs": [
    {
     "name": "stdout",
     "output_type": "stream",
     "text": [
      "/media/itasarom/7158f0d7-af1d-45d4-855f-86204aed5a8b/Projects/diplom/simple_classifier\r\n"
     ]
    }
   ],
   "source": [
    "!pwd"
   ]
  },
  {
   "cell_type": "code",
   "execution_count": 7,
   "metadata": {
    "collapsed": false
   },
   "outputs": [
    {
     "data": {
      "text/plain": [
       "True"
      ]
     },
     "execution_count": 7,
     "metadata": {},
     "output_type": "execute_result"
    }
   ],
   "source": [
    "torch.cuda.is_available()"
   ]
  },
  {
   "cell_type": "code",
   "execution_count": 8,
   "metadata": {
    "collapsed": false
   },
   "outputs": [
    {
     "data": {
      "text/plain": [
       "1"
      ]
     },
     "execution_count": 8,
     "metadata": {},
     "output_type": "execute_result"
    }
   ],
   "source": [
    "torch.cuda.device_count()"
   ]
  },
  {
   "cell_type": "code",
   "execution_count": 9,
   "metadata": {
    "collapsed": false
   },
   "outputs": [
    {
     "data": {
      "text/plain": [
       "'/usr/local/cuda-9.0/lib64::/usr/lib/x86_64-linux-gnu:/usr/local/lib:/usr/local/cuda/lib64:/usr/lib/x86_64-linux-gnu:/usr/lib/nvidia-387'"
      ]
     },
     "execution_count": 9,
     "metadata": {},
     "output_type": "execute_result"
    }
   ],
   "source": [
    "import os\n",
    "os.environ[\"LD_LIBRARY_PATH\"]"
   ]
  },
  {
   "cell_type": "code",
   "execution_count": 10,
   "metadata": {
    "collapsed": false
   },
   "outputs": [
    {
     "data": {
      "text/plain": [
       "'/home/itasarom/.programs/anaconda2/envs/torch/bin/python'"
      ]
     },
     "execution_count": 10,
     "metadata": {},
     "output_type": "execute_result"
    }
   ],
   "source": [
    "import sys\n",
    "sys.executable"
   ]
  },
  {
   "cell_type": "code",
   "execution_count": 11,
   "metadata": {
    "collapsed": false
   },
   "outputs": [
    {
     "data": {
      "text/plain": [
       "'/home/itasarom/.programs/anaconda2/envs/torch/lib/python3.5/site-packages/ipykernel/__main__.py'"
      ]
     },
     "execution_count": 11,
     "metadata": {},
     "output_type": "execute_result"
    }
   ],
   "source": [
    "sys.argv[0]"
   ]
  },
  {
   "cell_type": "code",
   "execution_count": 12,
   "metadata": {
    "collapsed": false
   },
   "outputs": [],
   "source": [
    "# vocab.embeddings.dtype"
   ]
  },
  {
   "cell_type": "code",
   "execution_count": 13,
   "metadata": {
    "collapsed": false
   },
   "outputs": [],
   "source": [
    "batch_sampler = vo.BatchSampler(sents=sents, labels=labels, vocab=vocab, all_labels=all_labels, batch_size=128)"
   ]
  },
  {
   "cell_type": "code",
   "execution_count": 27,
   "metadata": {
    "collapsed": false
   },
   "outputs": [],
   "source": [
    "del cls\n",
    "import gc\n",
    "gc.collect()\n",
    "torch.cuda.empty_cache()"
   ]
  },
  {
   "cell_type": "code",
   "execution_count": 47,
   "metadata": {
    "collapsed": false
   },
   "outputs": [],
   "source": [
    "cls = ac.RnnClassifier(vocab, n_topics=len(all_labels))"
   ]
  },
  {
   "cell_type": "code",
   "execution_count": 48,
   "metadata": {
    "collapsed": false
   },
   "outputs": [],
   "source": [
    "cls = cls.cuda()"
   ]
  },
  {
   "cell_type": "code",
   "execution_count": 18,
   "metadata": {
    "collapsed": false
   },
   "outputs": [
    {
     "data": {
      "text/plain": [
       "RnnClassifier(\n",
       "  (word_embeddings): Embedding(176032, 100)\n",
       "  (rnn_cell): LSTM(100, 128, batch_first=True)\n",
       "  (dense): Linear(in_features=128, out_features=256)\n",
       "  (logits_layer): Linear(in_features=256, out_features=26)\n",
       "  (softmax_layer): Softmax()\n",
       "  (loss_function): CrossEntropyLoss(\n",
       "  )\n",
       ")"
      ]
     },
     "execution_count": 18,
     "metadata": {},
     "output_type": "execute_result"
    }
   ],
   "source": [
    "cls"
   ]
  },
  {
   "cell_type": "code",
   "execution_count": 49,
   "metadata": {
    "collapsed": false
   },
   "outputs": [],
   "source": [
    "trainer = mu.Trainer(cls)"
   ]
  },
  {
   "cell_type": "code",
   "execution_count": 51,
   "metadata": {
    "collapsed": true
   },
   "outputs": [],
   "source": [
    "trainer.restore(\"./checkpoints/checkpoint.ckpt\")"
   ]
  },
  {
   "cell_type": "code",
   "execution_count": 45,
   "metadata": {
    "collapsed": false,
    "scrolled": true
   },
   "outputs": [
    {
     "name": "stderr",
     "output_type": "stream",
     "text": [
      "\n",
      "0it [00:00, ?it/s]\u001b[A\n",
      "2it [00:00, 13.19it/s]\u001b[A"
     ]
    },
    {
     "name": "stdout",
     "output_type": "stream",
     "text": [
      "Starting epoch  0\n"
     ]
    },
    {
     "name": "stderr",
     "output_type": "stream",
     "text": [
      "\n",
      "4it [00:00, 13.24it/s]\u001b[A\n",
      "6it [00:00, 12.99it/s]\u001b[A\n",
      "8it [00:00, 12.98it/s]\u001b[A\n",
      "10it [00:00, 12.97it/s]\u001b[A\n",
      "12it [00:00, 13.00it/s]\u001b[A\n",
      "14it [00:01, 13.02it/s]\u001b[A\n",
      "16it [00:01, 12.87it/s]\u001b[A\n",
      "18it [00:01, 12.92it/s]\u001b[A\n",
      "20it [00:01, 12.83it/s]\u001b[A\n",
      "22it [00:01, 12.87it/s]\u001b[A\n",
      "24it [00:01, 12.86it/s]\u001b[A\n",
      "26it [00:02, 12.86it/s]\u001b[A\n",
      "28it [00:02, 12.86it/s]\u001b[A\n",
      "30it [00:02, 12.90it/s]\u001b[A\n",
      "32it [00:02, 12.85it/s]\u001b[A\n",
      "34it [00:02, 12.84it/s]\u001b[A\n",
      "36it [00:02, 12.88it/s]\u001b[A\n",
      "38it [00:02, 12.87it/s]\u001b[A\n",
      "40it [00:03, 12.90it/s]\u001b[A\n",
      "42it [00:03, 12.92it/s]\u001b[A\n",
      "44it [00:03, 12.92it/s]\u001b[A\n",
      "46it [00:03, 12.92it/s]\u001b[A\n",
      "Exception in thread Thread-9:\n",
      "Traceback (most recent call last):\n",
      "  File \"/home/itasarom/.programs/anaconda2/envs/torch/lib/python3.5/threading.py\", line 914, in _bootstrap_inner\n",
      "    self.run()\n",
      "  File \"/home/itasarom/.programs/anaconda2/envs/torch/lib/python3.5/site-packages/tqdm/_tqdm.py\", line 144, in run\n",
      "    for instance in self.tqdm_cls._instances:\n",
      "  File \"/home/itasarom/.programs/anaconda2/envs/torch/lib/python3.5/_weakrefset.py\", line 60, in __iter__\n",
      "    for itemref in self.data:\n",
      "RuntimeError: Set changed size during iteration\n",
      "\n",
      "308it [00:24, 12.64it/s]\n",
      "2it [00:00, 11.51it/s]"
     ]
    },
    {
     "name": "stdout",
     "output_type": "stream",
     "text": [
      "After epoch 0 validation_loss = 1.0450953245162964, train_loss = 0.7885323762893677\n",
      "Starting epoch  1\n"
     ]
    },
    {
     "name": "stderr",
     "output_type": "stream",
     "text": [
      "308it [00:24, 12.59it/s]\n",
      "2it [00:00, 13.33it/s]"
     ]
    },
    {
     "name": "stdout",
     "output_type": "stream",
     "text": [
      "After epoch 1 validation_loss = 1.0016415119171143, train_loss = 0.7602207064628601\n",
      "Starting epoch  2\n"
     ]
    },
    {
     "name": "stderr",
     "output_type": "stream",
     "text": [
      "308it [00:23, 12.89it/s]\n",
      "2it [00:00, 13.05it/s]"
     ]
    },
    {
     "name": "stdout",
     "output_type": "stream",
     "text": [
      "After epoch 2 validation_loss = 0.9542332887649536, train_loss = 0.7338666915893555\n",
      "Starting epoch  3\n"
     ]
    },
    {
     "name": "stderr",
     "output_type": "stream",
     "text": [
      "308it [00:23, 13.05it/s]\n",
      "2it [00:00, 13.73it/s]"
     ]
    },
    {
     "name": "stdout",
     "output_type": "stream",
     "text": [
      "After epoch 3 validation_loss = 0.9174960255622864, train_loss = 0.7120638489723206\n",
      "Starting epoch  4\n"
     ]
    },
    {
     "name": "stderr",
     "output_type": "stream",
     "text": [
      "308it [00:23, 12.90it/s]\n",
      "2it [00:00, 13.16it/s]"
     ]
    },
    {
     "name": "stdout",
     "output_type": "stream",
     "text": [
      "After epoch 4 validation_loss = 0.8883177042007446, train_loss = 0.6824063658714294\n",
      "Starting epoch  5\n"
     ]
    },
    {
     "name": "stderr",
     "output_type": "stream",
     "text": [
      "308it [00:23, 12.84it/s]\n",
      "2it [00:00, 13.86it/s]"
     ]
    },
    {
     "name": "stdout",
     "output_type": "stream",
     "text": [
      "After epoch 5 validation_loss = 0.8510343432426453, train_loss = 0.663198709487915\n",
      "Starting epoch  6\n"
     ]
    },
    {
     "name": "stderr",
     "output_type": "stream",
     "text": [
      "308it [00:24, 12.80it/s]\n",
      "2it [00:00, 13.36it/s]"
     ]
    },
    {
     "name": "stdout",
     "output_type": "stream",
     "text": [
      "After epoch 6 validation_loss = 0.8015474677085876, train_loss = 0.6498702168464661\n",
      "Starting epoch  7\n"
     ]
    },
    {
     "name": "stderr",
     "output_type": "stream",
     "text": [
      "308it [00:23, 12.99it/s]\n",
      "2it [00:00, 13.60it/s]"
     ]
    },
    {
     "name": "stdout",
     "output_type": "stream",
     "text": [
      "After epoch 7 validation_loss = 0.7942966818809509, train_loss = 0.6319759488105774\n",
      "Starting epoch  8\n"
     ]
    },
    {
     "name": "stderr",
     "output_type": "stream",
     "text": [
      "308it [00:23, 12.92it/s]\n",
      "2it [00:00, 12.51it/s]"
     ]
    },
    {
     "name": "stdout",
     "output_type": "stream",
     "text": [
      "After epoch 8 validation_loss = 0.8278712034225464, train_loss = 0.6086879372596741\n",
      "Starting epoch  9\n"
     ]
    },
    {
     "name": "stderr",
     "output_type": "stream",
     "text": [
      "308it [00:24, 12.68it/s]\n"
     ]
    },
    {
     "name": "stdout",
     "output_type": "stream",
     "text": [
      "After epoch 9 validation_loss = 0.7238699793815613, train_loss = 0.583816409111023\n"
     ]
    },
    {
     "name": "stderr",
     "output_type": "stream",
     "text": [
      "2it [00:00, 13.58it/s]"
     ]
    },
    {
     "name": "stdout",
     "output_type": "stream",
     "text": [
      "Starting epoch  10\n"
     ]
    },
    {
     "name": "stderr",
     "output_type": "stream",
     "text": [
      "308it [00:24, 12.83it/s]\n",
      "2it [00:00, 12.27it/s]"
     ]
    },
    {
     "name": "stdout",
     "output_type": "stream",
     "text": [
      "After epoch 10 validation_loss = 0.7105193734169006, train_loss = 0.5570404529571533\n",
      "Starting epoch  11\n"
     ]
    },
    {
     "name": "stderr",
     "output_type": "stream",
     "text": [
      "308it [00:23, 12.96it/s]\n",
      "2it [00:00, 13.89it/s]"
     ]
    },
    {
     "name": "stdout",
     "output_type": "stream",
     "text": [
      "After epoch 11 validation_loss = 0.6589584946632385, train_loss = 0.5483030676841736\n",
      "Starting epoch  12\n"
     ]
    },
    {
     "name": "stderr",
     "output_type": "stream",
     "text": [
      "138it [00:10, 12.72it/s]"
     ]
    },
    {
     "ename": "KeyboardInterrupt",
     "evalue": "",
     "output_type": "error",
     "traceback": [
      "\u001b[0;31m---------------------------------------------------------------------------\u001b[0m",
      "\u001b[0;31mKeyboardInterrupt\u001b[0m                         Traceback (most recent call last)",
      "\u001b[0;32m<ipython-input-45-08c10fc44dd0>\u001b[0m in \u001b[0;36m<module>\u001b[0;34m()\u001b[0m\n\u001b[0;32m----> 1\u001b[0;31m \u001b[0mtrainer\u001b[0m\u001b[0;34m.\u001b[0m\u001b[0mtrain\u001b[0m\u001b[0;34m(\u001b[0m\u001b[0mbatch_sampler\u001b[0m\u001b[0;34m=\u001b[0m\u001b[0mbatch_sampler\u001b[0m\u001b[0;34m,\u001b[0m \u001b[0mn_epochs\u001b[0m\u001b[0;34m=\u001b[0m\u001b[0;36m200\u001b[0m\u001b[0;34m,\u001b[0m \u001b[0mmax_iterations\u001b[0m\u001b[0;34m=\u001b[0m\u001b[0;36m10\u001b[0m\u001b[0;34m**\u001b[0m\u001b[0;36m5\u001b[0m\u001b[0;34m,\u001b[0m \u001b[0msave_path\u001b[0m\u001b[0;34m=\u001b[0m\u001b[0;34m\"./checkpoints/checkpoint.ckpt\"\u001b[0m\u001b[0;34m,\u001b[0m \u001b[0msave_every\u001b[0m\u001b[0;34m=\u001b[0m\u001b[0;36m10\u001b[0m\u001b[0;34m)\u001b[0m\u001b[0;34m\u001b[0m\u001b[0m\n\u001b[0m",
      "\u001b[0;32m/media/itasarom/7158f0d7-af1d-45d4-855f-86204aed5a8b/Projects/diplom/simple_classifier/model_utilities_torch.py\u001b[0m in \u001b[0;36mtrain\u001b[0;34m(self, batch_sampler, n_epochs, max_iterations, save_path, save_every)\u001b[0m\n\u001b[1;32m     57\u001b[0m             \u001b[0mprint\u001b[0m\u001b[0;34m(\u001b[0m\u001b[0;34m\"Starting epoch \"\u001b[0m\u001b[0;34m,\u001b[0m \u001b[0mepoch_id\u001b[0m\u001b[0;34m)\u001b[0m\u001b[0;34m\u001b[0m\u001b[0m\n\u001b[1;32m     58\u001b[0m             \u001b[0mtrain_losses\u001b[0m \u001b[0;34m=\u001b[0m \u001b[0;34m[\u001b[0m\u001b[0;34m]\u001b[0m\u001b[0;34m\u001b[0m\u001b[0m\n\u001b[0;32m---> 59\u001b[0;31m             \u001b[0;32mfor\u001b[0m \u001b[0miteration_id\u001b[0m\u001b[0;34m,\u001b[0m \u001b[0;34m(\u001b[0m\u001b[0mx\u001b[0m\u001b[0;34m,\u001b[0m \u001b[0mmask\u001b[0m\u001b[0;34m,\u001b[0m \u001b[0my\u001b[0m\u001b[0;34m)\u001b[0m \u001b[0;32min\u001b[0m \u001b[0mtqdm\u001b[0m\u001b[0;34m.\u001b[0m\u001b[0mtqdm\u001b[0m\u001b[0;34m(\u001b[0m\u001b[0menumerate\u001b[0m\u001b[0;34m(\u001b[0m\u001b[0mbatch_sampler\u001b[0m\u001b[0;34m)\u001b[0m\u001b[0;34m)\u001b[0m\u001b[0;34m:\u001b[0m\u001b[0;34m\u001b[0m\u001b[0m\n\u001b[0m\u001b[1;32m     60\u001b[0m                 \u001b[0;31m# print(x.dtype, mask.dtype, y.dtype)\u001b[0m\u001b[0;34m\u001b[0m\u001b[0;34m\u001b[0m\u001b[0m\n\u001b[1;32m     61\u001b[0m                 \u001b[0mloss\u001b[0m\u001b[0;34m,\u001b[0m \u001b[0m_\u001b[0m \u001b[0;34m=\u001b[0m \u001b[0mself\u001b[0m\u001b[0;34m.\u001b[0m\u001b[0mmodel\u001b[0m\u001b[0;34m.\u001b[0m\u001b[0mstep\u001b[0m\u001b[0;34m(\u001b[0m\u001b[0mx\u001b[0m\u001b[0;34m,\u001b[0m \u001b[0mmask\u001b[0m\u001b[0;34m,\u001b[0m \u001b[0my\u001b[0m\u001b[0;34m)\u001b[0m\u001b[0;34m\u001b[0m\u001b[0m\n",
      "\u001b[0;32m~/.programs/anaconda2/envs/torch/lib/python3.5/site-packages/tqdm/_tqdm.py\u001b[0m in \u001b[0;36m__iter__\u001b[0;34m(self)\u001b[0m\n\u001b[1;32m    953\u001b[0m \"\"\", fp_write=getattr(self.fp, 'write', sys.stderr.write))\n\u001b[1;32m    954\u001b[0m \u001b[0;34m\u001b[0m\u001b[0m\n\u001b[0;32m--> 955\u001b[0;31m             \u001b[0;32mfor\u001b[0m \u001b[0mobj\u001b[0m \u001b[0;32min\u001b[0m \u001b[0miterable\u001b[0m\u001b[0;34m:\u001b[0m\u001b[0;34m\u001b[0m\u001b[0m\n\u001b[0m\u001b[1;32m    956\u001b[0m                 \u001b[0;32myield\u001b[0m \u001b[0mobj\u001b[0m\u001b[0;34m\u001b[0m\u001b[0m\n\u001b[1;32m    957\u001b[0m                 \u001b[0;31m# Update and possibly print the progressbar.\u001b[0m\u001b[0;34m\u001b[0m\u001b[0;34m\u001b[0m\u001b[0m\n",
      "\u001b[0;32m/media/itasarom/7158f0d7-af1d-45d4-855f-86204aed5a8b/Projects/diplom/simple_classifier/vocab.py\u001b[0m in \u001b[0;36m__next__\u001b[0;34m(self)\u001b[0m\n\u001b[1;32m    127\u001b[0m \u001b[0;34m\u001b[0m\u001b[0m\n\u001b[1;32m    128\u001b[0m \u001b[0;34m\u001b[0m\u001b[0m\n\u001b[0;32m--> 129\u001b[0;31m             \u001b[0;32mreturn\u001b[0m \u001b[0mself\u001b[0m\u001b[0;34m.\u001b[0m\u001b[0mget_batch\u001b[0m\u001b[0;34m(\u001b[0m\u001b[0mx\u001b[0m\u001b[0;34m,\u001b[0m \u001b[0my\u001b[0m\u001b[0;34m)\u001b[0m\u001b[0;34m\u001b[0m\u001b[0m\n\u001b[0m\u001b[1;32m    130\u001b[0m \u001b[0;34m\u001b[0m\u001b[0m\n\u001b[1;32m    131\u001b[0m \u001b[0;34m\u001b[0m\u001b[0m\n",
      "\u001b[0;32m/media/itasarom/7158f0d7-af1d-45d4-855f-86204aed5a8b/Projects/diplom/simple_classifier/vocab.py\u001b[0m in \u001b[0;36mget_batch\u001b[0;34m(self, x, y)\u001b[0m\n\u001b[1;32m    108\u001b[0m \u001b[0;34m\u001b[0m\u001b[0m\n\u001b[1;32m    109\u001b[0m     \u001b[0;32mdef\u001b[0m \u001b[0mget_batch\u001b[0m\u001b[0;34m(\u001b[0m\u001b[0mself\u001b[0m\u001b[0;34m,\u001b[0m \u001b[0mx\u001b[0m\u001b[0;34m,\u001b[0m \u001b[0my\u001b[0m\u001b[0;34m)\u001b[0m\u001b[0;34m:\u001b[0m\u001b[0;34m\u001b[0m\u001b[0m\n\u001b[0;32m--> 110\u001b[0;31m         \u001b[0mres_x\u001b[0m\u001b[0;34m,\u001b[0m \u001b[0mres_mask\u001b[0m \u001b[0;34m=\u001b[0m \u001b[0mself\u001b[0m\u001b[0;34m.\u001b[0m\u001b[0mvocab\u001b[0m\u001b[0;34m.\u001b[0m\u001b[0mtransform\u001b[0m\u001b[0;34m(\u001b[0m\u001b[0mx\u001b[0m\u001b[0;34m)\u001b[0m\u001b[0;34m\u001b[0m\u001b[0m\n\u001b[0m\u001b[1;32m    111\u001b[0m         \u001b[0mres_y\u001b[0m \u001b[0;34m=\u001b[0m \u001b[0mnp\u001b[0m\u001b[0;34m.\u001b[0m\u001b[0mzeros\u001b[0m\u001b[0;34m(\u001b[0m\u001b[0mshape\u001b[0m\u001b[0;34m=\u001b[0m\u001b[0;34m(\u001b[0m\u001b[0mlen\u001b[0m\u001b[0;34m(\u001b[0m\u001b[0my\u001b[0m\u001b[0;34m)\u001b[0m\u001b[0;34m,\u001b[0m \u001b[0mself\u001b[0m\u001b[0;34m.\u001b[0m\u001b[0mn_labels\u001b[0m\u001b[0;34m)\u001b[0m\u001b[0;34m)\u001b[0m\u001b[0;34m\u001b[0m\u001b[0m\n\u001b[1;32m    112\u001b[0m \u001b[0;34m\u001b[0m\u001b[0m\n",
      "\u001b[0;32m/media/itasarom/7158f0d7-af1d-45d4-855f-86204aed5a8b/Projects/diplom/simple_classifier/data_processing.py\u001b[0m in \u001b[0;36mtransform\u001b[0;34m(self, sents)\u001b[0m\n\u001b[1;32m     70\u001b[0m         \u001b[0;32mfor\u001b[0m \u001b[0msent_id\u001b[0m\u001b[0;34m,\u001b[0m \u001b[0msent\u001b[0m \u001b[0;32min\u001b[0m \u001b[0menumerate\u001b[0m\u001b[0;34m(\u001b[0m\u001b[0msents\u001b[0m\u001b[0;34m)\u001b[0m\u001b[0;34m:\u001b[0m\u001b[0;34m\u001b[0m\u001b[0m\n\u001b[1;32m     71\u001b[0m             \u001b[0msent\u001b[0m \u001b[0;34m=\u001b[0m \u001b[0msent\u001b[0m\u001b[0;34m[\u001b[0m\u001b[0;34m:\u001b[0m\u001b[0mbatch_max_length\u001b[0m\u001b[0;34m]\u001b[0m\u001b[0;34m\u001b[0m\u001b[0m\n\u001b[0;32m---> 72\u001b[0;31m             \u001b[0mcurrent\u001b[0m \u001b[0;34m=\u001b[0m \u001b[0mself\u001b[0m\u001b[0;34m.\u001b[0m\u001b[0mtransform_one\u001b[0m\u001b[0;34m(\u001b[0m\u001b[0msent\u001b[0m\u001b[0;34m)\u001b[0m\u001b[0;34m\u001b[0m\u001b[0m\n\u001b[0m\u001b[1;32m     73\u001b[0m             \u001b[0mresult\u001b[0m\u001b[0;34m[\u001b[0m\u001b[0msent_id\u001b[0m\u001b[0;34m,\u001b[0m \u001b[0;34m:\u001b[0m\u001b[0mlen\u001b[0m\u001b[0;34m(\u001b[0m\u001b[0mcurrent\u001b[0m\u001b[0;34m)\u001b[0m\u001b[0;34m]\u001b[0m \u001b[0;34m=\u001b[0m \u001b[0mcurrent\u001b[0m\u001b[0;34m\u001b[0m\u001b[0m\n\u001b[1;32m     74\u001b[0m             \u001b[0mmask\u001b[0m\u001b[0;34m[\u001b[0m\u001b[0msent_id\u001b[0m\u001b[0;34m,\u001b[0m \u001b[0;34m:\u001b[0m\u001b[0mlen\u001b[0m\u001b[0;34m(\u001b[0m\u001b[0mcurrent\u001b[0m\u001b[0;34m)\u001b[0m\u001b[0;34m]\u001b[0m \u001b[0;34m=\u001b[0m \u001b[0;36m1.0\u001b[0m\u001b[0;34m\u001b[0m\u001b[0m\n",
      "\u001b[0;32m/media/itasarom/7158f0d7-af1d-45d4-855f-86204aed5a8b/Projects/diplom/simple_classifier/data_processing.py\u001b[0m in \u001b[0;36mtransform_one\u001b[0;34m(self, sent)\u001b[0m\n\u001b[1;32m     53\u001b[0m         \u001b[0mresult\u001b[0m \u001b[0;34m=\u001b[0m \u001b[0mnp\u001b[0m\u001b[0;34m.\u001b[0m\u001b[0mzeros\u001b[0m\u001b[0;34m(\u001b[0m\u001b[0mshape\u001b[0m\u001b[0;34m=\u001b[0m\u001b[0;34m(\u001b[0m\u001b[0mlen\u001b[0m\u001b[0;34m(\u001b[0m\u001b[0msent\u001b[0m\u001b[0;34m)\u001b[0m \u001b[0;34m+\u001b[0m \u001b[0;36m1\u001b[0m\u001b[0;34m,\u001b[0m \u001b[0;34m)\u001b[0m\u001b[0;34m,\u001b[0m \u001b[0mdtype\u001b[0m\u001b[0;34m=\u001b[0m\u001b[0mnp\u001b[0m\u001b[0;34m.\u001b[0m\u001b[0mint32\u001b[0m\u001b[0;34m)\u001b[0m\u001b[0;34m\u001b[0m\u001b[0m\n\u001b[1;32m     54\u001b[0m         \u001b[0;32mfor\u001b[0m \u001b[0mword_id\u001b[0m\u001b[0;34m,\u001b[0m \u001b[0mword\u001b[0m \u001b[0;32min\u001b[0m \u001b[0menumerate\u001b[0m\u001b[0;34m(\u001b[0m\u001b[0msent\u001b[0m\u001b[0;34m)\u001b[0m\u001b[0;34m:\u001b[0m\u001b[0;34m\u001b[0m\u001b[0m\n\u001b[0;32m---> 55\u001b[0;31m             \u001b[0mresult\u001b[0m\u001b[0;34m[\u001b[0m\u001b[0mword_id\u001b[0m\u001b[0;34m]\u001b[0m \u001b[0;34m=\u001b[0m \u001b[0mself\u001b[0m\u001b[0;34m.\u001b[0m\u001b[0mtransformation\u001b[0m\u001b[0;34m[\u001b[0m\u001b[0mword\u001b[0m\u001b[0;34m]\u001b[0m\u001b[0;34m\u001b[0m\u001b[0m\n\u001b[0m\u001b[1;32m     56\u001b[0m \u001b[0;34m\u001b[0m\u001b[0m\n\u001b[1;32m     57\u001b[0m         \u001b[0mresult\u001b[0m\u001b[0;34m[\u001b[0m\u001b[0mword_id\u001b[0m \u001b[0;34m+\u001b[0m \u001b[0;36m1\u001b[0m\u001b[0;34m]\u001b[0m \u001b[0;34m=\u001b[0m \u001b[0mself\u001b[0m\u001b[0;34m.\u001b[0m\u001b[0mtransformation\u001b[0m\u001b[0;34m[\u001b[0m\u001b[0mself\u001b[0m\u001b[0;34m.\u001b[0m\u001b[0meos\u001b[0m\u001b[0;34m]\u001b[0m\u001b[0;34m\u001b[0m\u001b[0m\n",
      "\u001b[0;31mKeyboardInterrupt\u001b[0m: "
     ]
    }
   ],
   "source": [
    "trainer.train(batch_sampler=batch_sampler, n_epochs=200, max_iterations=10**5, save_path=\"./checkpoints/checkpoint.ckpt\", save_every=10)"
   ]
  },
  {
   "cell_type": "code",
   "execution_count": 31,
   "metadata": {
    "collapsed": false
   },
   "outputs": [
    {
     "data": {
      "text/plain": [
       "RnnClassifier(\n",
       "  (word_embeddings): Embedding(176032, 100)\n",
       "  (rnn_cell): LSTM(100, 128, batch_first=True)\n",
       "  (dense): Linear(in_features=128, out_features=256)\n",
       "  (logits_layer): Linear(in_features=256, out_features=26)\n",
       "  (softmax_layer): Softmax()\n",
       "  (loss_function): CrossEntropyLoss(\n",
       "  )\n",
       ")"
      ]
     },
     "execution_count": 31,
     "metadata": {},
     "output_type": "execute_result"
    }
   ],
   "source": [
    "cls"
   ]
  },
  {
   "cell_type": "code",
   "execution_count": 32,
   "metadata": {
    "collapsed": true
   },
   "outputs": [],
   "source": [
    "x, mask, y = batch_sampler.get_test()"
   ]
  },
  {
   "cell_type": "code",
   "execution_count": 52,
   "metadata": {
    "collapsed": false,
    "scrolled": true
   },
   "outputs": [
    {
     "data": {
      "image/png": "[encoded data removed]",
      "text/plain": [
       "<matplotlib.figure.Figure at 0x7f394437f9e8>"
      ]
     },
     "metadata": {},
     "output_type": "display_data"
    },
    {
     "data": {
      "image/png": "[encoded data removed]",
      "text/plain": [
       "<matplotlib.figure.Figure at 0x7f3944391dd8>"
      ]
     },
     "metadata": {},
     "output_type": "display_data"
    }
   ],
   "source": [
    "res = ev.describe(trainer, x, mask, y)"
   ]
  },
  {
   "cell_type": "code",
   "execution_count": 42,
   "metadata": {
    "collapsed": false,
    "scrolled": false
   },
   "outputs": [
    {
     "data": {
      "text/plain": [
       "((722, 1024, 0.705078125),\n",
       " {0: (50, 88, 0.5681818181818182),\n",
       "  1: (42, 66, 0.6363636363636364),\n",
       "  2: (52, 66, 0.7878787878787878),\n",
       "  3: (36, 42, 0.8571428571428571),\n",
       "  4: (10, 13, 0.7692307692307693),\n",
       "  5: (23, 34, 0.6764705882352942),\n",
       "  6: (31, 42, 0.7380952380952381),\n",
       "  7: (33, 42, 0.7857142857142857),\n",
       "  8: (19, 27, 0.7037037037037037),\n",
       "  9: (19, 25, 0.76),\n",
       "  10: (6, 11, 0.5454545454545454),\n",
       "  11: (15, 19, 0.7894736842105263),\n",
       "  12: (16, 35, 0.45714285714285713),\n",
       "  13: (72, 95, 0.7578947368421053),\n",
       "  14: (42, 53, 0.7924528301886793),\n",
       "  15: (18, 26, 0.6923076923076923),\n",
       "  16: (32, 34, 0.9411764705882353),\n",
       "  17: (9, 21, 0.42857142857142855),\n",
       "  18: (33, 57, 0.5789473684210527),\n",
       "  19: (10, 15, 0.6666666666666666),\n",
       "  20: (24, 34, 0.7058823529411765),\n",
       "  21: (10, 20, 0.5),\n",
       "  22: (46, 61, 0.7540983606557377),\n",
       "  23: (12, 17, 0.7058823529411765),\n",
       "  24: (22, 35, 0.6285714285714286),\n",
       "  25: (40, 46, 0.8695652173913043)},\n",
       " {0: (50, 69, 0.7246376811594203),\n",
       "  1: (42, 64, 0.65625),\n",
       "  2: (52, 66, 0.7878787878787878),\n",
       "  3: (36, 43, 0.8372093023255814),\n",
       "  4: (10, 15, 0.6666666666666666),\n",
       "  5: (23, 26, 0.8846153846153846),\n",
       "  6: (31, 41, 0.7560975609756098),\n",
       "  7: (33, 42, 0.7857142857142857),\n",
       "  8: (19, 27, 0.7037037037037037),\n",
       "  9: (19, 24, 0.7916666666666666),\n",
       "  10: (6, 19, 0.3157894736842105),\n",
       "  11: (15, 28, 0.5357142857142857),\n",
       "  12: (16, 37, 0.43243243243243246),\n",
       "  13: (72, 87, 0.8275862068965517),\n",
       "  14: (42, 46, 0.9130434782608695),\n",
       "  15: (18, 25, 0.72),\n",
       "  16: (32, 39, 0.8205128205128205),\n",
       "  17: (9, 20, 0.45),\n",
       "  18: (33, 79, 0.4177215189873418),\n",
       "  19: (10, 13, 0.7692307692307693),\n",
       "  20: (24, 39, 0.6153846153846154),\n",
       "  21: (10, 15, 0.6666666666666666),\n",
       "  22: (46, 68, 0.6764705882352942),\n",
       "  23: (12, 15, 0.8),\n",
       "  24: (22, 25, 0.88),\n",
       "  25: (40, 52, 0.7692307692307693)})"
      ]
     },
     "execution_count": 42,
     "metadata": {},
     "output_type": "execute_result"
    }
   ],
   "source": [
    "res"
   ]
  },
  {
   "cell_type": "code",
   "execution_count": 172,
   "metadata": {
    "collapsed": false
   },
   "outputs": [],
   "source": [
    "# batch_sampler.sents[0]"
   ]
  },
  {
   "cell_type": "code",
   "execution_count": 13,
   "metadata": {
    "collapsed": false
   },
   "outputs": [
    {
     "data": {
      "text/plain": [
       "{'юмористическое': 97279,\n",
       " 'antvr': 117037,\n",
       " 'видятся': 70454,\n",
       " 'бензиновым': 42506,\n",
       " 'передышка': 84835,\n",
       " 'асуров': 106613,\n",
       " 'формированиях': 91768,\n",
       " 'beads': 101058,\n",
       " 'декады': 78772,\n",
       " 'опровергали': 160438,\n",
       " 'злостного': 58964,\n",
       " 'побудило': 75897,\n",
       " 'оккупационными': 158400,\n",
       " 'правдоподобия': 136517,\n",
       " 'иллюминатора': 104619,\n",
       " 'ослик': 64485,\n",
       " 'мини': 2369,\n",
       " 'витает': 45503,\n",
       " 'броско': 142746,\n",
       " 'слой': 3080,\n",
       " 'расстраивать': 83501,\n",
       " 'боезапасом': 138432,\n",
       " 'проектной': 16554,\n",
       " 'отвар': 17070,\n",
       " 'форго': 147138,\n",
       " 'спреями': 165886,\n",
       " 'асперо': 159595,\n",
       " 'обяжут': 94070,\n",
       " 'возбуждения': 17893,\n",
       " 'готовым': 14569,\n",
       " 'дюссельдорф': 108463,\n",
       " 'торфяных': 54488,\n",
       " 'бычки': 64035,\n",
       " 'заявлением': 11966,\n",
       " 'предоставлены': 23318,\n",
       " 'ласковая': 61982,\n",
       " 'отвод': 66347,\n",
       " 'ретросклеропломбирование': 98681,\n",
       " 'билал': 162546,\n",
       " 'засветкой': 117957,\n",
       " 'избил': 21797,\n",
       " 'обиняков': 85647,\n",
       " 'карантине': 49844,\n",
       " 'комментировали': 63422,\n",
       " 'характеру': 21940,\n",
       " 'ихеаначо': 111350,\n",
       " 'пересмотр': 35790,\n",
       " 'непрозрачные': 112170,\n",
       " 'сорос': 33385,\n",
       " 'мыть': 9258,\n",
       " 'видавшие': 108503,\n",
       " 'шлифовку': 106542,\n",
       " 'хоронят': 108957,\n",
       " 'сопредседателей': 110511,\n",
       " 'antutu': 21816,\n",
       " 'легенды': 7723,\n",
       " 'хилькевич': 34910,\n",
       " 'наклейками': 66700,\n",
       " 'ворошиловского': 142729,\n",
       " 'антиповке': 175414,\n",
       " 'опознала': 111445,\n",
       " 'провайдером': 109930,\n",
       " 'бог': 1731,\n",
       " '6max': 100523,\n",
       " 'пней': 132328,\n",
       " 'соцветиями': 80642,\n",
       " 'троп': 66510,\n",
       " 'шампунем': 36957,\n",
       " 'ниццы': 95426,\n",
       " 'attachevent': 94520,\n",
       " 'видеосъемку': 57026,\n",
       " '1515': 139859,\n",
       " 'оплачены': 112365,\n",
       " 'женатых': 102264,\n",
       " 'ароматами': 53475,\n",
       " 'несуществующем': 163758,\n",
       " 'поменяло': 127099,\n",
       " 'нашивками': 122839,\n",
       " 'отозвана': 131584,\n",
       " 'макроэкономического': 88027,\n",
       " 'бобин': 122331,\n",
       " 'исаевич': 113276,\n",
       " '1638': 131123,\n",
       " 'отвертки': 105807,\n",
       " 'грянет': 155047,\n",
       " 'посл': 140536,\n",
       " 'зимою': 158723,\n",
       " '1010': 89115,\n",
       " 'ученых': 1551,\n",
       " 'нитки': 8651,\n",
       " 'приправленные': 131180,\n",
       " 'исписанные': 142878,\n",
       " 'рассеянным': 75591,\n",
       " 'извивается': 138535,\n",
       " 'венгерских': 75413,\n",
       " 'бросился': 22599,\n",
       " 'смелые': 17868,\n",
       " 'тройня': 94942,\n",
       " 'disc': 136681,\n",
       " 'ознаменовалась': 107130,\n",
       " 'царапинами': 61661,\n",
       " 'липопротеины': 136135,\n",
       " 'саркастично': 158704,\n",
       " 'нежностью': 39900,\n",
       " 'чернокожих': 38841,\n",
       " 'амиксин': 158893,\n",
       " 'хвостового': 123716,\n",
       " 'ингушетия': 60534,\n",
       " 'залпа': 138128,\n",
       " 'калвиньш': 130671,\n",
       " 'спровоцированного': 145479,\n",
       " 'вносил': 91377,\n",
       " 'прочая': 21258,\n",
       " 'логистики': 55378,\n",
       " 'примыкающая': 138681,\n",
       " 'умрем': 70067,\n",
       " 'маленькими': 10366,\n",
       " 'продвигаемых': 119658,\n",
       " 'малолетние': 81592,\n",
       " 'позвонят': 132771,\n",
       " 'курдами': 48069,\n",
       " 'ухом': 40161,\n",
       " 'судном': 57092,\n",
       " 'variable': 150356,\n",
       " 'рыбой': 14472,\n",
       " 'колина': 91447,\n",
       " 'заворачивают': 79086,\n",
       " 'тсн': 48920,\n",
       " 'четырехлетняя': 78762,\n",
       " 'дубля': 66754,\n",
       " 'атрибутов': 56868,\n",
       " 'высокочастотный': 113493,\n",
       " 'графы': 63961,\n",
       " 'миф': 4432,\n",
       " 'паноптикум': 153980,\n",
       " 'талантах': 172740,\n",
       " 'таинственная': 44446,\n",
       " 'всякое': 11310,\n",
       " 'помещено': 123239,\n",
       " 'разрушителю': 9215,\n",
       " 'вехи': 66610,\n",
       " 'projekt': 37366,\n",
       " 'консолидация': 147141,\n",
       " 'маркетинговые': 42780,\n",
       " 'раскапывать': 154609,\n",
       " 'конкурирующие': 118830,\n",
       " 'стэнфорда': 107892,\n",
       " 'самоотверженной': 130105,\n",
       " 'эстакада': 103852,\n",
       " 'оптимальна': 142339,\n",
       " 'потренируйтесь': 143566,\n",
       " 'античности': 51179,\n",
       " 'хвостатых': 130084,\n",
       " 'carmageddon': 118380,\n",
       " 'изначальная': 93702,\n",
       " 'автомашины': 59913,\n",
       " 'волонтёров': 79599,\n",
       " 'одолели': 115037,\n",
       " 'studios': 15391,\n",
       " 'кухонного': 34443,\n",
       " 'духовными': 50834,\n",
       " 'тамбэ': 100322,\n",
       " 'прошел': 2077,\n",
       " 'дши': 18116,\n",
       " 'пронзительных': 166679,\n",
       " 'костриков': 136396,\n",
       " 'joker': 84282,\n",
       " 'сужаются': 123075,\n",
       " 'выношу': 68098,\n",
       " 'yy2016': 147574,\n",
       " 'родниковой': 77605,\n",
       " 'кладбищ': 36488,\n",
       " 'успехом': 5818,\n",
       " 'ноутбуками': 121332,\n",
       " 'хлопковых': 148696,\n",
       " 'уволенного': 136298,\n",
       " 'душного': 132772,\n",
       " 'новичком': 87763,\n",
       " 'чрез': 90499,\n",
       " 'russe': 160572,\n",
       " 'авторской': 18860,\n",
       " 'электропередачи': 70961,\n",
       " 'раковой': 67642,\n",
       " 'кэ': 144786,\n",
       " 'титулованных': 94323,\n",
       " 'партита': 109850,\n",
       " 'согревающий': 124470,\n",
       " 'сенсацию': 56801,\n",
       " 'шумиха': 45832,\n",
       " 'волгарь': 168410,\n",
       " 'анайя': 160527,\n",
       " 'livescience': 126349,\n",
       " 'бюджетного': 22249,\n",
       " 'мультипликации': 80956,\n",
       " 'наношу': 29934,\n",
       " 'арабики': 71393,\n",
       " 'землянами': 139706,\n",
       " 'майонез': 13456,\n",
       " 'праздничное': 28115,\n",
       " 'кричал': 23570,\n",
       " 'тещин': 151323,\n",
       " 'франкофония': 138154,\n",
       " 'райский': 56182,\n",
       " 'sberbank': 41125,\n",
       " 'оказывая': 54048,\n",
       " 'волшебника': 43789,\n",
       " 'инстанцию': 101039,\n",
       " 'доносятся': 79055,\n",
       " 'купив': 25953,\n",
       " 'полупрозрачное': 114590,\n",
       " 'бьелса': 100905,\n",
       " 'голуби': 47224,\n",
       " 'вскрыв': 103304,\n",
       " 'мезьером': 143145,\n",
       " 'carlton': 120407,\n",
       " 'арендой': 88953,\n",
       " 'силовые': 19938,\n",
       " 'хвалятся': 135665,\n",
       " 'навальный': 13455,\n",
       " 'костюкевич': 163472,\n",
       " 'милым': 35133,\n",
       " 'авиасообщение': 38723,\n",
       " 'ретроспективу': 157039,\n",
       " 'одышкой': 121977,\n",
       " 'нечистого': 162486,\n",
       " 'контуром': 95623,\n",
       " 'вражда': 59869,\n",
       " 'саме': 170232,\n",
       " 'гитарной': 125278,\n",
       " 'низкокачественные': 132098,\n",
       " 'водяновой': 54576,\n",
       " 'визор': 168233,\n",
       " 'неузнаваемой': 166703,\n",
       " 'effects': 8614,\n",
       " 'иконку': 42729,\n",
       " 'visa': 33251,\n",
       " 'туран': 119674,\n",
       " 'скульптура': 16656,\n",
       " 'специализацию': 72126,\n",
       " 'согласуются': 89122,\n",
       " 'одиночных': 39957,\n",
       " 'знакомясь': 78582,\n",
       " 'просыпался': 57039,\n",
       " 'пузо': 80209,\n",
       " 'форестер': 131283,\n",
       " 'рельефы': 144207,\n",
       " 'спускались': 64428,\n",
       " 'уличного': 30241,\n",
       " 'tpx': 169482,\n",
       " 'капремонта': 21484,\n",
       " 'перемолоть': 121301,\n",
       " 'пересматривает': 137243,\n",
       " 'конины': 117739,\n",
       " 'превышая': 116510,\n",
       " 'зефиром': 152768,\n",
       " 'скрасить': 57357,\n",
       " 'вращаться': 36876,\n",
       " 'глядь': 127713,\n",
       " 'обтягивающее': 154612,\n",
       " 'ask': 14474,\n",
       " 'индустриализации': 43401,\n",
       " 'ведомостей': 25540,\n",
       " 'следуйте': 20265,\n",
       " 'капсульной': 173155,\n",
       " 'вычисление': 122186,\n",
       " 'позировать': 45988,\n",
       " 'разъяснила': 111298,\n",
       " 'давший': 89945,\n",
       " 'разрушив': 121303,\n",
       " 'термолюминесцентный': 159806,\n",
       " 'перепрошить': 147454,\n",
       " 'анонсировав': 147160,\n",
       " 'бутылке': 7341,\n",
       " 'демонстрировать': 15486,\n",
       " 'инквизиторы': 110553,\n",
       " 'вкладыши': 77454,\n",
       " 'dumbledore': 161812,\n",
       " 'стилистика': 39577,\n",
       " 'равновесием': 128273,\n",
       " 'прославляет': 129431,\n",
       " 'прерывания': 84676,\n",
       " 'любовался': 101539,\n",
       " 'совершенству': 38975,\n",
       " 'отрекаться': 173746,\n",
       " 'вирджин': 130032,\n",
       " 'столпотворение': 106682,\n",
       " 'спортивности': 154408,\n",
       " 'прервалась': 56855,\n",
       " 'отд': 172600,\n",
       " 'удобрения': 19862,\n",
       " 'подсказать': 28921,\n",
       " 'геронда': 118248,\n",
       " 'приметой': 153045,\n",
       " 'кульгавчук': 133352,\n",
       " 'benchmark': 59660,\n",
       " 'девелоперской': 58722,\n",
       " 'постоянное': 8668,\n",
       " 'осознавать': 17424,\n",
       " 'медовый': 35722,\n",
       " 'фискальной': 67107,\n",
       " 'медали': 13033,\n",
       " 'болта': 73240,\n",
       " 'звездные': 9452,\n",
       " 'изрёк': 141478,\n",
       " 'вероне': 127494,\n",
       " 'коллекцией': 42144,\n",
       " 'предварительного': 12821,\n",
       " 'деградацию': 116781,\n",
       " 'изображались': 123134,\n",
       " 'спрашиваем': 51050,\n",
       " 'скидочных': 119008,\n",
       " 'кустарниковых': 139667,\n",
       " 'боя': 4674,\n",
       " 'взгляните': 26786,\n",
       " 'продуманно': 89485,\n",
       " 'зверобоя': 83942,\n",
       " 'обновке': 157143,\n",
       " 'поставленных': 18958,\n",
       " 'церковном': 54801,\n",
       " 'пронеслась': 153773,\n",
       " 'лямин': 89120,\n",
       " 'поснимать': 75244,\n",
       " 'тюленей': 58423,\n",
       " 'посетителям': 15309,\n",
       " 'безналу': 116110,\n",
       " 'предопределило': 119833,\n",
       " 'поверхностями': 76454,\n",
       " 'костей': 7215,\n",
       " 'грузовичка': 132928,\n",
       " 'герметичный': 133717,\n",
       " 'ощущали': 56429,\n",
       " 'изысканность': 72919,\n",
       " 'предупреждать': 47791,\n",
       " 'гипоксией': 162228,\n",
       " 'делите': 92352,\n",
       " 'отдалить': 157583,\n",
       " 'амител': 154298,\n",
       " 'around': 41024,\n",
       " 'john': 22291,\n",
       " 'микроконтроллер': 64830,\n",
       " 'moving': 66741,\n",
       " 'обожаем': 80928,\n",
       " 'further': 122574,\n",
       " 'агрегатора': 136339,\n",
       " 'наниматель': 85701,\n",
       " 'можжевельника': 64836,\n",
       " 'купеческие': 166727,\n",
       " 'замирало': 134979,\n",
       " 'вишне': 173441,\n",
       " 'хевел': 156740,\n",
       " 'британском': 22124,\n",
       " 'встроенному': 81778,\n",
       " 'ледовый': 34726,\n",
       " 'нахмурился': 152315,\n",
       " 'учинил': 174455,\n",
       " 'субсчете': 156043,\n",
       " 'статичные': 125896,\n",
       " 'перископ': 106848,\n",
       " 'таможенной': 40215,\n",
       " 'непохожим': 95862,\n",
       " 'распределяю': 161724,\n",
       " 'прической': 33704,\n",
       " 'мухаджирин': 138845,\n",
       " 'осведомлены': 58681,\n",
       " 'норд': 69253,\n",
       " 'атакой': 68883,\n",
       " 'подрядные': 109289,\n",
       " 'треугольными': 159418,\n",
       " 'пренебрежения': 74503,\n",
       " 'жёстким': 79545,\n",
       " 'половые': 20495,\n",
       " 'соотносить': 121631,\n",
       " 'взрыва': 4578,\n",
       " '1937': 7651,\n",
       " 'пилотами': 83607,\n",
       " 'придумывали': 57003,\n",
       " 'десятилетиями': 23023,\n",
       " 'избирательная': 46680,\n",
       " 'невнимания': 175885,\n",
       " 'презентует': 57726,\n",
       " 'эдриан': 93080,\n",
       " 'увеличилась': 11075,\n",
       " 'уцелел': 78492,\n",
       " 'задерживаются': 52047,\n",
       " 'активно': 1011,\n",
       " 'дебютировал': 27131,\n",
       " 'баранины': 46514,\n",
       " 'щиколотки': 84016,\n",
       " 'посредника': 42385,\n",
       " 'дышится': 131124,\n",
       " 'черную': 11917,\n",
       " 'инсталляцией': 161637,\n",
       " 'калининского': 63228,\n",
       " 'каркасные': 113838,\n",
       " 'луиш': 77273,\n",
       " 'бунта': 60039,\n",
       " 'еееее': 154239,\n",
       " 'лейбла': 63135,\n",
       " 'осьминог': 87194,\n",
       " 'прям': 8112,\n",
       " 'возбуждаются': 127602,\n",
       " 'ховард': 46895,\n",
       " 'кировских': 121241,\n",
       " 'одолела': 81856,\n",
       " 'текстам': 48600,\n",
       " 'получившееся': 65447,\n",
       " 'дифференцированно': 110531,\n",
       " 'passat': 72429,\n",
       " 'советское': 7877,\n",
       " 'запеканки': 112973,\n",
       " 'гра': 44678,\n",
       " 'переносице': 120733,\n",
       " 'прибудут': 90802,\n",
       " 'прп': 74536,\n",
       " 'финансовый': 9291,\n",
       " 'лиловым': 154887,\n",
       " 'азур': 129735,\n",
       " 'изнеможения': 130713,\n",
       " 'увлекли': 150800,\n",
       " 'арагон': 120774,\n",
       " 'кронштейны': 115349,\n",
       " 'чудесами': 47624,\n",
       " 'птица': 9820,\n",
       " 'ильинский': 169367,\n",
       " 'херд': 56418,\n",
       " 'уткина': 47959,\n",
       " 'длинный': 7305,\n",
       " 'alla': 158429,\n",
       " 'белоснежный': 75979,\n",
       " 'пряжей': 69504,\n",
       " 'инициативных': 91281,\n",
       " 'нацистских': 64643,\n",
       " 'gods': 67618,\n",
       " 'выпустивший': 137476,\n",
       " 'краеведов': 97602,\n",
       " 'обновлена': 80837,\n",
       " 'чувственно': 120521,\n",
       " 'невероятный': 18867,\n",
       " 'японский': 10226,\n",
       " 'грузят': 84561,\n",
       " 'настанут': 173020,\n",
       " 'отеками': 116077,\n",
       " 'гипоталамуса': 137386,\n",
       " 'таможенном': 140771,\n",
       " 'магнитном': 92686,\n",
       " 'велопарковки': 163163,\n",
       " 'лунгина': 125592,\n",
       " 'психиатрии': 37423,\n",
       " 'делила': 109367,\n",
       " 'добропорядочные': 129821,\n",
       " 'мясника': 105038,\n",
       " 'подобного': 3300,\n",
       " 'батыра': 127077,\n",
       " 'удочерили': 125847,\n",
       " 'досрочных': 63162,\n",
       " 'булгакове': 153325,\n",
       " 'вписано': 154716,\n",
       " 'булавками': 68100,\n",
       " 'миль': 18625,\n",
       " 'избавления': 30652,\n",
       " 'убежден': 11061,\n",
       " 'mobility': 116518,\n",
       " 'энергетический': 24919,\n",
       " 'изысканиями': 136632,\n",
       " 'льдины': 115928,\n",
       " 'хрустящий': 147598,\n",
       " 'неприхотлив': 123657,\n",
       " 'подгузник': 72665,\n",
       " 'забирался': 121847,\n",
       " 'надоедливой': 163079,\n",
       " 'очном': 103851,\n",
       " 'эрнста': 59777,\n",
       " 'ведется': 4663,\n",
       " 'сорваны': 96828,\n",
       " 'приватного': 87362,\n",
       " 'обманул': 61650,\n",
       " 'казнят': 105810,\n",
       " 'окружают': 19891,\n",
       " 'watching': 147201,\n",
       " 'ожидал': 9928,\n",
       " 'установите': 20086,\n",
       " 'шептал': 127333,\n",
       " 'выезжающих': 61914,\n",
       " 'осаго': 16979,\n",
       " 'итерации': 63975,\n",
       " 'хорошего': 2493,\n",
       " 'дюку': 175013,\n",
       " 'роскошный': 19380,\n",
       " 'навесной': 91369,\n",
       " 'отреагирует': 42665,\n",
       " 'блогу': 123905,\n",
       " 'отнимут': 99083,\n",
       " 'неусыпным': 143084,\n",
       " 'шапочке': 61839,\n",
       " 'избегаете': 134022,\n",
       " 'акциями': 40329,\n",
       " 'москалев': 126923,\n",
       " 'многолетнему': 173425,\n",
       " 'идущие': 26826,\n",
       " 'anne': 86781,\n",
       " 'лосинах': 101767,\n",
       " 'московским': 20141,\n",
       " 'повеситься': 88488,\n",
       " 'миксером': 24431,\n",
       " 'всестороннее': 108487,\n",
       " 'условностей': 69751,\n",
       " 'машинная': 53451,\n",
       " 'взрывчатых': 35854,\n",
       " 'уголовным': 37353,\n",
       " 'автоматов': 23298,\n",
       " 'восьмилетний': 88204,\n",
       " 'сумерек': 72314,\n",
       " 'умниковой': 113014,\n",
       " 'бамбука': 70326,\n",
       " 'фотками': 132489,\n",
       " 'основателю': 71094,\n",
       " 'древовидные': 122983,\n",
       " 'демис': 162178,\n",
       " 'камню': 69659,\n",
       " 'открой': 52218,\n",
       " 'оплаченных': 142290,\n",
       " 'раковую': 118615,\n",
       " 'аналитических': 74574,\n",
       " 'чеховских': 114008,\n",
       " 'даешься': 123788,\n",
       " 'поленитесь': 53845,\n",
       " 'prairie': 99076,\n",
       " 'малышами': 44745,\n",
       " 'восстановил': 39061,\n",
       " 'психолого': 58378,\n",
       " 'опробовал': 94952,\n",
       " 'ногу': 4291,\n",
       " 'дошкольного': 29316,\n",
       " 'эротического': 64605,\n",
       " 'зубец': 145946,\n",
       " 'дозировкой': 152812,\n",
       " 'обеспечьте': 81001,\n",
       " 'бургомистра': 158397,\n",
       " 'ручьем': 126462,\n",
       " 'кричащие': 126720,\n",
       " 'металлических': 14314,\n",
       " 'рискует': 15397,\n",
       " 'чугунную': 73487,\n",
       " 'шляпы': 32813,\n",
       " 'ноябрьского': 161235,\n",
       " 'вершина': 31178,\n",
       " 'усеяны': 158590,\n",
       " 'монотонной': 93170,\n",
       " 'robin': 49542,\n",
       " 'талан': 123046,\n",
       " 'экспортера': 81756,\n",
       " 'режимами': 39386,\n",
       " 'простояла': 95872,\n",
       " 'создавайте': 43883,\n",
       " 'плеяда': 90511,\n",
       " 'солярка': 152850,\n",
       " 'занятость': 35750,\n",
       " 'rom': 39062,\n",
       " 'оформлена': 26961,\n",
       " 'финишный': 109491,\n",
       " 'полуслове': 160334,\n",
       " 'похитила': 83240,\n",
       " 'багамские': 116642,\n",
       " 'страстные': 40392,\n",
       " 'shank3': 138056,\n",
       " 'перескакивает': 112845,\n",
       " 'идентификация': 61827,\n",
       " 'нит': 73889,\n",
       " 'существенным': 24171,\n",
       " 'гейдара': 54355,\n",
       " 'пафосом': 69177,\n",
       " 'разрекламированная': 163323,\n",
       " 'поделок': 31252,\n",
       " 'организовывать': 25071,\n",
       " 'гертруда': 67942,\n",
       " 'евы': 43311,\n",
       " 'табло': 23493,\n",
       " 'кингом': 93662,\n",
       " 'платонова': 46916,\n",
       " 'доминации': 132385,\n",
       " 'многообразной': 168918,\n",
       " 'пользовательское': 50932,\n",
       " 'провернул': 151271,\n",
       " 'конвенции': 33088,\n",
       " 'кружках': 76305,\n",
       " 'роли': 1031,\n",
       " 'хелен': 38357,\n",
       " 'изящнее': 99507,\n",
       " 'незаконно': 9048,\n",
       " 'смешивание': 99485,\n",
       " 'полагалось': 42587,\n",
       " 'кану': 128611,\n",
       " 'пе': 90974,\n",
       " 'жёстком': 60493,\n",
       " 'вышеперечисленным': 135416,\n",
       " 'изобретательным': 130170,\n",
       " 'безвредно': 83139,\n",
       " 'бдительности': 63167,\n",
       " 'айвазовского': 118030,\n",
       " 'света': 1131,\n",
       " 'балансирует': 69408,\n",
       " 'эпидемический': 31197,\n",
       " 'карнавалы': 151569,\n",
       " 'феерические': 112507,\n",
       " 'растят': 109231,\n",
       " 'нагрей': 172916,\n",
       " 'гбит': 23093,\n",
       " 'завесу': 37292,\n",
       " 'твите': 39887,\n",
       " 'панорамы': 28036,\n",
       " 'высаживать': 33125,\n",
       " 'учредителями': 62468,\n",
       " 'бухучет': 12710,\n",
       " 'офиса': 8272,\n",
       " 'теракт': 19624,\n",
       " 'олене': 161032,\n",
       " 'быком': 132837,\n",
       " 'пиковое': 94321,\n",
       " 'семявысевающий': 165541,\n",
       " 'файлов': 8135,\n",
       " 'протестовать': 46751,\n",
       " 'тверк': 80812,\n",
       " 'родины': 10903,\n",
       " 'x5470': 146784,\n",
       " 'лети': 64982,\n",
       " 'blank': 90241,\n",
       " 'кадрированном': 120520,\n",
       " 'яхонтов': 163864,\n",
       " 'хаотизм': 109538,\n",
       " 'племянницы': 82598,\n",
       " 'приказного': 146193,\n",
       " 'усыновил': 79635,\n",
       " 'подарком': 11870,\n",
       " 'пахом': 49819,\n",
       " 'тактовая': 61730,\n",
       " 'настойки': 37467,\n",
       " 'гендерных': 67609,\n",
       " 'кусаются': 82620,\n",
       " 'профессиональные': 7241,\n",
       " 'разведения': 34396,\n",
       " 'изгнание': 50922,\n",
       " 'разозлил': 173004,\n",
       " 'отварного': 76184,\n",
       " 'користувач': 58492,\n",
       " 'автоматы': 24494,\n",
       " 'бердчанин': 166862,\n",
       " 'между': 159,\n",
       " 'фабрикой': 72935,\n",
       " 'карпович': 123099,\n",
       " 'извиняется': 90206,\n",
       " 'агенте': 133183,\n",
       " 'полости': 9797,\n",
       " 'сексологии': 99539,\n",
       " 'сайд': 119979,\n",
       " 'ich': 68441,\n",
       " 'виллы': 26273,\n",
       " 'тренажёр': 85981,\n",
       " 'номинал': 107209,\n",
       " 'квадрата': 21419,\n",
       " 'муаммар': 116495,\n",
       " 'относили': 103495,\n",
       " 'улучшиться': 135119,\n",
       " 'решено': 5668,\n",
       " 'пересекли': 44060,\n",
       " 'окрасил': 164837,\n",
       " 'заставлен': 126687,\n",
       " '291': 40580,\n",
       " 'вдов': 135592,\n",
       " '803': 87188,\n",
       " 'съедая': 131893,\n",
       " 'нуждающемуся': 131327,\n",
       " '09': 1108,\n",
       " 'удаляются': 23481,\n",
       " 'небрежности': 116117,\n",
       " 'беря': 69498,\n",
       " 'окольными': 126821,\n",
       " 'бильярд': 36381,\n",
       " 'административную': 66162,\n",
       " 'деллал': 156411,\n",
       " 'говорухин': 112765,\n",
       " 'спичечные': 162039,\n",
       " 'угадай': 61551,\n",
       " 'феминистский': 124745,\n",
       " 'форсайт': 119501,\n",
       " 'знакомую': 41691,\n",
       " 'родового': 67747,\n",
       " 'приезжающих': 49219,\n",
       " 'теноновой': 125071,\n",
       " 'пенисов': 129999,\n",
       " 'служанка': 91678,\n",
       " 'допиши': 146079,\n",
       " 'таблиц': 46092,\n",
       " 'двухконтурный': 147100,\n",
       " 'гимнастка': 56205,\n",
       " 'миллиардеры': 58120,\n",
       " 'широкая': 15254,\n",
       " 'отягощенные': 149296,\n",
       " 'уцелевших': 66922,\n",
       " 'ажиотаж': 15535,\n",
       " 'положении': 3607,\n",
       " 'певица': 2023,\n",
       " 'адекватные': 27753,\n",
       " 'телескопов': 51487,\n",
       " 'утверждаем': 105350,\n",
       " 'навесные': 50929,\n",
       " 'юр': 76901,\n",
       " 'quo': 175688,\n",
       " 'copper': 151628,\n",
       " 'ветреную': 126287,\n",
       " 'маре': 90954,\n",
       " 'путаницу': 90600,\n",
       " '2281': 82097,\n",
       " 'накаливания': 31835,\n",
       " 'продуктовых': 42694,\n",
       " 'sergovsspb': 125727,\n",
       " 'лермонтова': 39294,\n",
       " 'вытекают': 75181,\n",
       " 'селекции': 46777,\n",
       " 'богатые': 10233,\n",
       " 'посильную': 81011,\n",
       " 'asian': 127761,\n",
       " 'ничё': 121966,\n",
       " 'range': 27503,\n",
       " 'убьют': 39300,\n",
       " 'задохнулась': 164969,\n",
       " 'наставника': 25991,\n",
       " 'вызвавшую': 156611,\n",
       " 'потрясающей': 35034,\n",
       " 'брусчаткой': 74450,\n",
       " 'японским': 36798,\n",
       " 'зрелищным': 109807,\n",
       " '1737': 117617,\n",
       " 'мучителей': 116075,\n",
       " 'оптимистом': 48552,\n",
       " 'майскими': 118511,\n",
       " 'нервы': 8665,\n",
       " 'комете': 83456,\n",
       " 'разложила': 107166,\n",
       " 'двушек': 113734,\n",
       " 'киргизском': 153810,\n",
       " 'дурдом': 68216,\n",
       " '80см': 161194,\n",
       " 'абонентскую': 87044,\n",
       " 'татарской': 22169,\n",
       " 'поломаны': 173971,\n",
       " 'линзой': 110462,\n",
       " 'окошке': 50125,\n",
       " 'doing': 92290,\n",
       " 'фотохудожника': 87518,\n",
       " 'дураки': 30198,\n",
       " 'сайентологии': 136020,\n",
       " 'геем': 130733,\n",
       " 'социологам': 144834,\n",
       " 'завершилась': 17830,\n",
       " 'маршрутку': 61361,\n",
       " 'эластичной': 43355,\n",
       " 'общепринятом': 154393,\n",
       " 'z6': 43609,\n",
       " 'сверхмассивную': 153815,\n",
       " 'звери': 17052,\n",
       " 'составляешь': 174285,\n",
       " 'гипертонии': 24300,\n",
       " 'убежали': 54984,\n",
       " 'девелоперских': 88441,\n",
       " 'теле': 4429,\n",
       " 'новгородской': 28787,\n",
       " 'привязывает': 92561,\n",
       " 'дурдома': 175663,\n",
       " 'xmp': 118997,\n",
       " 'отныне': 9774,\n",
       " 'энтузиастам': 168319,\n",
       " 'пустякам': 52935,\n",
       " 'заявленного': 49478,\n",
       " 'червоненкиса': 131535,\n",
       " 'фольклором': 92089,\n",
       " 'меховая': 132897,\n",
       " 'снимаешь': 77242,\n",
       " 'десятину': 147782,\n",
       " 'даше': 113874,\n",
       " 'напечатают': 78177,\n",
       " 'ванили': 32437,\n",
       " 'mac': 9965,\n",
       " 'переедет': 65980,\n",
       " 'витаминным': 168605,\n",
       " 'мостовяк': 121790,\n",
       " 'манку': 110187,\n",
       " 'погодиной': 163918,\n",
       " 'издании': 15833,\n",
       " 'огородничеством': 165607,\n",
       " 'замашками': 116386,\n",
       " 'предостерегала': 174170,\n",
       " 'навигационная': 153946,\n",
       " 'наполнена': 41910,\n",
       " 'выживанием': 113751,\n",
       " 'учите': 39510,\n",
       " 'византия': 78934,\n",
       " 'закончивший': 138934,\n",
       " 'похоронной': 145280,\n",
       " 'чайной': 15314,\n",
       " 'потоп': 40730,\n",
       " 'ветхие': 90542,\n",
       " 'попробовав': 53386,\n",
       " 'изобрела': 86248,\n",
       " 'ежегодном': 41627,\n",
       " 'overdrive': 139819,\n",
       " 'поверьям': 96177,\n",
       " 'разочарования': 18110,\n",
       " 'накладные': 29426,\n",
       " 'последовательными': 140405,\n",
       " 'штурвала': 115914,\n",
       " 'срочные': 56980,\n",
       " 'рутиной': 88457,\n",
       " 'социализму': 99716,\n",
       " 'unmanned': 170342,\n",
       " 'отказавшийся': 113358,\n",
       " 'приобретаем': 145507,\n",
       " 'курбанназар': 110024,\n",
       " 'читательские': 139486,\n",
       " 'скрипа': 93591,\n",
       " 'флейте': 111517,\n",
       " 'адвокатами': 65376,\n",
       " 'северный': 7679,\n",
       " 'банки': 2544,\n",
       " 'прикрывающих': 164737,\n",
       " 'тротуаре': 46011,\n",
       " '0мм': 85188,\n",
       " 'эзотерика': 83920,\n",
       " 'рейхом': 160530,\n",
       " 'настораживать': 103350,\n",
       " 'кабаре': 33014,\n",
       " 'самиздата': 87449,\n",
       " 'приватность': 49851,\n",
       " 'суммирование': 127746,\n",
       " 'таблице': 13498,\n",
       " 'бурка': 119973,\n",
       " 'окрашенным': 129607,\n",
       " 'отвергнутым': 102353,\n",
       " 'альбомам': 150621,\n",
       " 'попросив': 51427,\n",
       " 'носа': 6321,\n",
       " 'притягивает': 26462,\n",
       " 'повторяющий': 117446,\n",
       " 'садчиков': 125947,\n",
       " 'считают': 823,\n",
       " 'kills': 147867,\n",
       " 'роботам': 102916,\n",
       " 'осмысленную': 153100,\n",
       " 'хохол': 69975,\n",
       " 'вспененный': 155378,\n",
       " 'нагреваем': 97868,\n",
       " 'перехватив': 129131,\n",
       " 'аллан': 64397,\n",
       " 'владикавказ': 80751,\n",
       " 'чепуху': 135856,\n",
       " 'непреодолимое': 100794,\n",
       " 'курреж': 116541,\n",
       " 'находящимся': 36315,\n",
       " 'диетологом': 112145,\n",
       " 'выдавили': 140175,\n",
       " 'подконтрольного': 142562,\n",
       " 'сахалине': 47157,\n",
       " 'рубашка': 19020,\n",
       " 'заболела': 29497,\n",
       " 'продуктовые': 49118,\n",
       " 'принятой': 65466,\n",
       " 'посвятивший': 136500,\n",
       " 'ускорится': 139344,\n",
       " 'usrf': 82766,\n",
       " 'брус': 8117,\n",
       " 'неразлучны': 101758,\n",
       " 'аромат': 4560,\n",
       " 'принцессе': 55036,\n",
       " 'изданием': 32397,\n",
       " 'apk': 74412,\n",
       " 'сетчатка': 137725,\n",
       " 'испытательная': 142474,\n",
       " 'линией': 16857,\n",
       " 'переносы': 107852,\n",
       " 'невиданное': 90649,\n",
       " 'дио': 26597,\n",
       " 'огорошили': 141056,\n",
       " 'заказчики': 22552,\n",
       " 'гнили': 61653,\n",
       " 'раздоры': 172515,\n",
       " 'subway': 99581,\n",
       " 'доцента': 61025,\n",
       " '1020': 60921,\n",
       " 'отрезаны': 67366,\n",
       " 'бактериальная': 113762,\n",
       " 'виделось': 93764,\n",
       " 'af': 49350,\n",
       " 'хорватию': 90799,\n",
       " 'ости': 158112,\n",
       " 'прокатных': 109901,\n",
       " 'гинкго': 152636,\n",
       " 'раскаиваться': 116201,\n",
       " 'горячих': 15756,\n",
       " 'успокаивающим': 82428,\n",
       " 'третьякова': 57289,\n",
       " 'progorod33': 91500,\n",
       " 'канитель': 168152,\n",
       " 'дезинформацию': 153356,\n",
       " 'платное': 56668,\n",
       " 'шальке': 47464,\n",
       " 'осмысления': 46858,\n",
       " 'освидетельствования': 42358,\n",
       " 'поступлении': 32982,\n",
       " 'прибавлять': 64607,\n",
       " 'водоизмещения': 174085,\n",
       " 'насыщения': 35527,\n",
       " 'грузинки': 158060,\n",
       " 'воспитательницу': 156128,\n",
       " 'леванте': 172776,\n",
       " 'показывать': 4854,\n",
       " 'евгеника': 65617,\n",
       " 'парников': 172292,\n",
       " 'стрептококка': 102130,\n",
       " 'секретным': 70391,\n",
       " 'ga': 30805,\n",
       " 'восхитительных': 58312,\n",
       " 'проема': 60591,\n",
       " 'гиппократа': 86894,\n",
       " 'лимассол': 127532,\n",
       " 'напиткам': 105391,\n",
       " 'созвал': 152725,\n",
       " 'вздыхаем': 136235,\n",
       " 'стихотворений': 32005,\n",
       " 'озеленение': 36992,\n",
       " 'смоль': 146702,\n",
       " 'полноценное': 21325,\n",
       " 'астрономам': 74119,\n",
       " 'склад': 14484,\n",
       " 'нарастать': 60972,\n",
       " 'олегович': 138764,\n",
       " 'вооруженном': 134738,\n",
       " 'фильмов': 1705,\n",
       " 'докризисном': 170952,\n",
       " 'сардины': 124141,\n",
       " 'аксессуар': 17565,\n",
       " 'разжигая': 125955,\n",
       " 'фотосинтеза': 87837,\n",
       " 'моруа': 171755,\n",
       " 'сакральность': 130402,\n",
       " 'глушковой': 94114,\n",
       " 'брюках': 40671,\n",
       " 'портам': 85591,\n",
       " 'перечень': 5637,\n",
       " 'элементарным': 133468,\n",
       " 'nippon': 47835,\n",
       " 'низкочастотный': 131118,\n",
       " 'уролог': 62788,\n",
       " 'напоминания': 49058,\n",
       " 'нездоровится': 171963,\n",
       " 'бережным': 147333,\n",
       " 'кошмарных': 133719,\n",
       " 'модными': 37127,\n",
       " 'неисполнения': 34795,\n",
       " 'испуганного': 145702,\n",
       " 'индонезии': 20453,\n",
       " 'цилиндрического': 114706,\n",
       " 'подорожать': 61056,\n",
       " 'заболеваний': 1865,\n",
       " 'грамотной': 60014,\n",
       " 'паб': 53658,\n",
       " 'брускетты': 122299,\n",
       " 'часы': 2217,\n",
       " 'мнимых': 140773,\n",
       " 'прилегающая': 76089,\n",
       " 'пенсионным': 87739,\n",
       " 'содой': 35456,\n",
       " 'джеки': 40844,\n",
       " 'комплектные': 171464,\n",
       " 'должностях': 55871,\n",
       " 'воздвигнут': 118134,\n",
       " 'критиковали': 47361,\n",
       " 'сажайте': 35234,\n",
       " 'надводными': 174585,\n",
       " 'генделя': 129238,\n",
       " 'синьцзян': 128213,\n",
       " 'целевому': 86763,\n",
       " 'подрался': 128024,\n",
       " 'эйр': 35788,\n",
       " 'недоступности': 86591,\n",
       " 'кипра': 22240,\n",
       " 'дамира': 130634,\n",
       " 'страховыми': 100430,\n",
       " 'img': 20338,\n",
       " 'толстяк': 81494,\n",
       " 'курочкин': 107857,\n",
       " 'скулкина': 65571,\n",
       " 'симфо': 171165,\n",
       " 'стефания': 60316,\n",
       " 'козырев': 73728,\n",
       " 'похвалил': 47326,\n",
       " 'киномакс': 173922,\n",
       " 'яичко': 57454,\n",
       " 'тигре': 144889,\n",
       " 'tweet': 57937,\n",
       " 'бабьего': 111583,\n",
       " 'разнеслась': 175312,\n",
       " ...}"
      ]
     },
     "execution_count": 13,
     "metadata": {},
     "output_type": "execute_result"
    }
   ],
   "source": [
    "vocab.transformation"
   ]
  },
  {
   "cell_type": "code",
   "execution_count": null,
   "metadata": {
    "collapsed": true
   },
   "outputs": [],
   "source": []
  }
 ],
 "metadata": {
  "kernelspec": {
   "display_name": "Python [torch]",
   "language": "python",
   "name": "Python [torch]"
  },
  "language_info": {
   "codemirror_mode": {
    "name": "ipython",
    "version": 3
   },
   "file_extension": ".py",
   "mimetype": "text/x-python",
   "name": "python",
   "nbconvert_exporter": "python",
   "pygments_lexer": "ipython3",
   "version": "3.5.4"
  }
 },
 "nbformat": 4,
 "nbformat_minor": 0
}
